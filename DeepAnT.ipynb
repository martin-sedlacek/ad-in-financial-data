{
 "cells": [
  {
   "cell_type": "code",
   "execution_count": 1,
   "id": "c392818c",
   "metadata": {},
   "outputs": [],
   "source": [
    "import torch\n",
    "import data_utils\n",
    "from models.DeepAnT import DeepAnT_CNN, DeepAnT_LSTM\n",
    "from training.DeepAnT_train import train_kdd99, train_financial\n",
    "import matplotlib.pyplot as plt"
   ]
  },
  {
   "cell_type": "code",
   "execution_count": 2,
   "id": "3de8d96e",
   "metadata": {},
   "outputs": [
    {
     "name": "stdout",
     "output_type": "stream",
     "text": [
      "cuda\n"
     ]
    }
   ],
   "source": [
    "# Try to use GPU if available\n",
    "DEVICE = torch.device(\"cuda\" if torch.cuda.is_available() else \"cpu\")\n",
    "print(DEVICE)"
   ]
  },
  {
   "cell_type": "markdown",
   "id": "68ff36bf",
   "metadata": {},
   "source": [
    "# Hyperparameters"
   ]
  },
  {
   "cell_type": "code",
   "execution_count": 3,
   "id": "f616f277",
   "metadata": {},
   "outputs": [],
   "source": [
    "# choose between CNN and LSTM based DeepAnT\n",
    "model_type = \"CNN\"\n",
    "# choose dataset (e.g., kdd99, aapl, gm, axp, etc.)\n",
    "dataset = \"kdd99\""
   ]
  },
  {
   "cell_type": "code",
   "execution_count": 4,
   "id": "6a866168",
   "metadata": {},
   "outputs": [],
   "source": [
    "if model_type == \"LSTM\":\n",
    "    # Data\n",
    "    num_features = 7\n",
    "    seq_length = 30\n",
    "    seq_stride = 10\n",
    "    gen_seq_len = seq_length\n",
    "    batch_size = 8\n",
    "    # Model\n",
    "    hidden_dim = 128\n",
    "    layers = 4\n",
    "    anm_det_thr = 0.5\n",
    "    # Training\n",
    "    num_epochs = 100\n",
    "    lr=1e-5\n",
    "    wd=5e-6"
   ]
  },
  {
   "cell_type": "code",
   "execution_count": 5,
   "id": "8b5ca30e",
   "metadata": {},
   "outputs": [],
   "source": [
    "if model_type == \"CNN\":\n",
    "    # Data\n",
    "    num_features = 34\n",
    "    seq_length = 30\n",
    "    seq_stride = 1\n",
    "    gen_seq_len = 1\n",
    "    batch_size = 256\n",
    "    # Model\n",
    "    dense_dim = 448 \n",
    "    num_channels = 64\n",
    "    kernel_size = 3\n",
    "    anm_det_thr = 0.5\n",
    "    # Training\n",
    "    num_epochs = 100\n",
    "    lr=1e-5\n",
    "    wd=5e-6"
   ]
  },
  {
   "cell_type": "markdown",
   "id": "d3837cf6",
   "metadata": {},
   "source": [
    "# Dataset"
   ]
  },
  {
   "cell_type": "code",
   "execution_count": 6,
   "id": "37bb455b",
   "metadata": {},
   "outputs": [],
   "source": [
    "if dataset == \"kdd99\":\n",
    "    train_dl, test_dl = data_utils.kdd99(seq_length, seq_stride, num_features, gen_seq_len, batch_size, deepant=True)\n",
    "else:\n",
    "    file_path = 'data/financial_data/Stocks/' + dataset + '.us.txt'\n",
    "    tscv_dl_list = data_utils.load_stock_as_crossvalidated_timeseries(file_path, seq_length, seq_stride, gen_seq_len, batch_size, normalise=True)"
   ]
  },
  {
   "cell_type": "markdown",
   "id": "2c9d66d5",
   "metadata": {},
   "source": [
    "# Model "
   ]
  },
  {
   "cell_type": "code",
   "execution_count": 7,
   "id": "b4e0bc9b",
   "metadata": {},
   "outputs": [],
   "source": [
    "if model_type == \"LSTM\":\n",
    "    model = DeepAnT_LSTM(num_features,hidden_dim,layers,anm_det_thr).to(DEVICE)\n",
    "elif model_type == \"CNN\":\n",
    "    model = DeepAnT_CNN(seq_length,num_features, kernel_size, dense_dim, num_channels, anm_det_thr).to(DEVICE)"
   ]
  },
  {
   "cell_type": "markdown",
   "id": "d96d7d9e",
   "metadata": {},
   "source": [
    "# Loss & Optimizer"
   ]
  },
  {
   "cell_type": "code",
   "execution_count": 8,
   "id": "878fffd1",
   "metadata": {},
   "outputs": [],
   "source": [
    "loss_function = torch.nn.MSELoss(reduction='mean')\n",
    "optimizer = torch.optim.Adam(list(model.parameters()), lr=lr, weight_decay=wd)"
   ]
  },
  {
   "cell_type": "markdown",
   "id": "59e27a7c",
   "metadata": {},
   "source": [
    "# Training & Evaluation"
   ]
  },
  {
   "cell_type": "code",
   "execution_count": 9,
   "id": "c487d147",
   "metadata": {},
   "outputs": [
    {
     "name": "stdout",
     "output_type": "stream",
     "text": [
      "Epoch 0 loss: 0.4478282312072837\n",
      "Epoch 1 loss: 0.21379268170759577\n",
      "Epoch 2 loss: 0.13833458478145833\n",
      "Epoch 3 loss: 0.10143014830170462\n",
      "Epoch 4 loss: 0.08083137006083022\n",
      "Epoch 5 loss: 0.0676886619636293\n",
      "Epoch 6 loss: 0.05809296394156145\n",
      "Epoch 7 loss: 0.051758765446892854\n",
      "Epoch 8 loss: 0.0474901528215959\n",
      "Epoch 9 loss: 0.04423126701857347\n",
      "Epoch 10 loss: 0.041280782243604\n",
      "Epoch 11 loss: 0.03885998937539149\n",
      "Epoch 12 loss: 0.03732803029474083\n",
      "Epoch 13 loss: 0.03604963183204627\n",
      "Epoch 14 loss: 0.035038715726104605\n",
      "Epoch 15 loss: 0.034142096125481344\n",
      "Epoch 16 loss: 0.03326069459091901\n",
      "Epoch 17 loss: 0.03255846147952388\n",
      "Epoch 18 loss: 0.03152491681872917\n",
      "Epoch 19 loss: 0.03056418220014479\n",
      "Epoch 20 loss: 0.02964132027526742\n",
      "Epoch 21 loss: 0.029046731581763078\n",
      "Epoch 22 loss: 0.02856165246252084\n",
      "Epoch 23 loss: 0.028095763378459104\n",
      "Epoch 24 loss: 0.02773205123241511\n",
      "Epoch 25 loss: 0.027316071405925423\n",
      "Epoch 26 loss: 0.027032986312975762\n",
      "Epoch 27 loss: 0.02665660085142147\n",
      "Epoch 28 loss: 0.026309480324292596\n",
      "Epoch 29 loss: 0.02576092373949387\n",
      "Epoch 30 loss: 0.025448897690289688\n",
      "Epoch 31 loss: 0.025207792152300932\n",
      "Epoch 32 loss: 0.02488712737108693\n",
      "Epoch 33 loss: 0.024442824465551183\n",
      "Epoch 34 loss: 0.02420280088954993\n",
      "Epoch 35 loss: 0.023989631636699846\n",
      "Epoch 36 loss: 0.023728295912712635\n",
      "Epoch 37 loss: 0.0235659021553132\n",
      "Epoch 38 loss: 0.02337335744146961\n",
      "Epoch 39 loss: 0.023187712713453747\n",
      "Epoch 40 loss: 0.023009048752583357\n",
      "Epoch 41 loss: 0.022843634955581612\n",
      "Epoch 42 loss: 0.022652005059301216\n",
      "Epoch 43 loss: 0.022361878237636607\n",
      "Epoch 44 loss: 0.02213765506161666\n",
      "Epoch 45 loss: 0.022002171463484405\n",
      "Epoch 46 loss: 0.021832988126492522\n",
      "Epoch 47 loss: 0.0216849194267323\n",
      "Epoch 48 loss: 0.02156940672265151\n",
      "Epoch 49 loss: 0.021437496079778844\n",
      "Epoch 50 loss: 0.021197165988010944\n",
      "Epoch 51 loss: 0.021036286228775136\n",
      "Epoch 52 loss: 0.020920598328378073\n",
      "Epoch 53 loss: 0.02080016631063313\n",
      "Epoch 54 loss: 0.02069168196674004\n",
      "Epoch 55 loss: 0.020549429418001124\n",
      "Epoch 56 loss: 0.020441477119364778\n",
      "Epoch 57 loss: 0.02036562838333476\n",
      "Epoch 58 loss: 0.020274634889725886\n",
      "Epoch 59 loss: 0.02014457882612157\n",
      "Epoch 60 loss: 0.020070365860059513\n",
      "Epoch 61 loss: 0.019982827693379952\n",
      "Epoch 62 loss: 0.01989374383537944\n",
      "Epoch 63 loss: 0.01980430291012662\n",
      "Epoch 64 loss: 0.019718982928937395\n",
      "Epoch 65 loss: 0.019666724692916512\n",
      "Epoch 66 loss: 0.019559735709925946\n",
      "Epoch 67 loss: 0.019493493355359607\n",
      "Epoch 68 loss: 0.019414092115227016\n",
      "Epoch 69 loss: 0.019368173370140355\n",
      "Epoch 70 loss: 0.019251665547676638\n",
      "Epoch 71 loss: 0.01920184437702692\n",
      "Epoch 72 loss: 0.019139190974043794\n",
      "Epoch 73 loss: 0.019020155923416465\n",
      "Epoch 74 loss: 0.018988591966227302\n",
      "Epoch 75 loss: 0.01893507714777961\n",
      "Epoch 76 loss: 0.018868350360074542\n",
      "Epoch 77 loss: 0.018799940122458465\n",
      "Epoch 78 loss: 0.01873411713095961\n",
      "Epoch 79 loss: 0.018678358376185544\n",
      "Epoch 80 loss: 0.018666599089348444\n",
      "Epoch 81 loss: 0.01860886949873718\n",
      "Epoch 82 loss: 0.018548936676573133\n",
      "Epoch 83 loss: 0.018470842588792946\n",
      "Epoch 84 loss: 0.018401098707317796\n",
      "Epoch 85 loss: 0.018377525786817086\n",
      "Epoch 86 loss: 0.01833354960342816\n",
      "Epoch 87 loss: 0.018261167192157625\n",
      "Epoch 88 loss: 0.018235892290567397\n",
      "Epoch 89 loss: 0.01818103872135309\n",
      "Epoch 90 loss: 0.018107939830315237\n",
      "Epoch 91 loss: 0.01805749506798552\n",
      "Epoch 92 loss: 0.01801674618872377\n",
      "Epoch 93 loss: 0.017991014643291222\n",
      "Epoch 94 loss: 0.017899322482148115\n",
      "Epoch 95 loss: 0.017870500752457337\n",
      "Epoch 96 loss: 0.01785991109518057\n",
      "Epoch 97 loss: 0.01779949534220242\n",
      "Epoch 98 loss: 0.01776009541332152\n",
      "Epoch 99 loss: 0.01770458460548485\n",
      "Training time: 1307.8392579555511\n",
      "Prediction time: 3.146512508392334\n",
      "Acc: 0.8029934423575129, Pre: 0.8029934423575129, Rec: 0.8435233160621761\n",
      "EM: 0.00015824521573348953, MV: 1.1970536849793547e-14\n"
     ]
    }
   ],
   "source": [
    "if dataset == \"kdd99\":\n",
    "    train_kdd99(train_dl, test_dl, model, optimizer, loss_function, num_epochs, DEVICE)\n",
    "else:\n",
    "    train_financial(tscv_dl_list, model, optimizer, loss_function, num_epochs, DEVICE)"
   ]
  },
  {
   "cell_type": "code",
   "execution_count": 10,
   "id": "b66934c9",
   "metadata": {},
   "outputs": [
    {
     "name": "stdout",
     "output_type": "stream",
     "text": [
      "Prediction time: 2.998967409133911\n",
      "Acc: 0.8029934423575129, Pre: 0.8029934423575129, Rec: 0.8435233160621761\n",
      "EM: 0.00015824399885063417, MV: 1.1945177592209758e-14\n"
     ]
    }
   ],
   "source": [
    "from training.DeepAnT_train import evaluate\n",
    "evaluate(model, test_dl, 1, DEVICE)"
   ]
  },
  {
   "cell_type": "markdown",
   "id": "6a063309",
   "metadata": {},
   "source": [
    "# Generated Samples"
   ]
  },
  {
   "cell_type": "code",
   "execution_count": 11,
   "id": "124363c6",
   "metadata": {},
   "outputs": [
    {
     "ename": "NameError",
     "evalue": "name 'tscv_dl_list' is not defined",
     "output_type": "error",
     "traceback": [
      "\u001b[1;31m---------------------------------------------------------------------------\u001b[0m",
      "\u001b[1;31mNameError\u001b[0m                                 Traceback (most recent call last)",
      "Input \u001b[1;32mIn [11]\u001b[0m, in \u001b[0;36m<cell line: 1>\u001b[1;34m()\u001b[0m\n\u001b[1;32m----> 1\u001b[0m batch \u001b[38;5;241m=\u001b[39m \u001b[38;5;28mnext\u001b[39m(\u001b[38;5;28miter\u001b[39m(\u001b[43mtscv_dl_list\u001b[49m[\u001b[38;5;241m4\u001b[39m][\u001b[38;5;241m1\u001b[39m]))\n\u001b[0;32m      2\u001b[0m x \u001b[38;5;241m=\u001b[39m batch[\u001b[38;5;241m0\u001b[39m][\u001b[38;5;241m0\u001b[39m] \u001b[38;5;28;01mif\u001b[39;00m (model_type \u001b[38;5;241m==\u001b[39m \u001b[38;5;124m\"\u001b[39m\u001b[38;5;124mLSTM\u001b[39m\u001b[38;5;124m\"\u001b[39m) \u001b[38;5;28;01melse\u001b[39;00m batch[\u001b[38;5;241m0\u001b[39m]\n\u001b[0;32m      3\u001b[0m y \u001b[38;5;241m=\u001b[39m batch[\u001b[38;5;241m1\u001b[39m][\u001b[38;5;241m0\u001b[39m] \u001b[38;5;28;01mif\u001b[39;00m (model_type \u001b[38;5;241m==\u001b[39m \u001b[38;5;124m\"\u001b[39m\u001b[38;5;124mLSTM\u001b[39m\u001b[38;5;124m\"\u001b[39m) \u001b[38;5;28;01melse\u001b[39;00m batch[\u001b[38;5;241m1\u001b[39m][:seq_length]\u001b[38;5;241m.\u001b[39msqueeze()\n",
      "\u001b[1;31mNameError\u001b[0m: name 'tscv_dl_list' is not defined"
     ]
    }
   ],
   "source": [
    "batch = next(iter(tscv_dl_list[4][1]))\n",
    "x = batch[0][0] if (model_type == \"LSTM\") else batch[0]\n",
    "y = batch[1][0] if (model_type == \"LSTM\") else batch[1][:seq_length].squeeze()\n",
    "z = model(x.to(DEVICE)).cpu().detach() \n",
    "if (model_type == \"CNN\"): z = z[:seq_length]"
   ]
  },
  {
   "cell_type": "code",
   "execution_count": null,
   "id": "445ceca9",
   "metadata": {},
   "outputs": [],
   "source": [
    "# Generated Sample\n",
    "plt.plot(z)"
   ]
  },
  {
   "cell_type": "code",
   "execution_count": null,
   "id": "d99f490b",
   "metadata": {},
   "outputs": [],
   "source": [
    "# Real Sample\n",
    "plt.plot(y)"
   ]
  }
 ],
 "metadata": {
  "kernelspec": {
   "display_name": "Python 3 (ipykernel)",
   "language": "python",
   "name": "python3"
  },
  "language_info": {
   "codemirror_mode": {
    "name": "ipython",
    "version": 3
   },
   "file_extension": ".py",
   "mimetype": "text/x-python",
   "name": "python",
   "nbconvert_exporter": "python",
   "pygments_lexer": "ipython3",
   "version": "3.8.13"
  }
 },
 "nbformat": 4,
 "nbformat_minor": 5
}
