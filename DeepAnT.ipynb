{
 "cells": [
  {
   "cell_type": "code",
   "execution_count": null,
   "id": "c392818c",
   "metadata": {},
   "outputs": [],
   "source": [
    "import torch\n",
    "import utils.data_utils as data_utils\n",
    "from models.DeepAnT import DeepAnT_CNN, DeepAnT_LSTM\n",
    "from training.DeepAnT_train import train_kdd99, train_financial\n",
    "import matplotlib.pyplot as plt"
   ]
  },
  {
   "cell_type": "code",
   "execution_count": null,
   "id": "3de8d96e",
   "metadata": {},
   "outputs": [],
   "source": [
    "# Try to use GPU if available\n",
    "DEVICE = torch.device(\"cuda\" if torch.cuda.is_available() else \"cpu\")\n",
    "print(DEVICE)"
   ]
  },
  {
   "cell_type": "markdown",
   "id": "68ff36bf",
   "metadata": {},
   "source": [
    "# Hyperparameters"
   ]
  },
  {
   "cell_type": "code",
   "execution_count": null,
   "id": "f616f277",
   "metadata": {},
   "outputs": [],
   "source": [
    "# choose between CNN and LSTM based DeepAnT\n",
    "model_type = \"LSTM\"\n",
    "# choose dataset (e.g., kdd99, aapl, gm, axp, etc.)\n",
    "dataset = \"kdd99\""
   ]
  },
  {
   "cell_type": "code",
   "execution_count": null,
   "id": "6a866168",
   "metadata": {},
   "outputs": [],
   "source": [
    "if model_type == \"LSTM\":\n",
    "    # Data\n",
    "    num_features = 7\n",
    "    seq_length = 30\n",
    "    seq_stride = 10\n",
    "    gen_seq_len = seq_length\n",
    "    batch_size = 8\n",
    "    # Model\n",
    "    hidden_dim = 128\n",
    "    layers = 4\n",
    "    anm_det_thr = 0.5\n",
    "    # Training\n",
    "    num_epochs = 100\n",
    "    lr=1e-5\n",
    "    wd=5e-6"
   ]
  },
  {
   "cell_type": "code",
   "execution_count": null,
   "id": "8b5ca30e",
   "metadata": {},
   "outputs": [],
   "source": [
    "if model_type == \"CNN\":\n",
    "    # Data\n",
    "    num_features = 34\n",
    "    seq_length = 30\n",
    "    seq_stride = 1\n",
    "    gen_seq_len = 1\n",
    "    batch_size = 256\n",
    "    # Model\n",
    "    dense_dim = 448 \n",
    "    num_channels = 64\n",
    "    kernel_size = 3\n",
    "    anm_det_thr = 0.5\n",
    "    # Training\n",
    "    num_epochs = 100\n",
    "    lr=1e-5\n",
    "    wd=5e-6"
   ]
  },
  {
   "cell_type": "markdown",
   "id": "d3837cf6",
   "metadata": {},
   "source": [
    "# Dataset"
   ]
  },
  {
   "cell_type": "code",
   "execution_count": null,
   "id": "37bb455b",
   "metadata": {},
   "outputs": [],
   "source": [
    "if dataset == \"kdd99\":\n",
    "    train_dl, test_dl = data_utils.kdd99(seq_length, seq_stride, num_features, gen_seq_len, batch_size, deepant=True)\n",
    "else:\n",
    "    file_path = 'data/financial_data/Stocks/' + dataset + '.us.txt'\n",
    "    tscv_dl_list = data_utils.load_stock_as_crossvalidated_timeseries(file_path, seq_length, seq_stride, gen_seq_len, batch_size, normalise=True)"
   ]
  },
  {
   "cell_type": "markdown",
   "id": "2c9d66d5",
   "metadata": {},
   "source": [
    "# Model "
   ]
  },
  {
   "cell_type": "code",
   "execution_count": null,
   "id": "b4e0bc9b",
   "metadata": {},
   "outputs": [],
   "source": [
    "if model_type == \"LSTM\":\n",
    "    model = DeepAnT_LSTM(num_features,hidden_dim,layers,anm_det_thr).to(DEVICE)\n",
    "elif model_type == \"CNN\":\n",
    "    model = DeepAnT_CNN(seq_length,num_features, kernel_size, dense_dim, num_channels, anm_det_thr).to(DEVICE)"
   ]
  },
  {
   "cell_type": "markdown",
   "id": "d96d7d9e",
   "metadata": {},
   "source": [
    "# Loss & Optimizer"
   ]
  },
  {
   "cell_type": "code",
   "execution_count": null,
   "id": "878fffd1",
   "metadata": {},
   "outputs": [],
   "source": [
    "loss_function = torch.nn.MSELoss(reduction='mean')\n",
    "optimizer = torch.optim.Adam(list(model.parameters()), lr=lr, weight_decay=wd)"
   ]
  },
  {
   "cell_type": "markdown",
   "id": "59e27a7c",
   "metadata": {},
   "source": [
    "# Training & Evaluation"
   ]
  },
  {
   "cell_type": "code",
   "execution_count": null,
   "id": "c487d147",
   "metadata": {},
   "outputs": [],
   "source": [
    "if dataset == \"kdd99\":\n",
    "    train_kdd99(train_dl, test_dl, model, optimizer, loss_function, num_epochs, DEVICE)\n",
    "else:\n",
    "    train_financial(tscv_dl_list, model, optimizer, loss_function, num_epochs, DEVICE)"
   ]
  },
  {
   "cell_type": "markdown",
   "id": "6a063309",
   "metadata": {},
   "source": [
    "# Generated Samples"
   ]
  },
  {
   "cell_type": "code",
   "execution_count": null,
   "id": "124363c6",
   "metadata": {},
   "outputs": [],
   "source": [
    "if dataset == \"kdd99\":\n",
    "    batch = next(iter(test_dl))\n",
    "else:\n",
    "    batch = next(iter(tscv_dl_list[4][1]))\n",
    "x = batch[0][0] if (model_type == \"LSTM\") else batch[0]\n",
    "y = batch[2][0] if (model_type == \"LSTM\") else batch[2][:seq_length].squeeze()\n",
    "z = model(x.to(DEVICE)).cpu().detach() \n",
    "if (model_type == \"CNN\"): z = z[:seq_length]"
   ]
  },
  {
   "cell_type": "code",
   "execution_count": null,
   "id": "445ceca9",
   "metadata": {},
   "outputs": [],
   "source": [
    "# Generated Sample\n",
    "plt.plot(z)"
   ]
  },
  {
   "cell_type": "code",
   "execution_count": null,
   "id": "d99f490b",
   "metadata": {},
   "outputs": [],
   "source": [
    "# Real Sample\n",
    "plt.plot(y)"
   ]
  }
 ],
 "metadata": {
  "kernelspec": {
   "display_name": "Python 3 (ipykernel)",
   "language": "python",
   "name": "python3"
  },
  "language_info": {
   "codemirror_mode": {
    "name": "ipython",
    "version": 3
   },
   "file_extension": ".py",
   "mimetype": "text/x-python",
   "name": "python",
   "nbconvert_exporter": "python",
   "pygments_lexer": "ipython3",
   "version": "3.8.13"
  }
 },
 "nbformat": 4,
 "nbformat_minor": 5
}
