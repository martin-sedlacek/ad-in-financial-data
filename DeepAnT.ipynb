{
 "cells": [
  {
   "cell_type": "markdown",
   "id": "1bed2476",
   "metadata": {},
   "source": [
    "# Initial "
   ]
  },
  {
   "cell_type": "code",
   "execution_count": 1,
   "id": "c392818c",
   "metadata": {},
   "outputs": [],
   "source": [
    "import numpy as np\n",
    "import torch\n",
    "from utils import eval\n",
    "import data_utils\n",
    "from models.DeepAnT import DeepAnT\n",
    "from training.DeepAnT_train import DeepAntTrainingPipeline"
   ]
  },
  {
   "cell_type": "markdown",
   "id": "d3837cf6",
   "metadata": {},
   "source": [
    "# Load data"
   ]
  },
  {
   "cell_type": "code",
   "execution_count": 2,
   "id": "6a866168",
   "metadata": {},
   "outputs": [],
   "source": [
    "# Data parameters\n",
    "num_generated_features = 6\n",
    "seq_length = 30\n",
    "seq_stride = 10\n",
    "batch_size = 256"
   ]
  },
  {
   "cell_type": "code",
   "execution_count": 3,
   "id": "9f0d6d7b",
   "metadata": {},
   "outputs": [
    {
     "name": "stdout",
     "output_type": "stream",
     "text": [
      "load kdd99_train from .npy\n",
      "load kdd99_test from .npy\n"
     ]
    }
   ],
   "source": [
    "train_dl, test_dl = data_utils.load_kdd99(seq_length, seq_stride, num_generated_features,batch_size)"
   ]
  },
  {
   "cell_type": "markdown",
   "id": "2c9d66d5",
   "metadata": {},
   "source": [
    "# Model"
   ]
  },
  {
   "cell_type": "code",
   "execution_count": 4,
   "id": "ed9c67e7",
   "metadata": {},
   "outputs": [],
   "source": [
    "num_epochs = 50\n",
    "lr = 0.001\n",
    "anm_det_thr = 0.8 # Threshold for classifying anomaly (0.5~0.8)"
   ]
  },
  {
   "cell_type": "code",
   "execution_count": 6,
   "id": "b4e0bc9b",
   "metadata": {},
   "outputs": [],
   "source": [
    "model = DeepAnT(seq_length,num_generated_features,anm_det_thr)"
   ]
  },
  {
   "cell_type": "code",
   "execution_count": 7,
   "id": "878fffd1",
   "metadata": {},
   "outputs": [],
   "source": [
    "criterion = torch.nn.MSELoss(reduction='mean')\n",
    "optimizer = torch.optim.Adam(list(model.parameters()), lr=1e-5)"
   ]
  },
  {
   "cell_type": "markdown",
   "id": "59e27a7c",
   "metadata": {},
   "source": [
    "# Execution"
   ]
  },
  {
   "cell_type": "code",
   "execution_count": 8,
   "id": "14ca504a",
   "metadata": {
    "pycharm": {
     "name": "#%%\n"
    }
   },
   "outputs": [
    {
     "name": "stdout",
     "output_type": "stream",
     "text": [
      "Training Loss: 1.4657089206305418 - Epoch: 1\n",
      "205.59067357512953 0.0009806971682754387 422.52319150097424\n",
      "Testing Acc: (205.59067357512953, 0.0009806971682754387, 422.52319150097424) - Epoch: 1\n",
      "Training Loss: 1.3420588352463463 - Epoch: 2\n",
      "205.58549222797927 0.0009036190092584954 834.9014825028231\n",
      "Testing Acc: (205.58549222797927, 0.0009036190092584954, 834.9014825028231) - Epoch: 2\n",
      "Training Loss: 1.2190739249641245 - Epoch: 3\n"
     ]
    },
    {
     "ename": "KeyboardInterrupt",
     "evalue": "",
     "output_type": "error",
     "traceback": [
      "\u001b[1;31m---------------------------------------------------------------------------\u001b[0m",
      "\u001b[1;31mKeyboardInterrupt\u001b[0m                         Traceback (most recent call last)",
      "Input \u001b[1;32mIn [8]\u001b[0m, in \u001b[0;36m<cell line: 3>\u001b[1;34m()\u001b[0m\n\u001b[0;32m      1\u001b[0m pipeline \u001b[38;5;241m=\u001b[39m DeepAntTrainingPipeline()\n\u001b[1;32m----> 3\u001b[0m \u001b[43mpipeline\u001b[49m\u001b[38;5;241;43m.\u001b[39;49m\u001b[43mtrain\u001b[49m\u001b[43m(\u001b[49m\u001b[43mmodel\u001b[49m\u001b[38;5;241;43m=\u001b[39;49m\u001b[43mmodel\u001b[49m\u001b[43m,\u001b[49m\u001b[43m \u001b[49m\u001b[43mloss\u001b[49m\u001b[38;5;241;43m=\u001b[39;49m\u001b[43mcriterion\u001b[49m\u001b[43m,\u001b[49m\u001b[43m \u001b[49m\u001b[43moptimizer\u001b[49m\u001b[38;5;241;43m=\u001b[39;49m\u001b[43moptimizer\u001b[49m\u001b[43m,\u001b[49m\u001b[43m \u001b[49m\u001b[43mtrain_dl\u001b[49m\u001b[38;5;241;43m=\u001b[39;49m\u001b[43mtrain_dl\u001b[49m\u001b[43m,\u001b[49m\u001b[43m \u001b[49m\u001b[43mtest_dl\u001b[49m\u001b[38;5;241;43m=\u001b[39;49m\u001b[43mtest_dl\u001b[49m\u001b[43m,\u001b[49m\u001b[43m \u001b[49m\u001b[43mnum_epochs\u001b[49m\u001b[38;5;241;43m=\u001b[39;49m\u001b[43mnum_epochs\u001b[49m\u001b[43m)\u001b[49m\n",
      "File \u001b[1;32m~\\Documents\\GitHub\\ml-for-financial-data\\training\\training_utils.py:33\u001b[0m, in \u001b[0;36mBaseTrainingPipeline.train\u001b[1;34m(self, model, loss, optimizer, train_dl, test_dl, num_epochs)\u001b[0m\n\u001b[0;32m     31\u001b[0m epoch_train_loss \u001b[38;5;241m=\u001b[39m BaseTrainingPipeline\u001b[38;5;241m.\u001b[39mtrain_epoch(model, loss, optimizer, train_dl)\n\u001b[0;32m     32\u001b[0m \u001b[38;5;28mprint\u001b[39m(\u001b[38;5;124m\"\u001b[39m\u001b[38;5;124mTraining Loss: \u001b[39m\u001b[38;5;132;01m{0}\u001b[39;00m\u001b[38;5;124m - Epoch: \u001b[39m\u001b[38;5;132;01m{1}\u001b[39;00m\u001b[38;5;124m\"\u001b[39m\u001b[38;5;241m.\u001b[39mformat(epoch_train_loss, epoch \u001b[38;5;241m+\u001b[39m \u001b[38;5;241m1\u001b[39m))\n\u001b[1;32m---> 33\u001b[0m test_acc \u001b[38;5;241m=\u001b[39m \u001b[38;5;28;43mself\u001b[39;49m\u001b[38;5;241;43m.\u001b[39;49m\u001b[43mevaluate\u001b[49m\u001b[43m(\u001b[49m\u001b[43mmodel\u001b[49m\u001b[43m,\u001b[49m\u001b[43m \u001b[49m\u001b[43mtest_dl\u001b[49m\u001b[43m)\u001b[49m\n\u001b[0;32m     34\u001b[0m \u001b[38;5;28mprint\u001b[39m(\u001b[38;5;124m\"\u001b[39m\u001b[38;5;124mTesting Acc: \u001b[39m\u001b[38;5;132;01m{0}\u001b[39;00m\u001b[38;5;124m - Epoch: \u001b[39m\u001b[38;5;132;01m{1}\u001b[39;00m\u001b[38;5;124m\"\u001b[39m\u001b[38;5;241m.\u001b[39mformat(test_acc, epoch \u001b[38;5;241m+\u001b[39m \u001b[38;5;241m1\u001b[39m))\n",
      "File \u001b[1;32m~\\Documents\\GitHub\\ml-for-financial-data\\training\\DeepAnT_train.py:28\u001b[0m, in \u001b[0;36mDeepAntTrainingPipeline.evaluate\u001b[1;34m(self, model, test_dl)\u001b[0m\n\u001b[0;32m     26\u001b[0m total_acc \u001b[38;5;241m+\u001b[39m\u001b[38;5;241m=\u001b[39m acc\n\u001b[0;32m     27\u001b[0m ctr \u001b[38;5;241m+\u001b[39m\u001b[38;5;241m=\u001b[39m \u001b[38;5;241m1\u001b[39m\n\u001b[1;32m---> 28\u001b[0m scores \u001b[38;5;241m=\u001b[39m \u001b[38;5;28;43meval\u001b[39;49m\u001b[38;5;241;43m.\u001b[39;49m\u001b[43mtorch_emmv_scores\u001b[49m\u001b[43m(\u001b[49m\u001b[43mmodel\u001b[49m\u001b[43m,\u001b[49m\u001b[43m \u001b[49m\u001b[43mX\u001b[49m\u001b[43m,\u001b[49m\u001b[43m \u001b[49m\u001b[43mscoring_func\u001b[49m\u001b[38;5;241;43m=\u001b[39;49m\u001b[38;5;28;43mself\u001b[39;49m\u001b[38;5;241;43m.\u001b[39;49m\u001b[43mtorch_scoring_function\u001b[49m\u001b[43m)\u001b[49m\n\u001b[0;32m     29\u001b[0m total_em \u001b[38;5;241m+\u001b[39m\u001b[38;5;241m=\u001b[39m scores[\u001b[38;5;124m'\u001b[39m\u001b[38;5;124mem\u001b[39m\u001b[38;5;124m'\u001b[39m]\n\u001b[0;32m     30\u001b[0m total_mv \u001b[38;5;241m+\u001b[39m\u001b[38;5;241m=\u001b[39m scores[\u001b[38;5;124m'\u001b[39m\u001b[38;5;124mmv\u001b[39m\u001b[38;5;124m'\u001b[39m]\n",
      "File \u001b[1;32m~\\Documents\\GitHub\\ml-for-financial-data\\utils\\eval.py:63\u001b[0m, in \u001b[0;36mtorch_emmv_scores\u001b[1;34m(trained_model, x, scoring_func, n_generated, alpha_min, alpha_max, t_max)\u001b[0m\n\u001b[0;32m     60\u001b[0m s_unif \u001b[38;5;241m=\u001b[39m scoring_func(trained_model, unif)\u001b[38;5;241m.\u001b[39mview(\u001b[38;5;241m-\u001b[39m\u001b[38;5;241m1\u001b[39m, \u001b[38;5;241m1\u001b[39m)\u001b[38;5;241m.\u001b[39mdetach()\u001b[38;5;241m.\u001b[39mnumpy()\n\u001b[0;32m     62\u001b[0m \u001b[38;5;66;03m# Get EM and MV scores\u001b[39;00m\n\u001b[1;32m---> 63\u001b[0m AUC_em, em, amax \u001b[38;5;241m=\u001b[39m \u001b[43mexcess_mass\u001b[49m\u001b[43m(\u001b[49m\u001b[43mt\u001b[49m\u001b[43m,\u001b[49m\u001b[43m \u001b[49m\u001b[43mt_max\u001b[49m\u001b[43m,\u001b[49m\u001b[43m \u001b[49m\u001b[43mvolume_support\u001b[49m\u001b[43m,\u001b[49m\u001b[43m \u001b[49m\u001b[43ms_unif\u001b[49m\u001b[43m,\u001b[49m\u001b[43m \u001b[49m\u001b[43manomaly_score\u001b[49m\u001b[43m,\u001b[49m\u001b[43m \u001b[49m\u001b[43mn_generated\u001b[49m\u001b[43m)\u001b[49m\n\u001b[0;32m     64\u001b[0m AUC_mv, mv \u001b[38;5;241m=\u001b[39m mass_volume(axis_alpha, volume_support, s_unif, anomaly_score, n_generated)\n\u001b[0;32m     66\u001b[0m \u001b[38;5;66;03m# Return a dataframe containing EMMV information\u001b[39;00m\n",
      "File \u001b[1;32m~\\Documents\\GitHub\\ml-for-financial-data\\utils\\eval.py:14\u001b[0m, in \u001b[0;36mexcess_mass\u001b[1;34m(t, t_max, volume_support, s_unif, s_X, n_generated)\u001b[0m\n\u001b[0;32m     10\u001b[0m EM_t[\u001b[38;5;241m0\u001b[39m] \u001b[38;5;241m=\u001b[39m \u001b[38;5;241m1.\u001b[39m\n\u001b[0;32m     12\u001b[0m \u001b[38;5;28;01mfor\u001b[39;00m u \u001b[38;5;129;01min\u001b[39;00m s_X_unique:\n\u001b[0;32m     13\u001b[0m     EM_t \u001b[38;5;241m=\u001b[39m np\u001b[38;5;241m.\u001b[39mmaximum(EM_t, \u001b[38;5;241m1.\u001b[39m \u001b[38;5;241m/\u001b[39m n_samples \u001b[38;5;241m*\u001b[39m (s_X \u001b[38;5;241m>\u001b[39m u)\u001b[38;5;241m.\u001b[39msum() \u001b[38;5;241m-\u001b[39m\n\u001b[1;32m---> 14\u001b[0m                     t \u001b[38;5;241m*\u001b[39m \u001b[43m(\u001b[49m\u001b[43ms_unif\u001b[49m\u001b[43m \u001b[49m\u001b[38;5;241;43m>\u001b[39;49m\u001b[43m \u001b[49m\u001b[43mu\u001b[49m\u001b[43m)\u001b[49m\u001b[38;5;241;43m.\u001b[39;49m\u001b[43msum\u001b[49m\u001b[43m(\u001b[49m\u001b[43m)\u001b[49m \u001b[38;5;241m/\u001b[39m n_generated\n\u001b[0;32m     15\u001b[0m                     \u001b[38;5;241m*\u001b[39m volume_support)\n\u001b[0;32m     16\u001b[0m amax \u001b[38;5;241m=\u001b[39m np\u001b[38;5;241m.\u001b[39margmax(EM_t \u001b[38;5;241m<\u001b[39m\u001b[38;5;241m=\u001b[39m t_max) \u001b[38;5;241m+\u001b[39m \u001b[38;5;241m1\u001b[39m\n\u001b[0;32m     17\u001b[0m \u001b[38;5;28;01mif\u001b[39;00m amax \u001b[38;5;241m==\u001b[39m \u001b[38;5;241m1\u001b[39m:\n",
      "File \u001b[1;32m~\\anaconda3\\envs\\ml-for-financial-data\\lib\\site-packages\\numpy\\core\\_methods.py:48\u001b[0m, in \u001b[0;36m_sum\u001b[1;34m(a, axis, dtype, out, keepdims, initial, where)\u001b[0m\n\u001b[0;32m     46\u001b[0m \u001b[38;5;28;01mdef\u001b[39;00m \u001b[38;5;21m_sum\u001b[39m(a, axis\u001b[38;5;241m=\u001b[39m\u001b[38;5;28;01mNone\u001b[39;00m, dtype\u001b[38;5;241m=\u001b[39m\u001b[38;5;28;01mNone\u001b[39;00m, out\u001b[38;5;241m=\u001b[39m\u001b[38;5;28;01mNone\u001b[39;00m, keepdims\u001b[38;5;241m=\u001b[39m\u001b[38;5;28;01mFalse\u001b[39;00m,\n\u001b[0;32m     47\u001b[0m          initial\u001b[38;5;241m=\u001b[39m_NoValue, where\u001b[38;5;241m=\u001b[39m\u001b[38;5;28;01mTrue\u001b[39;00m):\n\u001b[1;32m---> 48\u001b[0m     \u001b[38;5;28;01mreturn\u001b[39;00m \u001b[43mumr_sum\u001b[49m\u001b[43m(\u001b[49m\u001b[43ma\u001b[49m\u001b[43m,\u001b[49m\u001b[43m \u001b[49m\u001b[43maxis\u001b[49m\u001b[43m,\u001b[49m\u001b[43m \u001b[49m\u001b[43mdtype\u001b[49m\u001b[43m,\u001b[49m\u001b[43m \u001b[49m\u001b[43mout\u001b[49m\u001b[43m,\u001b[49m\u001b[43m \u001b[49m\u001b[43mkeepdims\u001b[49m\u001b[43m,\u001b[49m\u001b[43m \u001b[49m\u001b[43minitial\u001b[49m\u001b[43m,\u001b[49m\u001b[43m \u001b[49m\u001b[43mwhere\u001b[49m\u001b[43m)\u001b[49m\n",
      "\u001b[1;31mKeyboardInterrupt\u001b[0m: "
     ]
    }
   ],
   "source": [
    "pipeline = DeepAntTrainingPipeline()\n",
    "\n",
    "pipeline.train(model=model, loss=criterion, optimizer=optimizer, train_dl=train_dl, test_dl=test_dl, num_epochs=num_epochs)"
   ]
  }
 ],
 "metadata": {
  "kernelspec": {
   "display_name": "Python 3 (ipykernel)",
   "language": "python",
   "name": "python3"
  },
  "language_info": {
   "codemirror_mode": {
    "name": "ipython",
    "version": 3
   },
   "file_extension": ".py",
   "mimetype": "text/x-python",
   "name": "python",
   "nbconvert_exporter": "python",
   "pygments_lexer": "ipython3",
   "version": "3.8.13"
  }
 },
 "nbformat": 4,
 "nbformat_minor": 5
}
