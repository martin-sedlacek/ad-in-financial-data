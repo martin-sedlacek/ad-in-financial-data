{
 "cells": [
  {
   "cell_type": "code",
   "execution_count": 1,
   "id": "c392818c",
   "metadata": {},
   "outputs": [],
   "source": [
    "import torch\n",
    "import data_utils\n",
    "from models.DeepAnT import DeepAnT_CNN, DeepAnT_LSTM, Extended_DeepAnT_LSTM\n",
    "from training.DeepAnT_train import DeepAntTrainingPipeline"
   ]
  },
  {
   "cell_type": "code",
   "execution_count": 2,
   "id": "3de8d96e",
   "metadata": {},
   "outputs": [
    {
     "name": "stdout",
     "output_type": "stream",
     "text": [
      "cuda\n"
     ]
    }
   ],
   "source": [
    "# Try to use GPU if available\n",
    "DEVICE = torch.device(\"cuda\" if torch.cuda.is_available() else \"cpu\")\n",
    "print(DEVICE)"
   ]
  },
  {
   "cell_type": "markdown",
   "id": "68ff36bf",
   "metadata": {},
   "source": [
    "# Hyperparameters"
   ]
  },
  {
   "cell_type": "code",
   "execution_count": 3,
   "id": "f616f277",
   "metadata": {},
   "outputs": [],
   "source": [
    "# choose between CNN, LSTM, and Extended DeepAnT models\n",
    "model_type = \"Extended\"\n",
    "# choose dataset (kdd99, aapl, gm, axp)\n",
    "dataset = \"kdd99\""
   ]
  },
  {
   "cell_type": "code",
   "execution_count": 4,
   "id": "6a866168",
   "metadata": {},
   "outputs": [],
   "source": [
    "if model_type == \"DeepAnT_LSTM\":\n",
    "    # Data\n",
    "    num_features = 7\n",
    "    seq_length = 1\n",
    "    seq_stride = 1\n",
    "    gen_seq_len = seq_length\n",
    "    batch_size = 8\n",
    "    # Model\n",
    "    hidden_dim = 128\n",
    "    layers = 4\n",
    "    anm_det_thr = 0.5\n",
    "    # Training\n",
    "    num_epochs = 100\n",
    "    lr=1e-5\n",
    "    wd=5e-6"
   ]
  },
  {
   "cell_type": "code",
   "execution_count": null,
   "id": "8b5ca30e",
   "metadata": {},
   "outputs": [],
   "source": [
    "if model_type == \"DeepAnT_CNN\":\n",
    "    # Data\n",
    "    num_features = 34\n",
    "    seq_length = 30\n",
    "    seq_stride = 1\n",
    "    gen_seq_len = 1\n",
    "    batch_size = 256\n",
    "    # Model\n",
    "    dense_dim = 512 \n",
    "    num_channels = 64\n",
    "    kernel_size = 1\n",
    "    anm_det_thr = 0.8\n",
    "    # Training\n",
    "    num_epochs = 100\n",
    "    lr=1e-5\n",
    "    wd=5e-6"
   ]
  },
  {
   "cell_type": "code",
   "execution_count": null,
   "id": "27a92093",
   "metadata": {},
   "outputs": [],
   "source": [
    "if model_type == \"Extended\":\n",
    "    # Data\n",
    "    num_features = 6\n",
    "    seq_length = 50\n",
    "    seq_stride = 10\n",
    "    gen_seq_len = 10\n",
    "    batch_size = 256\n",
    "    # Model\n",
    "    hidden_dim = 128\n",
    "    layers = 4\n",
    "    anm_det_thr = 0.5\n",
    "    # Training\n",
    "    num_epochs = 100\n",
    "    lr=1e-5\n",
    "    wd=5e-6"
   ]
  },
  {
   "cell_type": "markdown",
   "id": "d3837cf6",
   "metadata": {},
   "source": [
    "# Load data"
   ]
  },
  {
   "cell_type": "code",
   "execution_count": 5,
   "id": "37bb455b",
   "metadata": {},
   "outputs": [],
   "source": [
    "if dataset == \"kdd99\":\n",
    "    train_dl, test_dl = data_utils.kdd99(seq_length, seq_stride, num_features, gen_seq_len, batch_size, deepant=True)\n",
    "else:\n",
    "    file_path = 'data/financial_data/Stocks/' + dataset + '.us.txt'\n",
    "    tscv_dl_list = data_utils.load_stock_as_crossvalidated_timeseries(file_path, seq_length, seq_stride, gen_seq_len, batch_size, normalise=True)"
   ]
  },
  {
   "cell_type": "markdown",
   "id": "2c9d66d5",
   "metadata": {},
   "source": [
    "# Model"
   ]
  },
  {
   "cell_type": "code",
   "execution_count": 6,
   "id": "b4e0bc9b",
   "metadata": {},
   "outputs": [],
   "source": [
    "if model_type == \"DeepAnT_LSTM\":\n",
    "    model = DeepAnT_LSTM(num_features,hidden_dim,layers,anm_det_thr).to(DEVICE)\n",
    "elif model_type == \"DeepAnT_CNN\":\n",
    "    model = DeepAnT_CNN(seq_length,num_features, kernel_size, dense_dim, num_channels, anm_det_thr).to(DEVICE)\n",
    "elif model_type == \"Extended\":\n",
    "    model = Extended_DeepAnT_LSTM(lookback_dim=num_features, hidden_dim=hidden_dim, input_seq_len=seq_length, output_seq_len=gen_seq_len, num_layers=layers, anomaly_threshold=anm_det_thr).to(DEVICE)"
   ]
  },
  {
   "cell_type": "code",
   "execution_count": 7,
   "id": "878fffd1",
   "metadata": {},
   "outputs": [],
   "source": [
    "loss_function = torch.nn.MSELoss(reduction='mean')\n",
    "optimizer = torch.optim.Adam(list(model.parameters()), lr=lr, weight_decay=wd)"
   ]
  },
  {
   "cell_type": "markdown",
   "id": "59e27a7c",
   "metadata": {},
   "source": [
    "# Training"
   ]
  },
  {
   "cell_type": "code",
   "execution_count": 8,
   "id": "e77176e0",
   "metadata": {},
   "outputs": [],
   "source": [
    "pipeline = DeepAntTrainingPipeline()"
   ]
  },
  {
   "cell_type": "code",
   "execution_count": 9,
   "id": "c487d147",
   "metadata": {},
   "outputs": [
    {
     "name": "stdout",
     "output_type": "stream",
     "text": [
      "Epoch 0 loss: 1.3727508263154464\n",
      "Epoch 1 loss: 1.1622221757065165\n",
      "Epoch 2 loss: 0.49046601673418827\n",
      "Epoch 3 loss: 0.36097280085086825\n",
      "Epoch 4 loss: 0.3523478568277576\n",
      "Epoch 5 loss: 0.34579538614912464\n",
      "Epoch 6 loss: 0.34091730734164066\n",
      "Epoch 7 loss: 0.33766228976574814\n",
      "Epoch 8 loss: 0.33524822396310894\n",
      "Epoch 9 loss: 0.3332578285851262\n",
      "Epoch 10 loss: 0.3315336587754163\n",
      "Epoch 11 loss: 0.32991697070273485\n",
      "Epoch 12 loss: 0.3284018376334147\n",
      "Epoch 13 loss: 0.32708583149042997\n",
      "Epoch 14 loss: 0.32576057043942536\n",
      "Epoch 15 loss: 0.3245098475028168\n",
      "Epoch 16 loss: 0.3231222727759318\n",
      "Epoch 17 loss: 0.3218234350735491\n",
      "Epoch 18 loss: 0.3201184670356187\n",
      "Epoch 19 loss: 0.31776127259839665\n",
      "Epoch 20 loss: 0.3133134784346277\n",
      "Epoch 21 loss: 0.306606259603392\n",
      "Epoch 22 loss: 0.30121533078226176\n",
      "Epoch 23 loss: 0.29720763408324935\n",
      "Epoch 24 loss: 0.2933087342164733\n",
      "Epoch 25 loss: 0.2888105561787432\n",
      "Epoch 26 loss: 0.2837207044728778\n",
      "Epoch 27 loss: 0.2780913975428451\n",
      "Epoch 28 loss: 0.27210783467374067\n",
      "Epoch 29 loss: 0.26578940871086987\n",
      "Epoch 30 loss: 0.25949011604216965\n",
      "Epoch 31 loss: 0.25345630906522276\n",
      "Epoch 32 loss: 0.2478479136458852\n",
      "Epoch 33 loss: 0.2428407863459804\n",
      "Epoch 34 loss: 0.2383495021611452\n",
      "Epoch 35 loss: 0.23446712556549093\n",
      "Epoch 36 loss: 0.23103527643463828\n",
      "Epoch 37 loss: 0.2280177635733377\n",
      "Epoch 38 loss: 0.2253701961683956\n",
      "Epoch 39 loss: 0.2228940155187791\n",
      "Epoch 40 loss: 0.22049207932908427\n",
      "Epoch 41 loss: 0.2183773869309913\n",
      "Epoch 42 loss: 0.21640005499463189\n",
      "Epoch 43 loss: 0.21433591871437702\n",
      "Epoch 44 loss: 0.21238572621210056\n",
      "Epoch 45 loss: 0.2104395101016218\n",
      "Epoch 46 loss: 0.2086539406160062\n",
      "Epoch 47 loss: 0.2068716198205948\n",
      "Epoch 48 loss: 0.20504220986569469\n",
      "Epoch 49 loss: 0.20312653747810558\n",
      "Epoch 50 loss: 0.2013247592205351\n",
      "Epoch 51 loss: 0.19943431431258266\n",
      "Epoch 52 loss: 0.19762395847250114\n",
      "Epoch 53 loss: 0.19575098752128808\n",
      "Epoch 54 loss: 0.1938382706858895\n",
      "Epoch 55 loss: 0.19195220489901574\n",
      "Epoch 56 loss: 0.1900404091077772\n",
      "Epoch 57 loss: 0.18814881378784776\n",
      "Epoch 58 loss: 0.1862710981375792\n",
      "Epoch 59 loss: 0.18437949520620434\n",
      "Epoch 60 loss: 0.18249289909885688\n",
      "Epoch 61 loss: 0.18066363042559136\n",
      "Epoch 62 loss: 0.17890756156464868\n",
      "Epoch 63 loss: 0.17713103037835523\n",
      "Epoch 64 loss: 0.17551164525476368\n",
      "Epoch 65 loss: 0.1739257305691188\n",
      "Epoch 66 loss: 0.17241976659067654\n",
      "Epoch 67 loss: 0.17120098432695324\n",
      "Epoch 68 loss: 0.16987414420159025\n",
      "Epoch 69 loss: 0.16876264951953834\n",
      "Epoch 70 loss: 0.1675697452388704\n",
      "Epoch 71 loss: 0.16663853401656856\n",
      "Epoch 72 loss: 0.16566218666054985\n",
      "Epoch 73 loss: 0.16466553873297843\n",
      "Epoch 74 loss: 0.16383482615717432\n",
      "Epoch 75 loss: 0.16294000022621316\n",
      "Epoch 76 loss: 0.1621270194734362\n",
      "Epoch 77 loss: 0.16129830036820336\n",
      "Epoch 78 loss: 0.16044263302941214\n",
      "Epoch 79 loss: 0.1596949134191329\n",
      "Epoch 80 loss: 0.1589120450852947\n",
      "Epoch 81 loss: 0.15808991617099805\n",
      "Epoch 82 loss: 0.15730412892827933\n",
      "Epoch 83 loss: 0.15665016773749482\n",
      "Epoch 84 loss: 0.15599070066078144\n",
      "Epoch 85 loss: 0.15524888577109033\n",
      "Epoch 86 loss: 0.1545110824179243\n",
      "Epoch 87 loss: 0.1537653508426791\n",
      "Epoch 88 loss: 0.15317721682685342\n",
      "Epoch 89 loss: 0.15246780030429363\n",
      "Epoch 90 loss: 0.15179865320467137\n",
      "Epoch 91 loss: 0.15117104127156464\n",
      "Epoch 92 loss: 0.1506223314272409\n",
      "Epoch 93 loss: 0.14997128271921115\n",
      "Epoch 94 loss: 0.14927941012111576\n",
      "Epoch 95 loss: 0.14878460991788994\n",
      "Epoch 96 loss: 0.14817396132275462\n",
      "Epoch 97 loss: 0.14756492206996139\n",
      "Epoch 98 loss: 0.14699222495440734\n",
      "Epoch 99 loss: 0.14646178246899086\n",
      "Acc: 0.7704402419731587, Pre: 0.8008604692511477, Rec: 0.9116265599552471\n",
      "EM: 0.0004703350891215904, MV: 4271.1089817487955\n"
     ]
    }
   ],
   "source": [
    "if dataset == \"kdd99\":\n",
    "    pipeline.train_kdd99(train_dl, test_dl, model, optimizer, loss_function, num_epochs, DEVICE)\n",
    "else:\n",
    "    pipeline.train(tscv_dl_list, model, optimizer, loss_function, num_epochs, DEVICE)"
   ]
  }
 ],
 "metadata": {
  "kernelspec": {
   "display_name": "Python 3 (ipykernel)",
   "language": "python",
   "name": "python3"
  },
  "language_info": {
   "codemirror_mode": {
    "name": "ipython",
    "version": 3
   },
   "file_extension": ".py",
   "mimetype": "text/x-python",
   "name": "python",
   "nbconvert_exporter": "python",
   "pygments_lexer": "ipython3",
   "version": "3.8.13"
  }
 },
 "nbformat": 4,
 "nbformat_minor": 5
}
