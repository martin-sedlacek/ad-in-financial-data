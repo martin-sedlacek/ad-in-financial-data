{
 "cells": [
  {
   "cell_type": "markdown",
   "metadata": {},
   "source": [
    "# Initial setup"
   ]
  },
  {
   "cell_type": "code",
   "execution_count": 1,
   "metadata": {
    "executionInfo": {
     "elapsed": 375,
     "status": "ok",
     "timestamp": 1646079030153,
     "user": {
      "displayName": "Martin Sedlacek",
      "photoUrl": "https://lh3.googleusercontent.com/a-/AOh14Gju19TlDpXtCMx8eR63MmP-uY5vmiu9noZCmgzY=s64",
      "userId": "01394071077629115142"
     },
     "user_tz": -60
    },
    "id": "KBW-jkcl7T9U"
   },
   "outputs": [],
   "source": [
    "# import libraries\n",
    "from os import path, listdir\n",
    "import numpy as np\n",
    "import pandas as pd\n",
    "import seaborn\n",
    "import data_utils"
   ]
  },
  {
   "cell_type": "code",
   "execution_count": 2,
   "metadata": {
    "executionInfo": {
     "elapsed": 3,
     "status": "ok",
     "timestamp": 1646079040494,
     "user": {
      "displayName": "Martin Sedlacek",
      "photoUrl": "https://lh3.googleusercontent.com/a-/AOh14Gju19TlDpXtCMx8eR63MmP-uY5vmiu9noZCmgzY=s64",
      "userId": "01394071077629115142"
     },
     "user_tz": -60
    },
    "id": "MTMcu0d9OKhg"
   },
   "outputs": [],
   "source": [
    "# display all columns in command outputs (e.g. head())\n",
    "pd.set_option('display.max_columns', None)"
   ]
  },
  {
   "cell_type": "markdown",
   "metadata": {
    "id": "8w1ylQ7JNnVi"
   },
   "source": [
    "# EDA\n"
   ]
  },
  {
   "cell_type": "code",
   "execution_count": 3,
   "metadata": {},
   "outputs": [],
   "source": [
    "result = data_utils.load_financial(encode_ticker=True, raw=False)"
   ]
  },
  {
   "cell_type": "code",
   "execution_count": 4,
   "metadata": {},
   "outputs": [
    {
     "name": "stdout",
     "output_type": "stream",
     "text": [
      "               Open          High           Low         Close        Volume  \\\n",
      "count  1.022181e+07  1.022181e+07  1.022181e+07  1.022181e+07  1.022181e+07   \n",
      "mean   1.094212e-18  2.168787e-19  2.107529e-19  7.446515e-20 -8.387539e-19   \n",
      "std    1.000000e+00  1.000000e+00  1.000000e+00  1.000000e+00  1.000000e+00   \n",
      "min   -2.634815e-03 -2.465120e-03 -2.663523e-03 -2.565992e-03 -2.276643e-03   \n",
      "25%   -4.757033e-04 -4.631358e-04 -4.555661e-04 -4.519282e-04 -1.674400e-03   \n",
      "50%   -4.533493e-04 -4.454356e-04 -4.357042e-04 -4.311271e-04 -1.385771e-03   \n",
      "75%   -4.304992e-04 -4.287613e-04 -4.153315e-04 -4.097930e-04 -9.427570e-04   \n",
      "max    3.032715e+03  3.056634e+03  3.062554e+03  3.071663e+03  3.160052e+03   \n",
      "\n",
      "             Ticker     Sentiment     SPX_Close  \n",
      "count  1.022181e+07  1.022181e+07  1.022181e+07  \n",
      "mean   4.332930e+03  5.345802e-01 -1.540395e-17  \n",
      "std    2.507437e+03  4.988028e-01  1.000000e+00  \n",
      "min    0.000000e+00  0.000000e+00 -7.055598e+00  \n",
      "25%    2.113000e+03  0.000000e+00 -3.708494e-01  \n",
      "50%    4.376000e+03  1.000000e+00  1.902200e-02  \n",
      "75%    6.539000e+03  1.000000e+00  4.234247e-01  \n",
      "max    8.506000e+03  1.000000e+00  8.978452e+00  \n"
     ]
    }
   ],
   "source": [
    "print(result.describe())"
   ]
  },
  {
   "cell_type": "code",
   "execution_count": 5,
   "metadata": {},
   "outputs": [
    {
     "name": "stdout",
     "output_type": "stream",
     "text": [
      "                Open      High       Low     Close    Volume  Ticker  \\\n",
      "Date                                                                   \n",
      "2008-09-02 -0.000448 -0.000500 -0.000449 -0.000443 -0.001862     474   \n",
      "2008-09-02 -0.000403 -0.000353 -0.000376 -0.000352 -0.000538    6936   \n",
      "2008-09-02 -0.000441 -0.000392 -0.000353 -0.000372 -0.000623    2533   \n",
      "2008-09-02 -0.000497 -0.000479 -0.000493 -0.000483 -0.001133    3777   \n",
      "2008-09-02 -0.000481 -0.000434 -0.000435 -0.000414 -0.001035    6525   \n",
      "\n",
      "            Sentiment  SPX_Close  \n",
      "Date                              \n",
      "2008-09-02        0.0  -0.346636  \n",
      "2008-09-02        0.0  -0.346636  \n",
      "2008-09-02        0.0  -0.346636  \n",
      "2008-09-02        0.0  -0.346636  \n",
      "2008-09-02        0.0  -0.346636  \n"
     ]
    }
   ],
   "source": [
    "print(result.head()) "
   ]
  },
  {
   "cell_type": "code",
   "execution_count": 6,
   "metadata": {},
   "outputs": [
    {
     "name": "stdout",
     "output_type": "stream",
     "text": [
      "(10221814, 8)\n"
     ]
    }
   ],
   "source": [
    "print(result.shape)"
   ]
  },
  {
   "cell_type": "code",
   "execution_count": 7,
   "metadata": {},
   "outputs": [
    {
     "name": "stdout",
     "output_type": "stream",
     "text": [
      "<class 'pandas.core.frame.DataFrame'>\n",
      "DatetimeIndex: 10221814 entries, 2008-09-02 to 2016-07-01\n",
      "Data columns (total 8 columns):\n",
      " #   Column     Dtype  \n",
      "---  ------     -----  \n",
      " 0   Open       float64\n",
      " 1   High       float64\n",
      " 2   Low        float64\n",
      " 3   Close      float64\n",
      " 4   Volume     float64\n",
      " 5   Ticker     int64  \n",
      " 6   Sentiment  float64\n",
      " 7   SPX_Close  float64\n",
      "dtypes: float64(7), int64(1)\n",
      "memory usage: 701.9 MB\n",
      "None\n"
     ]
    }
   ],
   "source": [
    "print(result.info())"
   ]
  },
  {
   "cell_type": "code",
   "execution_count": 8,
   "metadata": {},
   "outputs": [
    {
     "name": "stdout",
     "output_type": "stream",
     "text": [
      "               Open          High           Low         Close        Volume  \\\n",
      "count  1.022181e+07  1.022181e+07  1.022181e+07  1.022181e+07  1.022181e+07   \n",
      "mean   1.094212e-18  2.168787e-19  2.107529e-19  7.446515e-20 -8.387539e-19   \n",
      "std    1.000000e+00  1.000000e+00  1.000000e+00  1.000000e+00  1.000000e+00   \n",
      "min   -2.634815e-03 -2.465120e-03 -2.663523e-03 -2.565992e-03 -2.276643e-03   \n",
      "25%   -4.757033e-04 -4.631358e-04 -4.555661e-04 -4.519282e-04 -1.674400e-03   \n",
      "50%   -4.533493e-04 -4.454356e-04 -4.357042e-04 -4.311271e-04 -1.385771e-03   \n",
      "75%   -4.304992e-04 -4.287613e-04 -4.153315e-04 -4.097930e-04 -9.427570e-04   \n",
      "max    3.032715e+03  3.056634e+03  3.062554e+03  3.071663e+03  3.160052e+03   \n",
      "\n",
      "             Ticker     Sentiment     SPX_Close  \n",
      "count  1.022181e+07  1.022181e+07  1.022181e+07  \n",
      "mean   4.332930e+03  5.345802e-01 -1.540395e-17  \n",
      "std    2.507437e+03  4.988028e-01  1.000000e+00  \n",
      "min    0.000000e+00  0.000000e+00 -7.055598e+00  \n",
      "25%    2.113000e+03  0.000000e+00 -3.708494e-01  \n",
      "50%    4.376000e+03  1.000000e+00  1.902200e-02  \n",
      "75%    6.539000e+03  1.000000e+00  4.234247e-01  \n",
      "max    8.506000e+03  1.000000e+00  8.978452e+00  \n"
     ]
    }
   ],
   "source": [
    "print(result.describe())"
   ]
  },
  {
   "cell_type": "code",
   "execution_count": 9,
   "metadata": {},
   "outputs": [
    {
     "name": "stdout",
     "output_type": "stream",
     "text": [
      "                   Open      High           Low     Close        Volume  \\\n",
      "Open       1.000000e+00  0.999680  9.993682e-01  0.999013  5.620245e-07   \n",
      "High       9.996796e-01  1.000000  9.998348e-01  0.999730  1.276292e-06   \n",
      "Low        9.993682e-01  0.999835  1.000000e+00  0.999946  4.169018e-07   \n",
      "Close      9.990127e-01  0.999730  9.999457e-01  1.000000  1.204353e-06   \n",
      "Volume     5.620245e-07  0.000001  4.169018e-07  0.000001  1.000000e+00   \n",
      "Ticker     6.545738e-04  0.000646  6.421564e-04  0.000638 -4.616261e-05   \n",
      "Sentiment -2.495887e-04 -0.000257 -2.592330e-04 -0.000257  2.985378e-04   \n",
      "SPX_Close -1.869198e-04 -0.000186 -1.760787e-04 -0.000171  1.968185e-04   \n",
      "\n",
      "             Ticker  Sentiment  SPX_Close  \n",
      "Open       0.000655  -0.000250  -0.000187  \n",
      "High       0.000646  -0.000257  -0.000186  \n",
      "Low        0.000642  -0.000259  -0.000176  \n",
      "Close      0.000638  -0.000257  -0.000171  \n",
      "Volume    -0.000046   0.000299   0.000197  \n",
      "Ticker     1.000000  -0.000168   0.000275  \n",
      "Sentiment -0.000168   1.000000   0.622678  \n",
      "SPX_Close  0.000275   0.622678   1.000000  \n"
     ]
    },
    {
     "data": {
      "image/png": "[encoded data removed]",
      "text/plain": [
       "<Figure size 432x288 with 2 Axes>"
      ]
     },
     "metadata": {
      "needs_background": "light"
     },
     "output_type": "display_data"
    }
   ],
   "source": [
    "# This block prints the correlation table and heatmap for result df\n",
    "print(result.corr())\n",
    "\n",
    "seaborn.heatmap(result.corr());"
   ]
  },
  {
   "cell_type": "code",
   "execution_count": 10,
   "metadata": {},
   "outputs": [
    {
     "data": {
      "text/plain": [
       "<AxesSubplot:>"
      ]
     },
     "execution_count": 10,
     "metadata": {},
     "output_type": "execute_result"
    },
    {
     "data": {
      "image/png": "[encoded data removed]",
      "text/plain": [
       "<Figure size 432x288 with 1 Axes>"
      ]
     },
     "metadata": {
      "needs_background": "light"
     },
     "output_type": "display_data"
    }
   ],
   "source": [
    "result.SPX_Close.hist(bins=50)"
   ]
  },
  {
   "cell_type": "code",
   "execution_count": 11,
   "metadata": {},
   "outputs": [
    {
     "data": {
      "text/plain": [
       "<AxesSubplot:>"
      ]
     },
     "execution_count": 11,
     "metadata": {},
     "output_type": "execute_result"
    },
    {
     "data": {
      "image/png": "[encoded data removed]",
      "text/plain": [
       "<Figure size 432x288 with 1 Axes>"
      ]
     },
     "metadata": {
      "needs_background": "light"
     },
     "output_type": "display_data"
    }
   ],
   "source": [
    "result.Volume.hist(bins=50,range=(-0.005,0.005))"
   ]
  },
  {
   "cell_type": "code",
   "execution_count": 12,
   "metadata": {},
   "outputs": [
    {
     "data": {
      "text/plain": [
       "<AxesSubplot:>"
      ]
     },
     "execution_count": 12,
     "metadata": {},
     "output_type": "execute_result"
    },
    {
     "data": {
      "image/png": "[encoded data removed]",
      "text/plain": [
       "<Figure size 432x288 with 1 Axes>"
      ]
     },
     "metadata": {
      "needs_background": "light"
     },
     "output_type": "display_data"
    }
   ],
   "source": [
    "result.Close.hist(bins=50,range=(-0.0005,0))"
   ]
  },
  {
   "cell_type": "code",
   "execution_count": 13,
   "metadata": {},
   "outputs": [],
   "source": [
    "# Save file in csv format\n",
    "#normalised_result.to_csv('./data/normalised_result.csv')"
   ]
  }
 ],
 "metadata": {
  "colab": {
   "authorship_tag": "ABX9TyMOCoUx0lhdt5AUHUTJcCJ6",
   "collapsed_sections": [],
   "mount_file_id": "1TttrXeq5PRIcvgddvR0NYDyPmn7rV3ae",
   "name": "EDA_1.ipynb",
   "provenance": []
  },
  "kernelspec": {
   "display_name": "Python 3 (ipykernel)",
   "language": "python",
   "name": "python3"
  },
  "language_info": {
   "codemirror_mode": {
    "name": "ipython",
    "version": 3
   },
   "file_extension": ".py",
   "mimetype": "text/x-python",
   "name": "python",
   "nbconvert_exporter": "python",
   "pygments_lexer": "ipython3",
   "version": "3.8.13"
  }
 },
 "nbformat": 4,
 "nbformat_minor": 1
}
