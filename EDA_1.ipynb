{
 "cells": [
  {
   "cell_type": "markdown",
   "metadata": {
    "id": "8w1ylQ7JNnVi"
   },
   "source": [
    "This notebook is dedicated to exploratory data analysis on the raw data set.\n",
    "\n",
    "It covers the following:\n",
    "*   Loading raw data into a single aggregated dataframe\n",
    "*   Performing various EDA tasks on the resulting dataframe\n",
    "\n"
   ]
  },
  {
   "cell_type": "code",
   "execution_count": 1,
   "metadata": {
    "executionInfo": {
     "elapsed": 375,
     "status": "ok",
     "timestamp": 1646079030153,
     "user": {
      "displayName": "Martin Sedlacek",
      "photoUrl": "https://lh3.googleusercontent.com/a-/AOh14Gju19TlDpXtCMx8eR63MmP-uY5vmiu9noZCmgzY=s64",
      "userId": "01394071077629115142"
     },
     "user_tz": -60
    },
    "id": "KBW-jkcl7T9U"
   },
   "outputs": [],
   "source": [
    "# import libraries\n",
    "from os import path, listdir\n",
    "import numpy as np\n",
    "import pandas as pd\n",
    "import seaborn \n",
    "import matplotlib"
   ]
  },
  {
   "cell_type": "code",
   "execution_count": 3,
   "metadata": {
    "executionInfo": {
     "elapsed": 3,
     "status": "ok",
     "timestamp": 1646079040494,
     "user": {
      "displayName": "Martin Sedlacek",
      "photoUrl": "https://lh3.googleusercontent.com/a-/AOh14Gju19TlDpXtCMx8eR63MmP-uY5vmiu9noZCmgzY=s64",
      "userId": "01394071077629115142"
     },
     "user_tz": -60
    },
    "id": "MTMcu0d9OKhg"
   },
   "outputs": [],
   "source": [
    "# display all columns in the dataset when printing (e.g. head())\n",
    "pd.set_option('display.max_columns', None)"
   ]
  },
  {
   "cell_type": "code",
   "execution_count": 2,
   "metadata": {
    "executionInfo": {
     "elapsed": 230,
     "status": "ok",
     "timestamp": 1646079039391,
     "user": {
      "displayName": "Martin Sedlacek",
      "photoUrl": "https://lh3.googleusercontent.com/a-/AOh14Gju19TlDpXtCMx8eR63MmP-uY5vmiu9noZCmgzY=s64",
      "userId": "01394071077629115142"
     },
     "user_tz": -60
    },
    "id": "Y0qR0eKxOOMU"
   },
   "outputs": [],
   "source": [
    "# set full google drive path\n",
    "# NOTE: check if this points to the correct project fodler on google drive\n",
    "gdrive_path = \"/content/drive/MyDrive/Colab Notebooks/Dissertation\""
   ]
  },
  {
   "cell_type": "code",
   "execution_count": 4,
   "metadata": {
    "executionInfo": {
     "elapsed": 296632,
     "status": "ok",
     "timestamp": 1646079338900,
     "user": {
      "displayName": "Martin Sedlacek",
      "photoUrl": "https://lh3.googleusercontent.com/a-/AOh14Gju19TlDpXtCMx8eR63MmP-uY5vmiu9noZCmgzY=s64",
      "userId": "01394071077629115142"
     },
     "user_tz": -60
    },
    "id": "WSPsIuhiXSjM"
   },
   "outputs": [],
   "source": [
    "# This script loads the source datasets and produces a single joint pandas dataframe\n",
    "def load_sentiment_data():\n",
    "    data = pd.read_csv(gdrive_path + \"/data/Combined_News_DJIA.csv\",usecols=['Date','Label'])\n",
    "    # Set Date as index\n",
    "    data['Date'] = pd.to_datetime(data['Date'])\n",
    "    data.set_index('Date', inplace=True)\n",
    "    # Rename column\n",
    "    data.columns = ['Sentiment']\n",
    "    return data\n",
    "\n",
    "\n",
    "def load_spx_data():\n",
    "    data = pd.read_csv(gdrive_path + \"/data/spx.csv\")\n",
    "    # Set Date as index\n",
    "    data['Date'] = pd.to_datetime(data['Date'])\n",
    "    data.set_index('Date', inplace=True)\n",
    "    # Rename column\n",
    "    data.columns = ['SPX_Close']\n",
    "    return data\n",
    "\n",
    "\n",
    "# General method for loading Stock/ETF data from many .txt sources in a directory\n",
    "def load_txts(dir_path):\n",
    "    # Load the data for multiple .txt files\n",
    "    data = []\n",
    "    csv_paths = [dir_path+x for x in listdir(dir_path) if x.endswith('.txt') and path.getsize(dir_path+x) > 0]\n",
    "    for file_path in csv_paths:\n",
    "        df = pd.read_csv(file_path, usecols=['Date','Open','High','Low','Close','Volume'])\n",
    "        # Add 'Ticker' for the Stock/ETF as feature\n",
    "        df['Ticker'] = file_path.replace(dir_path,'').replace('.txt', '')\n",
    "        data.append(df)\n",
    "    data = pd.concat(data, ignore_index=True)\n",
    "    data.reset_index(inplace=True, drop=True)\n",
    "    # Set Date as index\n",
    "    data['Date'] = pd.to_datetime(data['Date'])\n",
    "    data.set_index('Date', inplace=True)\n",
    "    return data\n",
    "\n",
    "\n",
    "def load_stock_data():\n",
    "    return load_txts(gdrive_path + '/data/Stocks/')\n",
    "\n",
    "\n",
    "def load_etf_data():\n",
    "    return load_txts(gdrive_path + '/data/ETFs/')\n",
    "\n",
    "\n",
    "# Filter rows that are no in the time range from a time series dataframe\n",
    "def filter_by_time(df):\n",
    "    return df.sort_index().loc['2008-09-01':'2016-07-01']\n",
    "\n",
    "\n",
    "# Load initial data\n",
    "sentiment = load_sentiment_data()\n",
    "spx = load_spx_data()\n",
    "stocks = load_stock_data()\n",
    "etfs = load_etf_data()\n",
    "\n",
    "# Filter sentiment adn spx dataframes by time\n",
    "sentiment = filter_by_time(sentiment)\n",
    "spx = filter_by_time(spx)\n",
    "\n",
    "# Join the datasets into a single dataframe \"result\"\n",
    "stock_etf_df = pd.concat([etfs, stocks])\n",
    "stock_etf_df = filter_by_time(stock_etf_df)\n",
    "sentiment_labeled_df = stock_etf_df.join(sentiment, how=\"outer\")\n",
    "result = sentiment_labeled_df.join(spx, how=\"outer\")\n"
   ]
  },
  {
   "cell_type": "code",
   "execution_count": null,
   "metadata": {
    "id": "pDy9F1rcUHzK"
   },
   "outputs": [],
   "source": [
    "# drop non-numerical values\n",
    "result = result.replace([np.inf, -np.inf], np.nan).dropna()"
   ]
  },
  {
   "cell_type": "code",
   "execution_count": null,
   "metadata": {
    "colab": {
     "base_uri": "https://localhost:8080/"
    },
    "executionInfo": {
     "elapsed": 2852,
     "status": "ok",
     "timestamp": 1646051766407,
     "user": {
      "displayName": "Martin Sedlacek",
      "photoUrl": "https://lh3.googleusercontent.com/a-/AOh14Gju19TlDpXtCMx8eR63MmP-uY5vmiu9noZCmgzY=s64",
      "userId": "01394071077629115142"
     },
     "user_tz": -60
    },
    "id": "5NLN87YJDXWV",
    "outputId": "0b1b1a3e-8ef1-4bcf-c4a5-bfaf18108122"
   },
   "outputs": [
    {
     "name": "stdout",
     "output_type": "stream",
     "text": [
      "              Open    High     Low   Close  Volume   Ticker  Sentiment  \\\n",
      "Date                                                                     \n",
      "2008-09-02   9.130   9.250   8.990   9.040   82849  cybe.us        0.0   \n",
      "2008-09-02   7.090   7.690   7.090   7.420  632437    rt.us        0.0   \n",
      "2008-09-02  27.399  27.399  27.261  27.261    1093   rfv.us        0.0   \n",
      "2008-09-02  18.500  18.750  17.500  18.500     540  itus.us        0.0   \n",
      "2008-09-02  10.787  11.323  10.732  11.145  114523   hep.us        0.0   \n",
      "\n",
      "            SPX_Close  \n",
      "Date                   \n",
      "2008-09-02    1277.58  \n",
      "2008-09-02    1277.58  \n",
      "2008-09-02    1277.58  \n",
      "2008-09-02    1277.58  \n",
      "2008-09-02    1277.58  \n",
      "(10233577, 8)\n",
      "<class 'pandas.core.frame.DataFrame'>\n",
      "DatetimeIndex: 10233577 entries, 2008-09-02 to 2016-07-01\n",
      "Data columns (total 8 columns):\n",
      " #   Column     Dtype  \n",
      "---  ------     -----  \n",
      " 0   Open       float64\n",
      " 1   High       float64\n",
      " 2   Low        float64\n",
      " 3   Close      float64\n",
      " 4   Volume     int64  \n",
      " 5   Ticker     object \n",
      " 6   Sentiment  float64\n",
      " 7   SPX_Close  float64\n",
      "dtypes: float64(6), int64(1), object(1)\n",
      "memory usage: 702.7+ MB\n",
      "None\n",
      "               Open          High           Low         Close        Volume  \\\n",
      "count  1.023358e+07  1.023358e+07  1.023358e+07  1.023358e+07  1.023358e+07   \n",
      "mean   9.415826e+03  9.712005e+03  9.006485e+03  9.318189e+03  1.371926e+06   \n",
      "std    1.116596e+06  1.151607e+06  1.048119e+06  1.093043e+06  8.026857e+06   \n",
      "min    0.000000e+00  4.000000e-03  0.000000e+00  3.700000e-03  0.000000e+00   \n",
      "25%    9.270600e+00  9.420000e+00  9.115700e+00  9.270000e+00  2.198400e+04   \n",
      "50%    1.886200e+01  1.910500e+01  1.860000e+01  1.886100e+01  1.254750e+05   \n",
      "75%    3.474600e+01  3.516200e+01  3.430000e+01  3.474300e+01  6.197410e+05   \n",
      "max    7.904148e+08  7.905246e+08  7.493514e+08  7.551706e+08  2.423735e+09   \n",
      "\n",
      "          Sentiment     SPX_Close  \n",
      "count  1.023358e+07  1.023358e+07  \n",
      "mean   5.345541e-01  1.569788e+03  \n",
      "std    4.988046e-01  4.064652e+02  \n",
      "min    0.000000e+00  6.765300e+02  \n",
      "25%    0.000000e+00  1.219660e+03  \n",
      "50%    1.000000e+00  1.556220e+03  \n",
      "75%    1.000000e+00  1.981570e+03  \n",
      "max    1.000000e+00  2.130820e+03  \n"
     ]
    }
   ],
   "source": [
    "# Basic EDA on the result df\n",
    "print(result.head()) \n",
    "\n",
    "print(result.shape)\n",
    "print(result.info())\n",
    "\n",
    "print(result.describe())\n"
   ]
  },
  {
   "cell_type": "code",
   "execution_count": null,
   "metadata": {
    "colab": {
     "base_uri": "https://localhost:8080/",
     "height": 606
    },
    "executionInfo": {
     "elapsed": 4513,
     "status": "ok",
     "timestamp": 1646051773909,
     "user": {
      "displayName": "Martin Sedlacek",
      "photoUrl": "https://lh3.googleusercontent.com/a-/AOh14Gju19TlDpXtCMx8eR63MmP-uY5vmiu9noZCmgzY=s64",
      "userId": "01394071077629115142"
     },
     "user_tz": -60
    },
    "id": "wzA60elJxRVw",
    "outputId": "46100f59-e3f6-48c6-cca0-e48d70fab748"
   },
   "outputs": [
    {
     "name": "stdout",
     "output_type": "stream",
     "text": [
      "               Open      High       Low     Close    Volume  Sentiment  \\\n",
      "Open       1.000000  0.999327  0.998864  0.998352 -0.001436  -0.000290   \n",
      "High       0.999327  1.000000  0.998589  0.999006 -0.001437  -0.000286   \n",
      "Low        0.998864  0.998589  1.000000  0.999288 -0.001464  -0.000214   \n",
      "Close      0.998352  0.999006  0.999288  1.000000 -0.001452  -0.000191   \n",
      "Volume    -0.001436 -0.001437 -0.001464 -0.001452  1.000000  -0.003993   \n",
      "Sentiment -0.000290 -0.000286 -0.000214 -0.000191 -0.003993   1.000000   \n",
      "SPX_Close -0.006416 -0.006464 -0.006444 -0.006452 -0.060214   0.010591   \n",
      "\n",
      "           SPX_Close  \n",
      "Open       -0.006416  \n",
      "High       -0.006464  \n",
      "Low        -0.006444  \n",
      "Close      -0.006452  \n",
      "Volume     -0.060214  \n",
      "Sentiment   0.010591  \n",
      "SPX_Close   1.000000  \n"
     ]
    },
    {
     "data": {
      "image/png": "[encoded data removed]",
      "text/plain": [
       "<Figure size 432x288 with 2 Axes>"
      ]
     },
     "metadata": {
      "needs_background": "light"
     },
     "output_type": "display_data"
    }
   ],
   "source": [
    "# This block prints the correlation table and heatmap for result df\n",
    "print(result.corr())\n",
    "\n",
    "seaborn.heatmap(result.corr());"
   ]
  },
  {
   "cell_type": "code",
   "execution_count": null,
   "metadata": {
    "colab": {
     "base_uri": "https://localhost:8080/",
     "height": 283
    },
    "executionInfo": {
     "elapsed": 486,
     "status": "ok",
     "timestamp": 1646051774391,
     "user": {
      "displayName": "Martin Sedlacek",
      "photoUrl": "https://lh3.googleusercontent.com/a-/AOh14Gju19TlDpXtCMx8eR63MmP-uY5vmiu9noZCmgzY=s64",
      "userId": "01394071077629115142"
     },
     "user_tz": -60
    },
    "id": "YMSJKenq5wk3",
    "outputId": "589a62cb-9807-4ad7-cd13-c4a55390537f"
   },
   "outputs": [
    {
     "data": {
      "text/plain": [
       "<matplotlib.axes._subplots.AxesSubplot at 0x7fabdf771610>"
      ]
     },
     "execution_count": 28,
     "metadata": {},
     "output_type": "execute_result"
    },
    {
     "data": {
      "image/png": "[encoded data removed]",
      "text/plain": [
       "<Figure size 432x288 with 1 Axes>"
      ]
     },
     "metadata": {
      "needs_background": "light"
     },
     "output_type": "display_data"
    }
   ],
   "source": [
    "# Plot the distribution of the SPX_Close variable as a histogram using matplotlib\n",
    "result.SPX_Close.hist(bins=50)"
   ]
  },
  {
   "cell_type": "code",
   "execution_count": null,
   "metadata": {
    "colab": {
     "base_uri": "https://localhost:8080/",
     "height": 295
    },
    "executionInfo": {
     "elapsed": 963,
     "status": "ok",
     "timestamp": 1646059315329,
     "user": {
      "displayName": "Martin Sedlacek",
      "photoUrl": "https://lh3.googleusercontent.com/a-/AOh14Gju19TlDpXtCMx8eR63MmP-uY5vmiu9noZCmgzY=s64",
      "userId": "01394071077629115142"
     },
     "user_tz": -60
    },
    "id": "mkwdSJOOUBzz",
    "outputId": "79fd47c2-980e-4d31-b29a-9f9100595ad4"
   },
   "outputs": [
    {
     "data": {
      "text/plain": [
       "<matplotlib.axes._subplots.AxesSubplot at 0x7fb9ef319350>"
      ]
     },
     "execution_count": 20,
     "metadata": {},
     "output_type": "execute_result"
    },
    {
     "data": {
      "image/png": "[encoded data removed]",
      "text/plain": [
       "<Figure size 432x288 with 1 Axes>"
      ]
     },
     "metadata": {
      "needs_background": "light"
     },
     "output_type": "display_data"
    }
   ],
   "source": [
    "result.Open.hist(bins=100, range=(200000000,2000000000))"
   ]
  }
 ],
 "metadata": {
  "colab": {
   "authorship_tag": "ABX9TyMOCoUx0lhdt5AUHUTJcCJ6",
   "collapsed_sections": [],
   "mount_file_id": "1TttrXeq5PRIcvgddvR0NYDyPmn7rV3ae",
   "name": "EDA_1.ipynb",
   "provenance": []
  },
  "kernelspec": {
   "display_name": "Python 3 (ipykernel)",
   "language": "python",
   "name": "python3"
  },
  "language_info": {
   "codemirror_mode": {
    "name": "ipython",
    "version": 3
   },
   "file_extension": ".py",
   "mimetype": "text/x-python",
   "name": "python",
   "nbconvert_exporter": "python",
   "pygments_lexer": "ipython3",
   "version": "3.9.7"
  }
 },
 "nbformat": 4,
 "nbformat_minor": 1
}
