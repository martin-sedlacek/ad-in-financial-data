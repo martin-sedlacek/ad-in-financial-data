{
 "cells": [
  {
   "cell_type": "code",
   "execution_count": 1,
   "metadata": {
    "pycharm": {
     "name": "#%%\n"
    }
   },
   "outputs": [],
   "source": [
    "import torch\n",
    "from torch import nn\n",
    "import data_utils\n",
    "from models.FenceGAN import Generator, Discriminator\n",
    "from training.FenceGAN_train import FenceGanTrainingPipeline\n",
    "import matplotlib.pyplot as plt"
   ]
  },
  {
   "cell_type": "code",
   "execution_count": 2,
   "metadata": {
    "pycharm": {
     "name": "#%%\n"
    }
   },
   "outputs": [
    {
     "name": "stdout",
     "output_type": "stream",
     "text": [
      "cuda\n"
     ]
    }
   ],
   "source": [
    "DEVICE = torch.device(\"cuda\" if torch.cuda.is_available() else \"cpu\")\n",
    "print(DEVICE)"
   ]
  },
  {
   "cell_type": "markdown",
   "metadata": {},
   "source": [
    "# Hyperparameters"
   ]
  },
  {
   "cell_type": "code",
   "execution_count": 3,
   "metadata": {},
   "outputs": [],
   "source": [
    "# choose dataset (kdd99, aapl, gm, axp)\n",
    "dataset = \"axp\""
   ]
  },
  {
   "cell_type": "code",
   "execution_count": 4,
   "metadata": {
    "pycharm": {
     "name": "#%%\n"
    }
   },
   "outputs": [],
   "source": [
    "# Data\n",
    "batch_size = 8\n",
    "random_seed = 0\n",
    "num_features = 7\n",
    "seq_length = 1\n",
    "seq_stride = 1\n",
    "gen_seq_len = seq_length\n",
    "# Model\n",
    "latent_dim = 30\n",
    "# Training\n",
    "gen_lr = 1e-4\n",
    "gen_wd = 1e-3\n",
    "dis_lr = 8e-6\n",
    "dis_wd = 1e-3\n",
    "dis_momentum = 0.9\n",
    "num_epochs = 50"
   ]
  },
  {
   "cell_type": "markdown",
   "metadata": {},
   "source": [
    "# Load data"
   ]
  },
  {
   "cell_type": "code",
   "execution_count": 5,
   "metadata": {},
   "outputs": [],
   "source": [
    "if dataset == \"kdd99\":\n",
    "    train_dl, test_dl = data_utils.kdd99(seq_length, seq_stride, num_features, gen_seq_len, batch_size)\n",
    "else:\n",
    "    file_path = 'data/financial_data/Stocks/'+dataset+'.us.txt'\n",
    "    tscv_dl_list = data_utils.load_stock_as_crossvalidated_timeseries(file_path, seq_length, seq_stride, gen_seq_len, batch_size, normalise=True)"
   ]
  },
  {
   "cell_type": "markdown",
   "metadata": {
    "pycharm": {
     "name": "#%% md\n"
    }
   },
   "source": [
    "# Model"
   ]
  },
  {
   "cell_type": "code",
   "execution_count": 6,
   "metadata": {},
   "outputs": [],
   "source": [
    "# use xavier initialization for weights\n",
    "def init_weights(m):\n",
    "    if type(m) == nn.Linear:\n",
    "        torch.nn.init.xavier_uniform_(m.weight)   "
   ]
  },
  {
   "cell_type": "code",
   "execution_count": 7,
   "metadata": {
    "pycharm": {
     "name": "#%%\n"
    }
   },
   "outputs": [
    {
     "data": {
      "text/plain": [
       "Generator(\n",
       "  (linear1): Linear(in_features=30, out_features=64, bias=True)\n",
       "  (linear2): Linear(in_features=64, out_features=128, bias=True)\n",
       "  (linear3): Linear(in_features=128, out_features=7, bias=True)\n",
       ")"
      ]
     },
     "execution_count": 7,
     "metadata": {},
     "output_type": "execute_result"
    }
   ],
   "source": [
    "generator = Generator(input_dim=latent_dim,output_dim=num_features).to(device=DEVICE)\n",
    "generator.apply(init_weights)"
   ]
  },
  {
   "cell_type": "code",
   "execution_count": 8,
   "metadata": {
    "pycharm": {
     "name": "#%%\n"
    }
   },
   "outputs": [
    {
     "data": {
      "text/plain": [
       "Discriminator(\n",
       "  (linear1): Linear(in_features=7, out_features=256, bias=True)\n",
       "  (linear2): Linear(in_features=256, out_features=128, bias=True)\n",
       "  (linear3): Linear(in_features=128, out_features=128, bias=True)\n",
       "  (linear4): Linear(in_features=128, out_features=1, bias=True)\n",
       "  (sigmoid): Sigmoid()\n",
       ")"
      ]
     },
     "execution_count": 8,
     "metadata": {},
     "output_type": "execute_result"
    }
   ],
   "source": [
    "discriminator = Discriminator(input_dim=num_features).to(device=DEVICE)\n",
    "discriminator.apply(init_weights)"
   ]
  },
  {
   "cell_type": "markdown",
   "metadata": {},
   "source": [
    "# Loss and Optimizer"
   ]
  },
  {
   "cell_type": "code",
   "execution_count": 9,
   "metadata": {
    "pycharm": {
     "name": "#%%\n"
    }
   },
   "outputs": [],
   "source": [
    "generator_optim = torch.optim.Adam(generator.parameters(), lr=gen_lr, weight_decay=gen_wd)\n",
    "discriminator_optim = torch.optim.SGD(discriminator.parameters(), lr=dis_lr, weight_decay=dis_wd)"
   ]
  },
  {
   "cell_type": "code",
   "execution_count": 10,
   "metadata": {},
   "outputs": [],
   "source": [
    "def dispersion_loss(G_out, y_pred, y_true):\n",
    "    dispersion_weight = 30\n",
    "    loss_b = nn.BCELoss()(y_pred, y_true)\n",
    "    center = G_out.mean(dim=0, keepdims=True)\n",
    "    distance_xy = torch.square(torch.subtract(G_out, center))\n",
    "    if G_out.dim() > 1:\n",
    "        distance = distance_xy.sum(dim=1)\n",
    "    else:\n",
    "        distance = distance_xy.sum()\n",
    "    avg_distance = torch.sqrt(distance).mean()\n",
    "    loss_d = torch.reciprocal(avg_distance)\n",
    "    loss = loss_b + dispersion_weight*loss_d\n",
    "    return loss"
   ]
  },
  {
   "cell_type": "code",
   "execution_count": 11,
   "metadata": {},
   "outputs": [],
   "source": [
    "def disc_loss(real_pred, real_true, fake_pred, fake_true):\n",
    "    gen_weight = 0.5\n",
    "    loss_real = nn.BCELoss()(real_pred, real_true)\n",
    "    loss_gen = nn.BCELoss()(fake_pred, fake_true)\n",
    "    loss = loss_real + gen_weight * loss_gen\n",
    "    return loss"
   ]
  },
  {
   "cell_type": "markdown",
   "metadata": {},
   "source": [
    "# Training"
   ]
  },
  {
   "cell_type": "code",
   "execution_count": 12,
   "metadata": {},
   "outputs": [],
   "source": [
    "pipeline = FenceGanTrainingPipeline()"
   ]
  },
  {
   "cell_type": "code",
   "execution_count": 13,
   "metadata": {
    "pycharm": {
     "name": "#%%\n"
    }
   },
   "outputs": [
    {
     "name": "stdout",
     "output_type": "stream",
     "text": [
      "Epoch 0: G_loss: 29.92186709148128, D_loss_real: 1.0154574498897646\n",
      "Epoch 1: G_loss: 29.10731738951148, D_loss_real: 1.00639479770893\n",
      "Epoch 2: G_loss: 25.743796185749332, D_loss_real: 1.012747033340175\n",
      "Epoch 3: G_loss: 25.25482526639613, D_loss_real: 1.005496935146611\n",
      "Epoch 4: G_loss: 23.283972344747404, D_loss_real: 1.0101549232878335\n",
      "Epoch 5: G_loss: 22.92787570488162, D_loss_real: 1.0128223023763516\n",
      "Epoch 6: G_loss: 22.059006714239352, D_loss_real: 1.0062012279905923\n",
      "Epoch 7: G_loss: 20.574369197938502, D_loss_real: 1.012354148597252\n",
      "Epoch 8: G_loss: 19.225924422101276, D_loss_real: 1.0148338006763924\n",
      "Epoch 9: G_loss: 18.530715616737925, D_loss_real: 1.0176356144067717\n",
      "Epoch 10: G_loss: 17.95960349571414, D_loss_real: 1.020706998138893\n",
      "Epoch 11: G_loss: 17.877934060445646, D_loss_real: 1.0135226336921133\n",
      "Epoch 12: G_loss: 16.232094206461092, D_loss_real: 1.0166252386279222\n",
      "Epoch 13: G_loss: 15.603293186280785, D_loss_real: 1.022705448836815\n",
      "Epoch 14: G_loss: 15.760701947095917, D_loss_real: 1.0286901971188986\n",
      "Epoch 15: G_loss: 14.14361511788717, D_loss_real: 1.0209761916137323\n",
      "Epoch 16: G_loss: 14.011654179270675, D_loss_real: 1.0206401915085026\n",
      "Epoch 17: G_loss: 13.989389791721251, D_loss_real: 1.0259065555363167\n",
      "Epoch 18: G_loss: 13.212617757843763, D_loss_real: 1.0269929824805841\n",
      "Epoch 19: G_loss: 12.396430178386408, D_loss_real: 1.0234113437373464\n",
      "Epoch 20: G_loss: 12.04128190947742, D_loss_real: 1.026348079123148\n",
      "Epoch 21: G_loss: 11.935423525368295, D_loss_real: 1.0344418737946488\n",
      "Epoch 22: G_loss: 11.19677055172804, D_loss_real: 1.0259237158589247\n",
      "Epoch 23: G_loss: 11.412438229816717, D_loss_real: 1.0300888840745135\n",
      "Epoch 24: G_loss: 10.694411975581472, D_loss_real: 1.024604502247601\n",
      "Epoch 25: G_loss: 10.409298780487806, D_loss_real: 1.0322235415621501\n",
      "Epoch 26: G_loss: 10.34858540790837, D_loss_real: 1.0316307544708252\n",
      "Epoch 27: G_loss: 9.81491997183823, D_loss_real: 1.0291461435759939\n",
      "Epoch 28: G_loss: 9.582261573977586, D_loss_real: 1.0294536584761085\n",
      "Epoch 29: G_loss: 9.323396950233274, D_loss_real: 1.0466456980240055\n",
      "Epoch 30: G_loss: 9.116594570439036, D_loss_real: 1.0418031695412426\n",
      "Epoch 31: G_loss: 8.97189562495162, D_loss_real: 1.0358334372683269\n",
      "Epoch 32: G_loss: 8.887945337993342, D_loss_real: 1.0424530666048935\n",
      "Epoch 33: G_loss: 8.614870862263006, D_loss_real: 1.033519323279218\n",
      "Epoch 34: G_loss: 8.227700256719821, D_loss_real: 1.0428842814957224\n",
      "Epoch 35: G_loss: 8.304668054348085, D_loss_real: 1.034185133329252\n",
      "Epoch 36: G_loss: 7.960947129784561, D_loss_real: 1.0510473222267338\n",
      "Epoch 37: G_loss: 7.891206776223531, D_loss_real: 1.0457726164561947\n",
      "Epoch 38: G_loss: 7.708628852192948, D_loss_real: 1.0469723329311464\n",
      "Epoch 39: G_loss: 7.703005744189751, D_loss_real: 1.0436008703417894\n",
      "Epoch 40: G_loss: 7.159784072782935, D_loss_real: 1.0570777552883799\n",
      "Epoch 41: G_loss: 7.1468689150926545, D_loss_real: 1.0586055764337865\n",
      "Epoch 42: G_loss: 6.894392653209407, D_loss_real: 1.0467532117192337\n",
      "Epoch 43: G_loss: 6.713245705860417, D_loss_real: 1.0606939065747145\n",
      "Epoch 44: G_loss: 6.567963867652707, D_loss_real: 1.0556169602929093\n",
      "Epoch 45: G_loss: 6.592743373498684, D_loss_real: 1.0527721309080356\n",
      "Epoch 46: G_loss: 6.637324775137553, D_loss_real: 1.0603944150412954\n",
      "Epoch 47: G_loss: 6.303523098550191, D_loss_real: 1.0689106365529502\n",
      "Epoch 48: G_loss: 6.18559017414, D_loss_real: 1.066066967277992\n",
      "Epoch 49: G_loss: 6.12637229082061, D_loss_real: 1.0771617802177988\n",
      "EM: 0.004608017010379798, MV: 141.44041464357053\n",
      "Epoch 0: G_loss: 5.758032339375194, D_loss_real: 1.0886904241108313\n",
      "Epoch 1: G_loss: 5.5349641253308555, D_loss_real: 1.0790086512158557\n",
      "Epoch 2: G_loss: 5.277659829069928, D_loss_real: 1.0909172267448612\n",
      "Epoch 3: G_loss: 5.067845571331862, D_loss_real: 1.098423933837472\n",
      "Epoch 4: G_loss: 5.206225025944594, D_loss_real: 1.1017663987671458\n",
      "Epoch 5: G_loss: 4.986620085995372, D_loss_real: 1.094288632637117\n",
      "Epoch 6: G_loss: 4.713994343106339, D_loss_real: 1.1076796498240493\n",
      "Epoch 7: G_loss: 4.621381628804091, D_loss_real: 1.1025666863453099\n",
      "Epoch 8: G_loss: 4.245672432387748, D_loss_real: 1.1163199689330123\n",
      "Epoch 9: G_loss: 4.341754014899091, D_loss_real: 1.114366079249033\n",
      "Epoch 10: G_loss: 4.202132213406447, D_loss_real: 1.1206678057589181\n",
      "Epoch 11: G_loss: 4.0566038765558385, D_loss_real: 1.1320025971749934\n",
      "Epoch 12: G_loss: 3.8628983701147686, D_loss_real: 1.1329664878728913\n",
      "Epoch 13: G_loss: 3.8687825697224314, D_loss_real: 1.1391882169537428\n",
      "Epoch 14: G_loss: 3.7274501934284117, D_loss_real: 1.1360992309523792\n",
      "Epoch 15: G_loss: 3.62637654746451, D_loss_real: 1.1430811060637962\n",
      "Epoch 16: G_loss: 3.460452466476254, D_loss_real: 1.153976196196021\n",
      "Epoch 17: G_loss: 3.3548001835985883, D_loss_real: 1.1558374217370662\n",
      "Epoch 18: G_loss: 3.281908203915852, D_loss_real: 1.1486559866405115\n",
      "Epoch 19: G_loss: 3.268418155065397, D_loss_real: 1.1544418276810064\n",
      "Epoch 20: G_loss: 3.089415242032307, D_loss_real: 1.1529516250621983\n",
      "Epoch 21: G_loss: 3.0479943897666, D_loss_real: 1.1692134040157969\n",
      "Epoch 22: G_loss: 2.9646962415881273, D_loss_real: 1.1762919018908244\n",
      "Epoch 23: G_loss: 2.907707237615818, D_loss_real: 1.1667664269121683\n",
      "Epoch 24: G_loss: 2.7707584253171595, D_loss_real: 1.1485455588596623\n",
      "Epoch 25: G_loss: 2.8373477313576676, D_loss_real: 1.1688277619641\n",
      "Epoch 26: G_loss: 2.638384686737526, D_loss_real: 1.1717901033599203\n",
      "Epoch 27: G_loss: 2.7098419549988537, D_loss_real: 1.1507032615382498\n",
      "Epoch 28: G_loss: 2.6310596117159215, D_loss_real: 1.1670208180822976\n",
      "Epoch 29: G_loss: 2.5786318066643505, D_loss_real: 1.1551794213492697\n",
      "Epoch 30: G_loss: 2.5340121301209053, D_loss_real: 1.146592429498347\n",
      "Epoch 31: G_loss: 2.4519523164121115, D_loss_real: 1.151233327824895\n",
      "Epoch 32: G_loss: 2.398549883830838, D_loss_real: 1.1539447605609894\n",
      "Epoch 33: G_loss: 2.51476762207543, D_loss_real: 1.1368673182115323\n",
      "Epoch 34: G_loss: 2.383630057660545, D_loss_real: 1.1282030082330472\n",
      "Epoch 35: G_loss: 2.3632038933474844, D_loss_real: 1.1147817402351192\n",
      "Epoch 36: G_loss: 2.3796851504139784, D_loss_real: 1.1095723749660864\n",
      "Epoch 37: G_loss: 2.3505200191241937, D_loss_real: 1.1010564602002866\n",
      "Epoch 38: G_loss: 2.3678992347019476, D_loss_real: 1.0945891156429197\n",
      "Epoch 39: G_loss: 2.2599144388989703, D_loss_real: 1.0729726407586075\n",
      "Epoch 40: G_loss: 2.335898410983202, D_loss_real: 1.097745880121138\n",
      "Epoch 41: G_loss: 2.301471165040644, D_loss_real: 1.0465923017118035\n",
      "Epoch 42: G_loss: 2.309628204601567, D_loss_real: 1.066676090403301\n",
      "Epoch 43: G_loss: 2.330890713668451, D_loss_real: 1.0569755485871943\n",
      "Epoch 44: G_loss: 2.3526797599908784, D_loss_real: 1.044218098245016\n",
      "Epoch 45: G_loss: 2.3369692782076394, D_loss_real: 1.020262426719433\n",
      "Epoch 46: G_loss: 2.3498934565520866, D_loss_real: 1.025651331354932\n",
      "Epoch 47: G_loss: 2.360103378935558, D_loss_real: 1.0069419414531895\n",
      "Epoch 48: G_loss: 2.404064934428145, D_loss_real: 1.0077884328074571\n",
      "Epoch 49: G_loss: 2.4044656390097083, D_loss_real: 1.0153522375153332\n",
      "EM: 0.004815625357668275, MV: 56.37653813441583\n",
      "Epoch 0: G_loss: 2.384223070571093, D_loss_real: 0.9965980687761694\n",
      "Epoch 1: G_loss: 2.3828440933692745, D_loss_real: 1.009167241371744\n",
      "Epoch 2: G_loss: 2.3334530029839615, D_loss_real: 1.0000106353100722\n",
      "Epoch 3: G_loss: 2.31245302572483, D_loss_real: 1.0109902843227232\n",
      "Epoch 4: G_loss: 2.3064657924621086, D_loss_real: 1.013140351791692\n",
      "Epoch 5: G_loss: 2.275223252249927, D_loss_real: 1.022092086512868\n",
      "Epoch 6: G_loss: 2.245398468118373, D_loss_real: 1.026263963400833\n",
      "Epoch 7: G_loss: 2.2797564994998094, D_loss_real: 1.0257650579863447\n",
      "Epoch 8: G_loss: 2.2783891718562055, D_loss_real: 1.0337519485776017\n",
      "Epoch 9: G_loss: 2.3763744559714466, D_loss_real: 0.984379680660682\n",
      "Epoch 10: G_loss: 2.465459495055966, D_loss_real: 0.9884711596054759\n",
      "Epoch 11: G_loss: 2.560848732304767, D_loss_real: 0.9769947742058979\n",
      "Epoch 12: G_loss: 2.614023638934624, D_loss_real: 0.9366301588895845\n",
      "Epoch 13: G_loss: 2.684756212118195, D_loss_real: 0.9191780497388142\n",
      "Epoch 14: G_loss: 2.682980722528163, D_loss_real: 0.9158956432730202\n",
      "Epoch 15: G_loss: 2.777132798985737, D_loss_real: 0.903951218457726\n",
      "Epoch 16: G_loss: 2.7737162694698427, D_loss_real: 0.879025170958139\n",
      "Epoch 17: G_loss: 2.935662967402761, D_loss_real: 0.8844941394115852\n"
     ]
    },
    {
     "name": "stdout",
     "output_type": "stream",
     "text": [
      "Epoch 18: G_loss: 2.940221057674749, D_loss_real: 0.866848066570313\n",
      "Epoch 19: G_loss: 2.8231382486296863, D_loss_real: 0.8657662446905927\n",
      "Epoch 20: G_loss: 2.8973135676810413, D_loss_real: 0.8808841225577564\n",
      "Epoch 21: G_loss: 2.9253182895784455, D_loss_real: 0.876339300376613\n",
      "Epoch 22: G_loss: 2.8249681499915393, D_loss_real: 0.880386323463626\n",
      "Epoch 23: G_loss: 2.673241995214447, D_loss_real: 0.889183366686348\n",
      "Epoch 24: G_loss: 2.6324719704263577, D_loss_real: 0.9177477393693071\n",
      "Epoch 25: G_loss: 2.541871724089956, D_loss_real: 0.9631193362600435\n",
      "Epoch 26: G_loss: 2.412976973425082, D_loss_real: 0.9888836058174691\n",
      "Epoch 27: G_loss: 2.3172958498078633, D_loss_real: 1.0243067528174175\n",
      "Epoch 28: G_loss: 2.3416755344809554, D_loss_real: 1.0367878869297058\n",
      "Epoch 29: G_loss: 2.3407413019397394, D_loss_real: 1.052089599089894\n",
      "Epoch 30: G_loss: 2.302420023010998, D_loss_real: 1.0531055491145065\n",
      "Epoch 31: G_loss: 2.4202400920836906, D_loss_real: 1.0135304685530624\n",
      "Epoch 32: G_loss: 2.549344534796428, D_loss_real: 0.995372267757974\n",
      "Epoch 33: G_loss: 2.608896911628847, D_loss_real: 0.9679031890582263\n",
      "Epoch 34: G_loss: 2.6449450380433865, D_loss_real: 0.9640708958230367\n",
      "Epoch 35: G_loss: 2.799879343529058, D_loss_real: 0.953557550907135\n",
      "Epoch 36: G_loss: 2.845281661041384, D_loss_real: 0.9416844631598248\n",
      "Epoch 37: G_loss: 2.8881416417718904, D_loss_real: 0.9205921054855595\n",
      "Epoch 38: G_loss: 2.8542009805276143, D_loss_real: 0.9032490776806343\n",
      "Epoch 39: G_loss: 2.8946676215505214, D_loss_real: 0.909852710681233\n",
      "Epoch 40: G_loss: 2.8684570857179845, D_loss_real: 0.9111092468587364\n",
      "Epoch 41: G_loss: 2.9391901880744995, D_loss_real: 0.8971703949013377\n",
      "Epoch 42: G_loss: 2.9001272344976905, D_loss_real: 0.8927821192314954\n",
      "Epoch 43: G_loss: 2.9374709982212965, D_loss_real: 0.8958825236413537\n",
      "Epoch 44: G_loss: 2.9470324787667126, D_loss_real: 0.8903552889823914\n",
      "Epoch 45: G_loss: 2.900998189197323, D_loss_real: 0.884778110961604\n",
      "Epoch 46: G_loss: 2.8607666666914775, D_loss_real: 0.883054566577198\n",
      "Epoch 47: G_loss: 2.9347258835304073, D_loss_real: 0.8906042575836182\n",
      "Epoch 48: G_loss: 2.9153120886019575, D_loss_real: 0.8828026317968601\n",
      "Epoch 49: G_loss: 2.9012365069815784, D_loss_real: 0.8781791498990563\n",
      "EM: 0.004582532600723273, MV: 8.020616224855912\n",
      "Epoch 0: G_loss: 2.91255107303945, D_loss_real: 0.8763147105530995\n",
      "Epoch 1: G_loss: 2.863327575892937, D_loss_real: 0.8745768455470481\n",
      "Epoch 2: G_loss: 2.9312287932488976, D_loss_real: 0.8801076295899182\n",
      "Epoch 3: G_loss: 2.9175605657624035, D_loss_real: 0.8727477109286843\n",
      "Epoch 4: G_loss: 2.9171115247214714, D_loss_real: 0.8781159988990644\n",
      "Epoch 5: G_loss: 2.927729260630724, D_loss_real: 0.8833489923215494\n",
      "Epoch 6: G_loss: 2.900702709104957, D_loss_real: 0.8739582311089445\n",
      "Epoch 7: G_loss: 2.9330611505159516, D_loss_real: 0.874440255325015\n",
      "Epoch 8: G_loss: 2.987891516307505, D_loss_real: 0.8765545607340045\n",
      "Epoch 9: G_loss: 2.940760834914882, D_loss_real: 0.8757432561095168\n",
      "Epoch 10: G_loss: 2.9588613451980965, D_loss_real: 0.8661150241770396\n",
      "Epoch 11: G_loss: 2.980299439372086, D_loss_real: 0.8649162915421695\n",
      "Epoch 12: G_loss: 3.0305085560170615, D_loss_real: 0.8638961507779795\n",
      "Epoch 13: G_loss: 3.009505808353424, D_loss_real: 0.8647450819248106\n",
      "Epoch 14: G_loss: 2.9717808307670968, D_loss_real: 0.8599974414924296\n",
      "Epoch 15: G_loss: 2.9921893928109147, D_loss_real: 0.8619607556156996\n",
      "Epoch 16: G_loss: 3.006087810527988, D_loss_real: 0.8593827478769349\n",
      "Epoch 17: G_loss: 3.048607573276613, D_loss_real: 0.8578153616044579\n",
      "Epoch 18: G_loss: 3.0194337208096576, D_loss_real: 0.8575547806373457\n",
      "Epoch 19: G_loss: 3.0367903607647593, D_loss_real: 0.8544141617490024\n",
      "Epoch 20: G_loss: 3.0721874585965785, D_loss_real: 0.8508428033532166\n",
      "Epoch 21: G_loss: 3.060783771480002, D_loss_real: 0.8488337288542491\n",
      "Epoch 22: G_loss: 3.056886789275379, D_loss_real: 0.8535278148767425\n",
      "Epoch 23: G_loss: 3.109824903127624, D_loss_real: 0.8406205213651424\n",
      "Epoch 24: G_loss: 3.1265288853063815, D_loss_real: 0.8432872666091453\n",
      "Epoch 25: G_loss: 3.1442072987556458, D_loss_real: 0.8416436630778197\n",
      "Epoch 26: G_loss: 3.0938469767570496, D_loss_real: 0.8386221171879187\n",
      "Epoch 27: G_loss: 3.1696334161409516, D_loss_real: 0.8455723186091679\n",
      "Epoch 28: G_loss: 3.157291624604202, D_loss_real: 0.835281994648096\n",
      "Epoch 29: G_loss: 3.1269759826543853, D_loss_real: 0.8352653282444652\n",
      "Epoch 30: G_loss: 3.1957282365822213, D_loss_real: 0.8382381669631819\n",
      "Epoch 31: G_loss: 3.140581043755136, D_loss_real: 0.8311890538145856\n",
      "Epoch 32: G_loss: 3.1798338701085345, D_loss_real: 0.8320140449739084\n",
      "Epoch 33: G_loss: 3.216096462273016, D_loss_real: 0.8307270265933944\n",
      "Epoch 34: G_loss: 3.219448538815103, D_loss_real: 0.83057475598847\n",
      "Epoch 35: G_loss: 3.206552594173245, D_loss_real: 0.8284963383907225\n",
      "Epoch 36: G_loss: 3.2033254446052926, D_loss_real: 0.8282036523266536\n",
      "Epoch 37: G_loss: 3.275536513910061, D_loss_real: 0.8231577393485279\n",
      "Epoch 38: G_loss: 3.2386799222085534, D_loss_real: 0.8248539974049824\n",
      "Epoch 39: G_loss: 3.2260451156918597, D_loss_real: 0.8243182417823047\n",
      "Epoch 40: G_loss: 3.2746530713104622, D_loss_real: 0.8256452806839129\n",
      "Epoch 41: G_loss: 3.239352105594263, D_loss_real: 0.8201487366019226\n",
      "Epoch 42: G_loss: 3.291097254287906, D_loss_real: 0.818974528007391\n",
      "Epoch 43: G_loss: 3.260822725005266, D_loss_real: 0.8150477478416954\n",
      "Epoch 44: G_loss: 3.276175113712869, D_loss_real: 0.8138659712744922\n",
      "Epoch 45: G_loss: 3.274710320844883, D_loss_real: 0.8132593609937807\n",
      "Epoch 46: G_loss: 3.2565170032222097, D_loss_real: 0.8154407136323976\n",
      "Epoch 47: G_loss: 3.299063509557305, D_loss_real: 0.8178263146702837\n",
      "Epoch 48: G_loss: 3.268533937814759, D_loss_real: 0.8208541088714832\n",
      "Epoch 49: G_loss: 3.3343230151548617, D_loss_real: 0.8169098089380962\n",
      "EM: 0.00449503248364397, MV: 70.27369147575128\n",
      "Epoch 0: G_loss: 3.3045819503505056, D_loss_real: 0.804054318986288\n",
      "Epoch 1: G_loss: 3.3223723737204947, D_loss_real: 0.8085186190721465\n",
      "Epoch 2: G_loss: 3.296747649588236, D_loss_real: 0.8001984151398264\n",
      "Epoch 3: G_loss: 3.3124921449800815, D_loss_real: 0.8018284053337283\n",
      "Epoch 4: G_loss: 3.299312542706001, D_loss_real: 0.8005899263591301\n",
      "Epoch 5: G_loss: 3.294282156083642, D_loss_real: 0.8027961085482341\n",
      "Epoch 6: G_loss: 3.2620009620015216, D_loss_real: 0.8052675997338644\n",
      "Epoch 7: G_loss: 3.2568652990387705, D_loss_real: 0.8009568731959273\n",
      "Epoch 8: G_loss: 3.2641626218470132, D_loss_real: 0.797967390607043\n",
      "Epoch 9: G_loss: 3.220575361717038, D_loss_real: 0.8086826222698863\n",
      "Epoch 10: G_loss: 3.1945076733100706, D_loss_real: 0.7988214972542553\n",
      "Epoch 11: G_loss: 3.1756752165352427, D_loss_real: 0.8061967611312866\n",
      "Epoch 12: G_loss: 3.1208529379309677, D_loss_real: 0.8049028472202581\n",
      "Epoch 13: G_loss: 3.1658815569993926, D_loss_real: 0.7979554557218784\n",
      "Epoch 14: G_loss: 3.122514796838528, D_loss_real: 0.7999741722897785\n",
      "Epoch 15: G_loss: 3.126052421476783, D_loss_real: 0.7936414913433354\n",
      "Epoch 16: G_loss: 3.15530346312174, D_loss_real: 0.7968113297369422\n",
      "Epoch 17: G_loss: 3.1234524005796853, D_loss_real: 0.7991830171608343\n",
      "Epoch 18: G_loss: 3.177366921959854, D_loss_real: 0.7993470674607812\n",
      "Epoch 19: G_loss: 3.216470999834014, D_loss_real: 0.7857989817130856\n",
      "Epoch 20: G_loss: 3.194523536868212, D_loss_real: 0.787425773318221\n",
      "Epoch 21: G_loss: 3.1800002830784497, D_loss_real: 0.7912042818418363\n",
      "Epoch 22: G_loss: 3.21051472570838, D_loss_real: 0.784870988566701\n",
      "Epoch 23: G_loss: 3.204438094394963, D_loss_real: 0.7800346903684663\n",
      "Epoch 24: G_loss: 3.2113254558749316, D_loss_real: 0.7815539002418518\n",
      "Epoch 25: G_loss: 3.1717920303344727, D_loss_real: 0.7813071829516713\n",
      "Epoch 26: G_loss: 3.2553993329769226, D_loss_real: 0.7714025613738269\n",
      "Epoch 27: G_loss: 3.2625160135873936, D_loss_real: 0.780479904791204\n",
      "Epoch 28: G_loss: 3.3101934572545493, D_loss_real: 0.7754433812164678\n",
      "Epoch 29: G_loss: 3.2421183248845544, D_loss_real: 0.7786905352662249\n",
      "Epoch 30: G_loss: 3.285043566401412, D_loss_real: 0.7782845607618006\n",
      "Epoch 31: G_loss: 3.2760949600033644, D_loss_real: 0.776936653474482\n",
      "Epoch 32: G_loss: 3.266396548108357, D_loss_real: 0.7703551754718874\n",
      "Epoch 33: G_loss: 3.277770819315096, D_loss_real: 0.7729670521689624\n",
      "Epoch 34: G_loss: 3.2340228569216842, D_loss_real: 0.7687900557750609\n",
      "Epoch 35: G_loss: 3.243918431677469, D_loss_real: 0.7719606751348914\n"
     ]
    },
    {
     "name": "stdout",
     "output_type": "stream",
     "text": [
      "Epoch 36: G_loss: 3.2420969032659763, D_loss_real: 0.7701922800482773\n",
      "Epoch 37: G_loss: 3.2734563897295694, D_loss_real: 0.7676740445741793\n",
      "Epoch 38: G_loss: 3.2488741444378366, D_loss_real: 0.7666985000052103\n",
      "Epoch 39: G_loss: 3.233262556355174, D_loss_real: 0.7705791781588298\n",
      "Epoch 40: G_loss: 3.2997622734162864, D_loss_real: 0.7714510510607464\n",
      "Epoch 41: G_loss: 3.2524163804403163, D_loss_real: 0.7715100238962871\n",
      "Epoch 42: G_loss: 3.2683356308355562, D_loss_real: 0.7641523933992154\n",
      "Epoch 43: G_loss: 3.281598377227783, D_loss_real: 0.7692254025761674\n",
      "Epoch 44: G_loss: 3.301019718588852, D_loss_real: 0.7682534057919572\n",
      "Epoch 45: G_loss: 3.242855088303729, D_loss_real: 0.7717110471027654\n",
      "Epoch 46: G_loss: 3.273510550289619, D_loss_real: 0.7710723978717152\n",
      "Epoch 47: G_loss: 3.2669238369639326, D_loss_real: 0.7669783717248498\n",
      "Epoch 48: G_loss: 3.26959867942624, D_loss_real: 0.769632228700126\n",
      "Epoch 49: G_loss: 3.3255721336457786, D_loss_real: 0.7639395548076164\n",
      "EM: 0.004513555497761758, MV: 624.8982249798264\n",
      "Final results - EM: 0.004602952590035415 MV: 180.20189709168397\n"
     ]
    }
   ],
   "source": [
    "if dataset == \"kdd99\":\n",
    "    pipeline.train_kdd99_small(seq_length, latent_dim,  train_dl, test_dl, discriminator, generator, discriminator_optim, generator_optim, disc_loss, dispersion_loss, random_seed, num_epochs, DEVICE)\n",
    "else:\n",
    "    pipeline.train(seq_length, latent_dim, tscv_dl_list, discriminator, generator, discriminator_optim, generator_optim, disc_loss, dispersion_loss, random_seed, num_epochs, DEVICE)"
   ]
  }
 ],
 "metadata": {
  "kernelspec": {
   "display_name": "Python 3 (ipykernel)",
   "language": "python",
   "name": "python3"
  },
  "language_info": {
   "codemirror_mode": {
    "name": "ipython",
    "version": 3
   },
   "file_extension": ".py",
   "mimetype": "text/x-python",
   "name": "python",
   "nbconvert_exporter": "python",
   "pygments_lexer": "ipython3",
   "version": "3.8.13"
  }
 },
 "nbformat": 4,
 "nbformat_minor": 1
}
