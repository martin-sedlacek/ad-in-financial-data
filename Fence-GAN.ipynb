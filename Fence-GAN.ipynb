{
 "cells": [
  {
   "cell_type": "code",
   "execution_count": null,
   "metadata": {
    "pycharm": {
     "name": "#%%\n"
    }
   },
   "outputs": [],
   "source": [
    "import torch\n",
    "from torch import nn\n",
    "import utils.data_utils as data_utils\n",
    "from models.FenceGAN import Generator, Discriminator\n",
    "from training.FenceGAN_train import train_kdd99, train_financial\n",
    "import matplotlib.pyplot as plt"
   ]
  },
  {
   "cell_type": "code",
   "execution_count": null,
   "metadata": {
    "pycharm": {
     "name": "#%%\n"
    }
   },
   "outputs": [],
   "source": [
    "DEVICE = torch.device(\"cuda\" if torch.cuda.is_available() else \"cpu\")\n",
    "print(DEVICE)"
   ]
  },
  {
   "cell_type": "markdown",
   "metadata": {},
   "source": [
    "# Hyperparameters"
   ]
  },
  {
   "cell_type": "code",
   "execution_count": null,
   "metadata": {},
   "outputs": [],
   "source": [
    "# choose dataset (kdd99, aapl, gm, axp)\n",
    "dataset = \"aapl\""
   ]
  },
  {
   "cell_type": "code",
   "execution_count": null,
   "metadata": {
    "pycharm": {
     "name": "#%%\n"
    }
   },
   "outputs": [],
   "source": [
    "# Data\n",
    "batch_size = 8\n",
    "random_seed = 0\n",
    "num_features = 7\n",
    "seq_length = 1\n",
    "seq_stride = 10\n",
    "gen_seq_len = seq_length\n",
    "# Model\n",
    "latent_dim = 30\n",
    "# Training\n",
    "gen_lr = 1e-4\n",
    "gen_wd = 1e-3\n",
    "dis_lr = 8e-6\n",
    "dis_wd = 1e-3\n",
    "dis_momentum = 0.9\n",
    "num_epochs = 50"
   ]
  },
  {
   "cell_type": "markdown",
   "metadata": {},
   "source": [
    "# Dataset"
   ]
  },
  {
   "cell_type": "code",
   "execution_count": null,
   "metadata": {},
   "outputs": [],
   "source": [
    "if dataset == \"kdd99\":\n",
    "    train_dl, test_dl = data_utils.kdd99(seq_length, seq_stride, num_features, gen_seq_len, batch_size)\n",
    "else:\n",
    "    file_path = 'data/financial_data/Stocks/'+dataset+'.us.txt'\n",
    "    tscv_dl_list = data_utils.load_stock_as_crossvalidated_timeseries(file_path, seq_length, seq_stride, gen_seq_len, batch_size, normalise=True)"
   ]
  },
  {
   "cell_type": "markdown",
   "metadata": {
    "pycharm": {
     "name": "#%% md\n"
    }
   },
   "source": [
    "# Model "
   ]
  },
  {
   "cell_type": "code",
   "execution_count": null,
   "metadata": {},
   "outputs": [],
   "source": [
    "# use xavier initialization for weights\n",
    "def init_weights(m):\n",
    "    if type(m) == nn.Linear:\n",
    "        torch.nn.init.xavier_uniform_(m.weight)   "
   ]
  },
  {
   "cell_type": "code",
   "execution_count": null,
   "metadata": {
    "pycharm": {
     "name": "#%%\n"
    }
   },
   "outputs": [],
   "source": [
    "generator = Generator(input_dim=latent_dim,output_dim=num_features).to(device=DEVICE)\n",
    "generator.apply(init_weights)"
   ]
  },
  {
   "cell_type": "code",
   "execution_count": null,
   "metadata": {
    "pycharm": {
     "name": "#%%\n"
    }
   },
   "outputs": [],
   "source": [
    "discriminator = Discriminator(input_dim=num_features).to(device=DEVICE)\n",
    "discriminator.apply(init_weights)"
   ]
  },
  {
   "cell_type": "markdown",
   "metadata": {},
   "source": [
    "# Loss & Optimizer"
   ]
  },
  {
   "cell_type": "code",
   "execution_count": null,
   "metadata": {
    "pycharm": {
     "name": "#%%\n"
    }
   },
   "outputs": [],
   "source": [
    "generator_optim = torch.optim.Adam(generator.parameters(), lr=gen_lr, weight_decay=gen_wd)\n",
    "discriminator_optim = torch.optim.SGD(discriminator.parameters(), lr=dis_lr, weight_decay=dis_wd)"
   ]
  },
  {
   "cell_type": "code",
   "execution_count": null,
   "metadata": {},
   "outputs": [],
   "source": [
    "def dispersion_loss(G_out, y_pred, y_true):\n",
    "    dispersion_weight = 30\n",
    "    loss_b = nn.BCELoss()(y_pred, y_true)\n",
    "    center = G_out.mean(dim=0, keepdims=True)\n",
    "    distance_xy = torch.square(torch.subtract(G_out, center))\n",
    "    if G_out.dim() > 1:\n",
    "        distance = distance_xy.sum(dim=1)\n",
    "    else:\n",
    "        distance = distance_xy.sum()\n",
    "    avg_distance = torch.sqrt(distance).mean()\n",
    "    loss_d = torch.reciprocal(avg_distance)\n",
    "    loss = loss_b + dispersion_weight*loss_d\n",
    "    return loss"
   ]
  },
  {
   "cell_type": "code",
   "execution_count": null,
   "metadata": {},
   "outputs": [],
   "source": [
    "def disc_loss(real_pred, real_true, fake_pred, fake_true):\n",
    "    gen_weight = 0.5\n",
    "    loss_real = nn.BCELoss()(real_pred, real_true)\n",
    "    loss_gen = nn.BCELoss()(fake_pred, fake_true)\n",
    "    loss = loss_real + gen_weight * loss_gen\n",
    "    return loss"
   ]
  },
  {
   "cell_type": "markdown",
   "metadata": {},
   "source": [
    "# Training & Evaluation"
   ]
  },
  {
   "cell_type": "code",
   "execution_count": null,
   "metadata": {
    "pycharm": {
     "name": "#%%\n"
    }
   },
   "outputs": [],
   "source": [
    "if dataset == \"kdd99\":\n",
    "    train_kdd99(seq_length, latent_dim,  train_dl, test_dl, discriminator, generator, discriminator_optim, generator_optim, disc_loss, dispersion_loss, random_seed, num_epochs, DEVICE)\n",
    "else:\n",
    "    train_financial(seq_length, latent_dim, tscv_dl_list, discriminator, generator, discriminator_optim, generator_optim, disc_loss, dispersion_loss, random_seed, num_epochs, DEVICE)"
   ]
  },
  {
   "cell_type": "markdown",
   "metadata": {},
   "source": [
    "# Generated Samples"
   ]
  },
  {
   "cell_type": "code",
   "execution_count": null,
   "metadata": {},
   "outputs": [],
   "source": [
    "from training.FenceGAN_train import sample_Z\n",
    "latent_sample = sample_Z(batch_size, seq_length, latent_dim)\n",
    "if dataset == \"kdd99\":\n",
    "    batch = next(iter(test_dl))\n",
    "else:\n",
    "    batch = next(iter(tscv_dl_list[4][1]))\n",
    "gen_sample = generator(latent_sample.to(DEVICE)).cpu().detach()[0]\n",
    "x = batch[0][5]"
   ]
  },
  {
   "cell_type": "code",
   "execution_count": null,
   "metadata": {},
   "outputs": [],
   "source": [
    "# generated Sample\n",
    "plt.plot(gen_sample)"
   ]
  },
  {
   "cell_type": "code",
   "execution_count": null,
   "metadata": {},
   "outputs": [],
   "source": [
    "# Real Sample\n",
    "plt.plot(x)"
   ]
  }
 ],
 "metadata": {
  "kernelspec": {
   "display_name": "Python 3 (ipykernel)",
   "language": "python",
   "name": "python3"
  },
  "language_info": {
   "codemirror_mode": {
    "name": "ipython",
    "version": 3
   },
   "file_extension": ".py",
   "mimetype": "text/x-python",
   "name": "python",
   "nbconvert_exporter": "python",
   "pygments_lexer": "ipython3",
   "version": "3.8.13"
  }
 },
 "nbformat": 4,
 "nbformat_minor": 1
}
