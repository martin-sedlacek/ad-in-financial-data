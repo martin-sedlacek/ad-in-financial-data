{
 "cells": [
  {
   "cell_type": "code",
   "execution_count": 1,
   "metadata": {
    "pycharm": {
     "name": "#%%\n"
    }
   },
   "outputs": [],
   "source": [
    "import torch\n",
    "from torch import nn\n",
    "import data_utils\n",
    "from models.FenceGAN import Generator, Discriminator\n",
    "from training.FenceGAN_train import FenceGanTrainingPipeline\n",
    "import matplotlib.pyplot as plt"
   ]
  },
  {
   "cell_type": "code",
   "execution_count": 2,
   "metadata": {
    "pycharm": {
     "name": "#%%\n"
    }
   },
   "outputs": [
    {
     "name": "stdout",
     "output_type": "stream",
     "text": [
      "cuda\n"
     ]
    }
   ],
   "source": [
    "DEVICE = torch.device(\"cuda\" if torch.cuda.is_available() else \"cpu\")\n",
    "print(DEVICE)"
   ]
  },
  {
   "cell_type": "markdown",
   "metadata": {},
   "source": [
    "# Hyperparameters"
   ]
  },
  {
   "cell_type": "code",
   "execution_count": 3,
   "metadata": {},
   "outputs": [],
   "source": [
    "# choose dataset (kdd99, aapl, gm, axp)\n",
    "dataset = \"kdd99\""
   ]
  },
  {
   "cell_type": "code",
   "execution_count": 4,
   "metadata": {
    "pycharm": {
     "name": "#%%\n"
    }
   },
   "outputs": [],
   "source": [
    "# Data\n",
    "batch_size = 256\n",
    "random_seed = 0\n",
    "num_features = 34\n",
    "seq_length = 30\n",
    "seq_stride = 10\n",
    "gen_seq_len = seq_length\n",
    "# Model\n",
    "latent_dim = 30\n",
    "# Training\n",
    "gen_lr = 1e-4\n",
    "gen_wd = 1e-3\n",
    "dis_lr = 8e-6\n",
    "dis_wd = 1e-3\n",
    "dis_momentum = 0.9\n",
    "num_epochs = 50"
   ]
  },
  {
   "cell_type": "markdown",
   "metadata": {},
   "source": [
    "# Load data"
   ]
  },
  {
   "cell_type": "code",
   "execution_count": 5,
   "metadata": {},
   "outputs": [],
   "source": [
    "if dataset == \"kdd99\":\n",
    "    train_dl, test_dl = data_utils.kdd99(seq_length, seq_stride, num_features, gen_seq_len, batch_size)\n",
    "else:\n",
    "    file_path = 'data/financial_data/Stocks/'+dataset+'.us.txt'\n",
    "    tscv_dl_list = data_utils.load_stock_as_crossvalidated_timeseries(file_path, seq_length, seq_stride, gen_seq_len, batch_size, normalise=True)"
   ]
  },
  {
   "cell_type": "markdown",
   "metadata": {
    "pycharm": {
     "name": "#%% md\n"
    }
   },
   "source": [
    "# Model"
   ]
  },
  {
   "cell_type": "code",
   "execution_count": 6,
   "metadata": {},
   "outputs": [],
   "source": [
    "# use xavier initialization for weights\n",
    "def init_weights(m):\n",
    "    if type(m) == nn.Linear:\n",
    "        torch.nn.init.xavier_uniform_(m.weight)   "
   ]
  },
  {
   "cell_type": "code",
   "execution_count": 7,
   "metadata": {
    "pycharm": {
     "name": "#%%\n"
    }
   },
   "outputs": [
    {
     "data": {
      "text/plain": [
       "Generator(\n",
       "  (linear1): Linear(in_features=30, out_features=64, bias=True)\n",
       "  (linear2): Linear(in_features=64, out_features=128, bias=True)\n",
       "  (linear3): Linear(in_features=128, out_features=34, bias=True)\n",
       ")"
      ]
     },
     "execution_count": 7,
     "metadata": {},
     "output_type": "execute_result"
    }
   ],
   "source": [
    "generator = Generator(input_dim=latent_dim,output_dim=num_features).to(device=DEVICE)\n",
    "generator.apply(init_weights)"
   ]
  },
  {
   "cell_type": "code",
   "execution_count": 8,
   "metadata": {
    "pycharm": {
     "name": "#%%\n"
    }
   },
   "outputs": [
    {
     "data": {
      "text/plain": [
       "Discriminator(\n",
       "  (linear1): Linear(in_features=34, out_features=256, bias=True)\n",
       "  (linear2): Linear(in_features=256, out_features=128, bias=True)\n",
       "  (linear3): Linear(in_features=128, out_features=128, bias=True)\n",
       "  (linear4): Linear(in_features=128, out_features=1, bias=True)\n",
       "  (sigmoid): Sigmoid()\n",
       ")"
      ]
     },
     "execution_count": 8,
     "metadata": {},
     "output_type": "execute_result"
    }
   ],
   "source": [
    "discriminator = Discriminator(input_dim=num_features).to(device=DEVICE)\n",
    "discriminator.apply(init_weights)"
   ]
  },
  {
   "cell_type": "markdown",
   "metadata": {},
   "source": [
    "# Loss and Optimizer"
   ]
  },
  {
   "cell_type": "code",
   "execution_count": 9,
   "metadata": {
    "pycharm": {
     "name": "#%%\n"
    }
   },
   "outputs": [],
   "source": [
    "generator_optim = torch.optim.Adam(generator.parameters(), lr=gen_lr, weight_decay=gen_wd)\n",
    "discriminator_optim = torch.optim.SGD(discriminator.parameters(), lr=dis_lr, weight_decay=dis_wd)"
   ]
  },
  {
   "cell_type": "code",
   "execution_count": 10,
   "metadata": {},
   "outputs": [],
   "source": [
    "def dispersion_loss(G_out, y_pred, y_true):\n",
    "    dispersion_weight = 30\n",
    "    loss_b = nn.BCELoss()(y_pred, y_true)\n",
    "    center = G_out.mean(dim=0, keepdims=True)\n",
    "    distance_xy = torch.square(torch.subtract(G_out, center))\n",
    "    if G_out.dim() > 1:\n",
    "        distance = distance_xy.sum(dim=1)\n",
    "    else:\n",
    "        distance = distance_xy.sum()\n",
    "    avg_distance = torch.sqrt(distance).mean()\n",
    "    loss_d = torch.reciprocal(avg_distance)\n",
    "    loss = loss_b + dispersion_weight*loss_d\n",
    "    return loss"
   ]
  },
  {
   "cell_type": "code",
   "execution_count": 11,
   "metadata": {},
   "outputs": [],
   "source": [
    "def disc_loss(real_pred, real_true, fake_pred, fake_true):\n",
    "    gen_weight = 0.5\n",
    "    loss_real = nn.BCELoss()(real_pred, real_true)\n",
    "    loss_gen = nn.BCELoss()(fake_pred, fake_true)\n",
    "    loss = loss_real + gen_weight * loss_gen\n",
    "    return loss"
   ]
  },
  {
   "cell_type": "markdown",
   "metadata": {},
   "source": [
    "# Training"
   ]
  },
  {
   "cell_type": "code",
   "execution_count": 12,
   "metadata": {},
   "outputs": [],
   "source": [
    "pipeline = FenceGanTrainingPipeline()"
   ]
  },
  {
   "cell_type": "code",
   "execution_count": 13,
   "metadata": {
    "pycharm": {
     "name": "#%%\n"
    }
   },
   "outputs": [
    {
     "name": "stdout",
     "output_type": "stream",
     "text": [
      "Epoch 0: G_loss: 9.709105465628884, D_loss_real: 1.2365699925205924\n",
      "Epoch 1: G_loss: 5.25057809569619, D_loss_real: 1.4078323217955502\n",
      "Epoch 2: G_loss: 2.9035993240096354, D_loss_real: 1.8773425887931476\n",
      "Epoch 3: G_loss: 1.762805793502114, D_loss_real: 2.2901965152133594\n",
      "Epoch 4: G_loss: 1.2812760250134902, D_loss_real: 2.3914693052118476\n",
      "Epoch 5: G_loss: 1.1439002941955219, D_loss_real: 2.2341750394214284\n",
      "Epoch 6: G_loss: 1.1894169677387585, D_loss_real: 1.99483581347899\n",
      "Epoch 7: G_loss: 1.3010012529113075, D_loss_real: 1.7535684910687532\n",
      "Epoch 8: G_loss: 1.414782965183258, D_loss_real: 1.5567764298482374\n",
      "Epoch 9: G_loss: 1.523707706819881, D_loss_real: 1.458597771687941\n",
      "Epoch 10: G_loss: 1.6771016175096685, D_loss_real: 1.4085985324599526\n",
      "Epoch 11: G_loss: 1.9581425477157939, D_loss_real: 1.3021559753201224\n",
      "Epoch 12: G_loss: 2.1215349013155156, D_loss_real: 1.2397004214200107\n",
      "Epoch 13: G_loss: 2.031945520097559, D_loss_real: 1.224591152234511\n",
      "Epoch 14: G_loss: 1.8250966044989498, D_loss_real: 1.2592900330370123\n",
      "Epoch 15: G_loss: 1.7260531793941152, D_loss_real: 1.2575143781575289\n",
      "Epoch 16: G_loss: 1.2169348657131196, D_loss_real: 1.5400212694298137\n",
      "Epoch 17: G_loss: 1.1682740959254179, D_loss_real: 1.6419258545745503\n",
      "Epoch 18: G_loss: 1.4401931583881378, D_loss_real: 1.5037064492702483\n",
      "Epoch 19: G_loss: 1.752663478526202, D_loss_real: 1.3622515786777842\n",
      "Epoch 20: G_loss: 1.7775861160321669, D_loss_real: 1.3167961993000723\n",
      "Epoch 21: G_loss: 1.7599453221667896, D_loss_real: 1.3095970283855092\n",
      "Epoch 22: G_loss: 1.7012320626865733, D_loss_real: 1.3486764490604402\n",
      "Epoch 23: G_loss: 1.7326060062105006, D_loss_real: 1.3462497889995575\n",
      "Epoch 24: G_loss: 1.7654839488593015, D_loss_real: 1.3079754292964936\n",
      "Epoch 25: G_loss: 1.8031862280585549, D_loss_real: 1.2638310529968955\n",
      "Epoch 26: G_loss: 1.7242381962862883, D_loss_real: 1.2632467204874211\n",
      "Epoch 27: G_loss: 1.5357225781137294, D_loss_real: 1.3293665365739302\n",
      "Epoch 28: G_loss: 1.6324362733147362, D_loss_real: 1.2955995142459868\n",
      "Epoch 29: G_loss: 1.7697239566933025, D_loss_real: 1.2341117826375094\n",
      "Epoch 30: G_loss: 1.8220777961340817, D_loss_real: 1.2028456357392399\n",
      "Epoch 31: G_loss: 1.8626060924746775, D_loss_real: 1.1793618592348967\n",
      "Epoch 32: G_loss: 1.8546388333494013, D_loss_real: 1.166200211915103\n",
      "Epoch 33: G_loss: 1.8350855578075755, D_loss_real: 1.1614666098898108\n",
      "Epoch 34: G_loss: 1.7683183052323082, D_loss_real: 1.1640161899003116\n",
      "Epoch 35: G_loss: 1.5380912320180373, D_loss_real: 1.2238211154937744\n",
      "Epoch 36: G_loss: 1.51025932431221, D_loss_real: 1.2230224988677285\n",
      "Epoch 37: G_loss: 1.5167565909298983, D_loss_real: 1.1901590699499303\n",
      "Epoch 38: G_loss: 1.5774546671997418, D_loss_real: 1.1489902897314592\n",
      "Epoch 39: G_loss: 1.6322280125184492, D_loss_real: 1.1186586715958335\n",
      "Epoch 40: G_loss: 1.667926197160374, D_loss_real: 1.0984294387427243\n",
      "Epoch 41: G_loss: 1.6917036105285992, D_loss_real: 1.0845518269322134\n",
      "Epoch 42: G_loss: 1.7099390376697887, D_loss_real: 1.072283128716729\n",
      "Epoch 43: G_loss: 1.723679075457833, D_loss_real: 1.0629380199042233\n",
      "Epoch 44: G_loss: 1.7259576878764413, D_loss_real: 1.0577577038244768\n",
      "Epoch 45: G_loss: 1.715914881771261, D_loss_real: 1.0572194028984416\n",
      "Epoch 46: G_loss: 1.6952927486463027, D_loss_real: 1.0705159333619205\n",
      "Epoch 47: G_loss: 1.637660487131639, D_loss_real: 1.1104962126775222\n",
      "Epoch 48: G_loss: 1.5913949717174878, D_loss_real: 1.1638314854015004\n",
      "Epoch 49: G_loss: 1.5668511255220934, D_loss_real: 1.2169904746792533\n",
      "188.45181560516357\n",
      "Acc: 0.9958877370360146, Pre: 1.0, Rec: 0.9958877370360146\n",
      "EM: 0.00024029180356682406, MV: 4.020215862333082e-06\n",
      "0.17103910446166992\n"
     ]
    }
   ],
   "source": [
    "if dataset == \"kdd99\":\n",
    "    pipeline.train_kdd99(seq_length, latent_dim,  train_dl, test_dl, discriminator, generator, discriminator_optim, generator_optim, disc_loss, dispersion_loss, random_seed, num_epochs, DEVICE)\n",
    "else:\n",
    "    pipeline.train(seq_length, latent_dim, tscv_dl_list, discriminator, generator, discriminator_optim, generator_optim, disc_loss, dispersion_loss, random_seed, num_epochs, DEVICE)"
   ]
  }
 ],
 "metadata": {
  "kernelspec": {
   "display_name": "Python 3 (ipykernel)",
   "language": "python",
   "name": "python3"
  },
  "language_info": {
   "codemirror_mode": {
    "name": "ipython",
    "version": 3
   },
   "file_extension": ".py",
   "mimetype": "text/x-python",
   "name": "python",
   "nbconvert_exporter": "python",
   "pygments_lexer": "ipython3",
   "version": "3.8.13"
  }
 },
 "nbformat": 4,
 "nbformat_minor": 1
}
