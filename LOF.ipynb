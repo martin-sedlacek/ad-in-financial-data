{
 "cells": [
  {
   "cell_type": "code",
   "execution_count": 1,
   "id": "8d1c6780",
   "metadata": {},
   "outputs": [],
   "source": [
    "from pyod.models.lof import LOF\n",
    "from training.pyod_train import train_kdd99, train_financial\n",
    "import data_utils"
   ]
  },
  {
   "cell_type": "markdown",
   "id": "275b87be",
   "metadata": {},
   "source": [
    "# Load Data"
   ]
  },
  {
   "cell_type": "code",
   "execution_count": 11,
   "id": "fb358db8",
   "metadata": {},
   "outputs": [],
   "source": [
    "# choose dataset (kdd99, aapl, gm, axp)\n",
    "dataset = \"aapl\"\n",
    "# Data parameters\n",
    "num_features = 7\n",
    "seq_length = 1\n",
    "seq_stride = 1\n",
    "gen_seq_len = 1"
   ]
  },
  {
   "cell_type": "code",
   "execution_count": 12,
   "id": "af2bd9d5",
   "metadata": {},
   "outputs": [],
   "source": [
    "if dataset == \"kdd99\":\n",
    "    full_train_ll = data_utils.load_kdd99('data/kdd99/kdd99_train.npy', seq_length, seq_stride, num_features, gen_seq_len)\n",
    "    full_test_ll = data_utils.load_kdd99('data/kdd99/kdd99_test.npy', seq_length, seq_stride, num_features, gen_seq_len)\n",
    "    train_x = full_train_ll[0].squeeze()\n",
    "    train_y = full_train_ll[1].squeeze()\n",
    "    test_x = full_test_ll[0].squeeze()\n",
    "    test_y = full_test_ll[1].squeeze()\n",
    "else:\n",
    "    file_path = 'data/financial_data/Stocks/' + dataset + '.us.txt'\n",
    "    tscv_list = data_utils.load_stock_as_crossvalidated_timeseries(file_path, seq_length, seq_stride, gen_seq_len, bs=None, normalise=True, load_as_dl=False)"
   ]
  },
  {
   "cell_type": "markdown",
   "id": "dd3c9ece",
   "metadata": {},
   "source": [
    "# Model"
   ]
  },
  {
   "cell_type": "code",
   "execution_count": 4,
   "id": "ddadaef8",
   "metadata": {},
   "outputs": [],
   "source": [
    "model = LOF()"
   ]
  },
  {
   "cell_type": "code",
   "execution_count": 5,
   "id": "afd353b0",
   "metadata": {},
   "outputs": [
    {
     "name": "stdout",
     "output_type": "stream",
     "text": [
      "LOF(algorithm='auto', contamination=0.1, leaf_size=30, metric='minkowski',\n",
      "  metric_params=None, n_jobs=1, n_neighbors=20, novelty=True, p=2)\n"
     ]
    }
   ],
   "source": [
    "print(model)"
   ]
  },
  {
   "cell_type": "markdown",
   "id": "2b722735",
   "metadata": {},
   "source": [
    "# Training and Evaluation"
   ]
  },
  {
   "cell_type": "code",
   "execution_count": 6,
   "id": "e78cefca",
   "metadata": {},
   "outputs": [
    {
     "name": "stdout",
     "output_type": "stream",
     "text": [
      "Training time: 10.752628087997437\n",
      "Prediction time: 61.43248701095581\n",
      "Acc: 0.8030925936046994, Pre: 0.8030925936046994, Rec: 1.0\n",
      "EM: 0.0001, MV: 45702.70714024813\n"
     ]
    }
   ],
   "source": [
    "if dataset == \"kdd99\":\n",
    "    train_kdd99(model, train_x, train_y, test_x, test_y)\n",
    "else:\n",
    "    train_financial(model, tscv_list)"
   ]
  }
 ],
 "metadata": {
  "kernelspec": {
   "display_name": "Python 3 (ipykernel)",
   "language": "python",
   "name": "python3"
  },
  "language_info": {
   "codemirror_mode": {
    "name": "ipython",
    "version": 3
   },
   "file_extension": ".py",
   "mimetype": "text/x-python",
   "name": "python",
   "nbconvert_exporter": "python",
   "pygments_lexer": "ipython3",
   "version": "3.8.13"
  }
 },
 "nbformat": 4,
 "nbformat_minor": 5
}
