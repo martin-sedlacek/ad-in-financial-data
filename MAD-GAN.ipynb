{
 "cells": [
  {
   "cell_type": "code",
   "execution_count": 1,
   "id": "d637f29d",
   "metadata": {
    "pycharm": {
     "name": "#%%\n"
    }
   },
   "outputs": [],
   "source": [
    "import torch\n",
    "from torch import nn\n",
    "import data_utils\n",
    "from training.MADGAN_train import train_kdd99, train_financial\n",
    "from models.MADGAN import Generator, Discriminator, AnomalyDetector\n",
    "from utils import evaluation"
   ]
  },
  {
   "cell_type": "code",
   "execution_count": 2,
   "id": "24e5c82d",
   "metadata": {
    "pycharm": {
     "name": "#%%\n"
    }
   },
   "outputs": [
    {
     "name": "stdout",
     "output_type": "stream",
     "text": [
      "cuda\n"
     ]
    }
   ],
   "source": [
    "DEVICE = torch.device(\"cuda\" if torch.cuda.is_available() else \"cpu\")\n",
    "print(DEVICE)"
   ]
  },
  {
   "cell_type": "markdown",
   "id": "122afece",
   "metadata": {},
   "source": [
    "# Hyperparameters"
   ]
  },
  {
   "cell_type": "code",
   "execution_count": 3,
   "id": "30fd52f6",
   "metadata": {},
   "outputs": [],
   "source": [
    "# choose dataset (kdd99, aapl, gm, axp)\n",
    "dataset = \"kdd99\""
   ]
  },
  {
   "cell_type": "code",
   "execution_count": 4,
   "id": "ab1fbed1",
   "metadata": {
    "pycharm": {
     "name": "#%%\n"
    }
   },
   "outputs": [],
   "source": [
    "num_features = 6\n",
    "seq_len = 30\n",
    "seq_stride = 10\n",
    "gen_seq_len = 1\n",
    "\n",
    "random_seed = 0\n",
    "num_epochs = 100\n",
    "batch_size = 256\n",
    "lr = 1e-5\n",
    "wd = 5e-7\n",
    "\n",
    "latent_dim = 250\n",
    "hidden_dim = 500\n",
    "anomaly_threshold = 0.5"
   ]
  },
  {
   "cell_type": "markdown",
   "id": "db595ed4",
   "metadata": {},
   "source": [
    "# Load data"
   ]
  },
  {
   "cell_type": "code",
   "execution_count": 5,
   "id": "bf394603",
   "metadata": {},
   "outputs": [],
   "source": [
    "if dataset == \"kdd99\":\n",
    "    train_dl, test_dl = data_utils.kdd99(seq_len, seq_stride, num_features, gen_seq_len, batch_size)\n",
    "else:\n",
    "    file_path = 'data/financial_data/Stocks/'+dataset+'.us.txt'\n",
    "    tscv_dl_list = data_utils.load_stock_as_crossvalidated_timeseries(file_path, seq_len, seq_stride, gen_seq_len, batch_size, normalise=True)"
   ]
  },
  {
   "cell_type": "markdown",
   "id": "6be19266",
   "metadata": {},
   "source": [
    "# Model"
   ]
  },
  {
   "cell_type": "code",
   "execution_count": 6,
   "id": "1791db61",
   "metadata": {
    "pycharm": {
     "name": "#%%\n"
    }
   },
   "outputs": [],
   "source": [
    "generator = Generator(input_dim=latent_dim,hidden_size=hidden_dim,output_dim=num_features).to(device=DEVICE)"
   ]
  },
  {
   "cell_type": "code",
   "execution_count": 7,
   "id": "dc5d61fc",
   "metadata": {
    "pycharm": {
     "name": "#%%\n"
    }
   },
   "outputs": [],
   "source": [
    "discriminator = Discriminator(input_dim=num_features,hidden_size=hidden_dim).to(device=DEVICE)"
   ]
  },
  {
   "cell_type": "markdown",
   "id": "79400ae4",
   "metadata": {},
   "source": [
    "# Loss and Optimizer"
   ]
  },
  {
   "cell_type": "code",
   "execution_count": 8,
   "id": "4184199c",
   "metadata": {
    "pycharm": {
     "name": "#%%\n"
    }
   },
   "outputs": [],
   "source": [
    "def loss_function(inputs, targets):\n",
    "    return nn.BCELoss()(inputs, targets)"
   ]
  },
  {
   "cell_type": "code",
   "execution_count": 9,
   "id": "13566602",
   "metadata": {
    "pycharm": {
     "name": "#%%\n"
    }
   },
   "outputs": [],
   "source": [
    "discriminator_optim = torch.optim.Adam(discriminator.parameters(), lr=lr, weight_decay=wd)\n",
    "generator_optim = torch.optim.Adam(generator.parameters(), lr=lr, weight_decay=wd)"
   ]
  },
  {
   "cell_type": "markdown",
   "id": "4e978b34",
   "metadata": {},
   "source": [
    "# Train"
   ]
  },
  {
   "cell_type": "code",
   "execution_count": 10,
   "id": "615f760e",
   "metadata": {},
   "outputs": [
    {
     "name": "stdout",
     "output_type": "stream",
     "text": [
      "Epoch 0: G_loss: 0.834706754305146, D_loss_real: 0.7151220870288936, D_loss_fake: 0.6353746102614837\n",
      "Epoch 1: G_loss: 0.6407460927963257, D_loss_real: 0.6141079519282687, D_loss_fake: 0.8036763776432384\n",
      "Epoch 2: G_loss: 0.8770153690468181, D_loss_real: 0.8175321188839999, D_loss_fake: 0.6102429064837369\n",
      "Epoch 3: G_loss: 0.6864724587310445, D_loss_real: 0.75492042533376, D_loss_fake: 0.76549877632748\n",
      "Epoch 4: G_loss: 0.7223025259646503, D_loss_real: 0.7027616679668427, D_loss_fake: 0.7008117632432418\n",
      "Epoch 5: G_loss: 0.7623504264788195, D_loss_real: 0.72283129515973, D_loss_fake: 0.6588065790859136\n",
      "Epoch 6: G_loss: 0.7509782869707454, D_loss_real: 0.7098982229828834, D_loss_fake: 0.6921655337918888\n",
      "Epoch 7: G_loss: 0.7224797847596082, D_loss_real: 0.7118286946957761, D_loss_fake: 0.7187288663604042\n",
      "Epoch 8: G_loss: 0.8063274031335658, D_loss_real: 0.7319640003822067, D_loss_fake: 0.6517469118941914\n",
      "Epoch 9: G_loss: 0.7026590691371397, D_loss_real: 0.6978575407104058, D_loss_fake: 0.724152611060576\n",
      "Epoch 10: G_loss: 0.7442513536323201, D_loss_real: 0.7019859899174083, D_loss_fake: 0.6827923117713495\n",
      "Epoch 11: G_loss: 0.6964343607425689, D_loss_real: 0.7427386338060552, D_loss_fake: 0.7283501318909905\n",
      "Epoch 12: G_loss: 0.70225015391003, D_loss_real: 0.6983701883391901, D_loss_fake: 0.7044547652656382\n",
      "Epoch 13: G_loss: 0.7518271877007051, D_loss_real: 0.7614175174723972, D_loss_fake: 0.667623531953855\n",
      "Epoch 14: G_loss: 0.6801288379864259, D_loss_real: 0.696176925572482, D_loss_fake: 0.7366533880883998\n",
      "Epoch 15: G_loss: 0.7278480887413025, D_loss_real: 0.72525050369176, D_loss_fake: 0.6736851719292727\n",
      "Epoch 16: G_loss: 0.6950437841090289, D_loss_real: 0.6955945035273379, D_loss_fake: 0.7059725636785681\n",
      "Epoch 17: G_loss: 0.7308053986592726, D_loss_real: 0.7180461288853125, D_loss_fake: 0.6720580965280533\n",
      "Epoch 18: G_loss: 0.6900104793635282, D_loss_real: 0.6616937817497687, D_loss_fake: 0.7074825687841936\n",
      "Epoch 19: G_loss: 0.7650489471175453, D_loss_real: 0.7596967176957564, D_loss_fake: 0.6511177957057953\n",
      "Epoch 20: G_loss: 0.6497290473092686, D_loss_real: 0.6251863017678261, D_loss_fake: 0.7576008368622172\n",
      "Epoch 21: G_loss: 0.8004535366188396, D_loss_real: 0.7924802335825833, D_loss_fake: 0.6311007117683237\n",
      "Epoch 22: G_loss: 0.6464073771780188, D_loss_real: 0.6284670885313641, D_loss_fake: 0.7787750599059191\n",
      "Epoch 23: G_loss: 0.7682608422907916, D_loss_real: 0.7639228922399608, D_loss_fake: 0.6733941034837203\n",
      "Epoch 24: G_loss: 0.7189255998893218, D_loss_real: 0.7278005789626728, D_loss_fake: 0.6949473577466878\n",
      "Epoch 25: G_loss: 0.7485203816132112, D_loss_real: 0.7281342406164516, D_loss_fake: 0.666061733527617\n",
      "Epoch 26: G_loss: 0.6734431413086978, D_loss_real: 0.6534637421369552, D_loss_fake: 0.728921502828598\n",
      "Epoch 27: G_loss: 0.7850650605830279, D_loss_real: 0.7777248409661379, D_loss_fake: 0.6294339847835627\n",
      "Epoch 28: G_loss: 0.6456931894475764, D_loss_real: 0.6499546548182314, D_loss_fake: 0.7512381586161527\n",
      "Epoch 29: G_loss: 0.7375382090156729, D_loss_real: 0.7432447824965823, D_loss_fake: 0.6730568937279962\n",
      "Epoch 30: G_loss: 0.722707619450309, D_loss_real: 0.712453978034583, D_loss_fake: 0.6788581116632981\n",
      "Epoch 31: G_loss: 0.643017966909842, D_loss_real: 0.6477535134012049, D_loss_fake: 0.7553998548876155\n",
      "Epoch 32: G_loss: 0.7871231016787615, D_loss_real: 0.7698620408773422, D_loss_fake: 0.6178936927156015\n",
      "Epoch 33: G_loss: 0.6347955690188841, D_loss_real: 0.638221609998833, D_loss_fake: 0.7614039125767621\n",
      "Epoch 34: G_loss: 0.7626250424168327, D_loss_real: 0.7634116804057901, D_loss_fake: 0.6447446542707357\n",
      "Epoch 35: G_loss: 0.6641848707740957, D_loss_real: 0.6686962669545954, D_loss_fake: 0.7320602270689878\n",
      "Epoch 36: G_loss: 0.7431969184767117, D_loss_real: 0.7086898099292408, D_loss_fake: 0.6647737110202963\n",
      "Epoch 37: G_loss: 0.6909941253336993, D_loss_real: 0.7185683731328357, D_loss_fake: 0.7141112379052422\n",
      "Epoch 38: G_loss: 0.7225841692902825, D_loss_real: 0.7200054650956934, D_loss_fake: 0.6838554008440538\n",
      "Epoch 39: G_loss: 0.7398932771249251, D_loss_real: 0.6789183869957924, D_loss_fake: 0.6791903335939754\n",
      "Epoch 40: G_loss: 0.7051696961576288, D_loss_real: 0.7153179231015119, D_loss_fake: 0.7089475650678981\n",
      "Epoch 41: G_loss: 0.7009451146830212, D_loss_real: 0.7006685809655623, D_loss_fake: 0.7137192772193388\n",
      "Epoch 42: G_loss: 0.8069508408958261, D_loss_real: 0.7504556008360602, D_loss_fake: 0.6392519090663303\n",
      "Epoch 43: G_loss: 0.6828421478921717, D_loss_real: 0.6793683581731537, D_loss_fake: 0.7364952501925555\n",
      "Epoch 44: G_loss: 0.7508491578427228, D_loss_real: 0.7161542148752646, D_loss_fake: 0.66032925166867\n",
      "Epoch 45: G_loss: 0.810847193273631, D_loss_real: 0.7353534920649095, D_loss_fake: 0.6351915370334279\n",
      "Epoch 46: G_loss: 0.654639205607501, D_loss_real: 0.6798319968310269, D_loss_fake: 0.760041863268072\n",
      "Epoch 47: G_loss: 0.7353402208198201, D_loss_real: 0.7790218823335388, D_loss_fake: 0.6761631230061704\n",
      "Epoch 48: G_loss: 0.7476233200593428, D_loss_real: 0.6985847283493388, D_loss_fake: 0.6585049432787028\n",
      "Epoch 49: G_loss: 0.7084630120884289, D_loss_real: 0.6488105763088573, D_loss_fake: 0.6916955863887614\n",
      "Epoch 50: G_loss: 0.8843879436904734, D_loss_real: 0.8118791506710378, D_loss_fake: 0.5964822765101087\n",
      "Epoch 51: G_loss: 0.669278008016673, D_loss_real: 0.6466221507300031, D_loss_fake: 0.7399931541898034\n",
      "Epoch 52: G_loss: 0.6809318478811871, D_loss_real: 0.6591358455744657, D_loss_fake: 0.7346098691225051\n",
      "Epoch 53: G_loss: 0.7912085321816531, D_loss_real: 0.7654103766788136, D_loss_fake: 0.6176513027061116\n",
      "Epoch 54: G_loss: 0.6300466808405789, D_loss_real: 0.6269341265613383, D_loss_fake: 0.7659106430682269\n",
      "Epoch 55: G_loss: 0.7587728874249892, D_loss_real: 0.7411014025861566, D_loss_fake: 0.6509284038435329\n",
      "Epoch 56: G_loss: 0.7042402313514189, D_loss_real: 0.7045933402397416, D_loss_fake: 0.689651063897393\n",
      "Epoch 57: G_loss: 0.6597137055613778, D_loss_real: 0.6595941157503562, D_loss_fake: 0.7425382107496261\n",
      "Epoch 58: G_loss: 0.7765845550732179, D_loss_real: 0.756610442833467, D_loss_fake: 0.6399951779029586\n",
      "Epoch 59: G_loss: 0.6452158147638495, D_loss_real: 0.6387380755760453, D_loss_fake: 0.7572907296094027\n",
      "Epoch 60: G_loss: 0.791702742468227, D_loss_real: 0.7483210172165524, D_loss_fake: 0.6332819972525944\n",
      "Epoch 61: G_loss: 0.6468212460929698, D_loss_real: 0.6545076649297368, D_loss_fake: 0.7554392020810734\n",
      "Epoch 62: G_loss: 0.7806488958272066, D_loss_real: 0.7386978893117471, D_loss_fake: 0.6404929131269455\n",
      "Epoch 63: G_loss: 0.6742459015412764, D_loss_real: 0.6775328389622949, D_loss_fake: 0.7393564961173318\n",
      "Epoch 64: G_loss: 0.7613284574313597, D_loss_real: 0.7316929638385773, D_loss_fake: 0.6530809430913491\n",
      "Epoch 65: G_loss: 0.7119218414480036, D_loss_real: 0.6711195728995584, D_loss_fake: 0.6946695300665768\n",
      "Epoch 66: G_loss: 0.7454353787682273, D_loss_real: 0.73210907808759, D_loss_fake: 0.689976544407281\n",
      "Epoch 67: G_loss: 0.7395761820403013, D_loss_real: 0.7247176681052555, D_loss_fake: 0.6656598523259163\n",
      "Epoch 68: G_loss: 0.6799752040342851, D_loss_real: 0.6481503439220515, D_loss_fake: 0.7173819509419528\n",
      "Epoch 69: G_loss: 0.8179347417571328, D_loss_real: 0.7643894924358888, D_loss_fake: 0.6176198360594836\n",
      "Epoch 70: G_loss: 0.63828062442216, D_loss_real: 0.642063865607435, D_loss_fake: 0.7640517903999848\n",
      "Epoch 71: G_loss: 0.71949737126177, D_loss_real: 0.7278554423288865, D_loss_fake: 0.6924750555645336\n",
      "Epoch 72: G_loss: 0.7192062841220336, D_loss_real: 0.6909551363099705, D_loss_fake: 0.6957944813099775\n",
      "Epoch 73: G_loss: 0.7141888160597194, D_loss_real: 0.6878714022311297, D_loss_fake: 0.6861994961445982\n",
      "Epoch 74: G_loss: 0.7682263100689107, D_loss_real: 0.7298816498030316, D_loss_fake: 0.6324027853933247\n",
      "Epoch 75: G_loss: 0.6431689137762243, D_loss_real: 0.6358894112435254, D_loss_fake: 0.7563894220373847\n",
      "Epoch 76: G_loss: 0.7627452530644157, D_loss_real: 0.7599369821223345, D_loss_fake: 0.6515755981206894\n",
      "Epoch 77: G_loss: 0.6898303042758595, D_loss_real: 0.6840141448107633, D_loss_fake: 0.7107486464760521\n",
      "Epoch 78: G_loss: 0.7080704320560802, D_loss_real: 0.6606405014341528, D_loss_fake: 0.7064142256975174\n",
      "Epoch 79: G_loss: 0.7805795244195245, D_loss_real: 0.7451614967801354, D_loss_fake: 0.6336217043074694\n"
     ]
    },
    {
     "name": "stdout",
     "output_type": "stream",
     "text": [
      "Epoch 80: G_loss: 0.6378402905030685, D_loss_real: 0.6419393097812479, D_loss_fake: 0.7559606419368223\n",
      "Epoch 81: G_loss: 0.7720506765625693, D_loss_real: 0.7429974982345646, D_loss_fake: 0.6455792397260666\n",
      "Epoch 82: G_loss: 0.7789904128421437, D_loss_real: 0.7456658850339326, D_loss_fake: 0.656325071237304\n",
      "Epoch 83: G_loss: 0.6333510033108971, D_loss_real: 0.588413405418396, D_loss_fake: 0.765833830833435\n",
      "Epoch 84: G_loss: 0.8379460890184749, D_loss_real: 0.7994682520627976, D_loss_fake: 0.6037083047357472\n",
      "Epoch 85: G_loss: 0.683508887887001, D_loss_real: 0.6900831845673647, D_loss_fake: 0.7061869065869938\n",
      "Epoch 86: G_loss: 0.669508574496616, D_loss_real: 0.6561953169378367, D_loss_fake: 0.723998271335255\n",
      "Epoch 87: G_loss: 0.7133125110106034, D_loss_real: 0.7090925327756188, D_loss_fake: 0.6809619158506394\n",
      "Epoch 88: G_loss: 0.7305170164866881, D_loss_real: 0.7115715614774011, D_loss_fake: 0.6723040488633243\n",
      "Epoch 89: G_loss: 0.6951997640458021, D_loss_real: 0.6663291107524525, D_loss_fake: 0.7085098811171272\n",
      "Epoch 90: G_loss: 0.7478729605674743, D_loss_real: 0.7215264994989742, D_loss_fake: 0.6518212443048303\n",
      "Epoch 91: G_loss: 0.6809499206868085, D_loss_real: 0.6593979083001613, D_loss_fake: 0.7375653827732259\n",
      "Epoch 92: G_loss: 0.8743280080231753, D_loss_real: 0.7253611902452328, D_loss_fake: 0.598102729157968\n",
      "Epoch 93: G_loss: 0.6823725678704001, D_loss_real: 0.7045723197135059, D_loss_fake: 0.713174218210307\n",
      "Epoch 94: G_loss: 0.6655345304445787, D_loss_real: 0.6394578417593783, D_loss_fake: 0.7254799596287987\n",
      "Epoch 95: G_loss: 0.7157916098833084, D_loss_real: 0.7295316528190267, D_loss_fake: 0.685394056818702\n",
      "Epoch 96: G_loss: 0.7439230420372703, D_loss_real: 0.7314673693342643, D_loss_fake: 0.656389095024629\n",
      "Epoch 97: G_loss: 0.6287935969504443, D_loss_real: 0.6134630327874964, D_loss_fake: 0.7758189179680565\n",
      "Epoch 98: G_loss: 0.8130252293565057, D_loss_real: 0.7847543865442276, D_loss_fake: 0.5907674339684573\n",
      "Epoch 99: G_loss: 0.6704834550619125, D_loss_real: 0.6762590730732138, D_loss_fake: 0.7258785559372468\n",
      "Training time: 7198.385625362396\n",
      "Detection time: 49.049214601516724\n",
      "Acc: 0.7148222102186512, Pre: 0.8012356206828621, Rec: 0.855211265741732\n",
      "EM: 0.00021503666447458342, MV: 12452.843440690056\n"
     ]
    }
   ],
   "source": [
    "if dataset == \"kdd99\":\n",
    "    train_kdd99(seq_len, latent_dim, train_dl, test_dl, discriminator, generator, discriminator_optim, generator_optim, anomaly_threshold, loss_function, random_seed, num_epochs, DEVICE)\n",
    "else:\n",
    "    train_financial(seq_len, latent_dim, tscv_dl_list, discriminator, generator, discriminator_optim, generator_optim, anomaly_threshold, loss_function, random_seed, num_epochs, DEVICE)"
   ]
  },
  {
   "cell_type": "code",
   "execution_count": 23,
   "id": "48bde0d7",
   "metadata": {},
   "outputs": [],
   "source": [
    "from utils.evaluation import accuracy, precision, recall, metric_calc\n",
    "from training.MADGAN_train import emmv\n",
    "def evaluate(model, test_dl, label, DEVICE):\n",
    "    total_em = total_mv = total_acc = total_pre = total_rec = 0\n",
    "    total_time = 0\n",
    "    for X, Y in test_dl:\n",
    "        X = X.to(DEVICE)\n",
    "        prediction = model.predict(X)[:, :Y.size(1), :]\n",
    "        true_positives, true_negatives, false_positives, false_negatives = metric_calc(prediction.view(-1, 1), Y.view(-1, 1), label)\n",
    "        total_acc += accuracy(true_positives, true_negatives, Y)\n",
    "        if (true_positives+false_positives) > 0:\n",
    "            total_pre += precision(true_positives, false_positives)\n",
    "        if (true_positives+false_negatives) > 0:\n",
    "            total_rec += recall(true_positives, false_negatives)\n",
    "        em, mv = emmv(model, X.to(DEVICE), DEVICE=DEVICE)\n",
    "        total_mv += mv\n",
    "        total_em += em\n",
    "    print(\"Detection time: {0}\".format(total_time))\n",
    "    print(\"Acc: {0}, Pre: {1}, Rec: {2}\".format(total_acc/len(test_dl), total_pre/len(test_dl), total_rec/len(test_dl)))\n",
    "    print(\"EM: {0}, MV: {1}\".format(total_em/len(test_dl), total_mv/len(test_dl)))"
   ]
  },
  {
   "cell_type": "code",
   "execution_count": 24,
   "id": "2abdf2b8",
   "metadata": {},
   "outputs": [
    {
     "name": "stdout",
     "output_type": "stream",
     "text": [
      "Detection time: 0\n",
      "Acc: 0.8021946513385145, Pre: 0.8029482309430644, Rec: 0.9472784247829995\n",
      "EM: 0.000171587113127936, MV: 13085.227405745043\n"
     ]
    }
   ],
   "source": [
    "#from training.MADGAN_train import evaluate\n",
    "anomaly_threshold = 0.4\n",
    "ad = AnomalyDetector(discriminator=discriminator, generator=generator, latent_space_dim=latent_dim, anomaly_threshold=anomaly_threshold, DEVICE=DEVICE)\n",
    "evaluate(ad, test_dl, label=1, DEVICE=DEVICE)"
   ]
  }
 ],
 "metadata": {
  "kernelspec": {
   "display_name": "Python 3 (ipykernel)",
   "language": "python",
   "name": "python3"
  },
  "language_info": {
   "codemirror_mode": {
    "name": "ipython",
    "version": 3
   },
   "file_extension": ".py",
   "mimetype": "text/x-python",
   "name": "python",
   "nbconvert_exporter": "python",
   "pygments_lexer": "ipython3",
   "version": "3.8.13"
  }
 },
 "nbformat": 4,
 "nbformat_minor": 5
}
