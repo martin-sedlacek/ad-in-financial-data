{
 "cells": [
  {
   "cell_type": "code",
   "execution_count": null,
   "id": "d637f29d",
   "metadata": {
    "pycharm": {
     "name": "#%%\n"
    }
   },
   "outputs": [],
   "source": [
    "import torch\n",
    "from torch import nn\n",
    "import utils.data_utils as data_utils\n",
    "from training.MADGAN_train import train_kdd99, train_financial\n",
    "from models.MADGAN import Generator, Discriminator, AnomalyDetector\n",
    "from utils import evaluation"
   ]
  },
  {
   "cell_type": "code",
   "execution_count": null,
   "id": "24e5c82d",
   "metadata": {
    "pycharm": {
     "name": "#%%\n"
    }
   },
   "outputs": [],
   "source": [
    "DEVICE = torch.device(\"cuda\" if torch.cuda.is_available() else \"cpu\")\n",
    "print(DEVICE)"
   ]
  },
  {
   "cell_type": "markdown",
   "id": "122afece",
   "metadata": {},
   "source": [
    "# Hyperparameters"
   ]
  },
  {
   "cell_type": "code",
   "execution_count": null,
   "id": "30fd52f6",
   "metadata": {},
   "outputs": [],
   "source": [
    "# choose dataset (kdd99, aapl, gm, axp)\n",
    "dataset = \"aapl\""
   ]
  },
  {
   "cell_type": "code",
   "execution_count": null,
   "id": "ab1fbed1",
   "metadata": {
    "pycharm": {
     "name": "#%%\n"
    }
   },
   "outputs": [],
   "source": [
    "num_features = 6\n",
    "seq_len = 1\n",
    "seq_stride = 10\n",
    "gen_seq_len = 1\n",
    "\n",
    "random_seed = 0\n",
    "num_epochs = 100\n",
    "batch_size = 256\n",
    "lr = 1e-5\n",
    "wd = 5e-7\n",
    "\n",
    "latent_dim = 250\n",
    "hidden_dim = 500\n",
    "anomaly_threshold = 0.5"
   ]
  },
  {
   "cell_type": "markdown",
   "id": "db595ed4",
   "metadata": {},
   "source": [
    "# Load data"
   ]
  },
  {
   "cell_type": "code",
   "execution_count": null,
   "id": "bf394603",
   "metadata": {},
   "outputs": [],
   "source": [
    "if dataset == \"kdd99\":\n",
    "    train_dl, test_dl = data_utils.kdd99(seq_len, seq_stride, num_features, gen_seq_len, batch_size)\n",
    "else:\n",
    "    file_path = 'data/financial_data/Stocks/'+dataset+'.us.txt'\n",
    "    tscv_dl_list = data_utils.load_stock_as_crossvalidated_timeseries(file_path, seq_len, seq_stride, gen_seq_len, batch_size, normalise=True)"
   ]
  },
  {
   "cell_type": "markdown",
   "id": "6be19266",
   "metadata": {},
   "source": [
    "# Model"
   ]
  },
  {
   "cell_type": "code",
   "execution_count": null,
   "id": "1791db61",
   "metadata": {
    "pycharm": {
     "name": "#%%\n"
    }
   },
   "outputs": [],
   "source": [
    "generator = Generator(input_dim=latent_dim,hidden_size=hidden_dim,output_dim=num_features).to(device=DEVICE)"
   ]
  },
  {
   "cell_type": "code",
   "execution_count": null,
   "id": "dc5d61fc",
   "metadata": {
    "pycharm": {
     "name": "#%%\n"
    }
   },
   "outputs": [],
   "source": [
    "discriminator = Discriminator(input_dim=num_features,hidden_size=hidden_dim).to(device=DEVICE)"
   ]
  },
  {
   "cell_type": "markdown",
   "id": "79400ae4",
   "metadata": {},
   "source": [
    "# Loss and Optimizer"
   ]
  },
  {
   "cell_type": "code",
   "execution_count": null,
   "id": "4184199c",
   "metadata": {
    "pycharm": {
     "name": "#%%\n"
    }
   },
   "outputs": [],
   "source": [
    "def loss_function(inputs, targets):\n",
    "    return nn.BCELoss()(inputs, targets)"
   ]
  },
  {
   "cell_type": "code",
   "execution_count": null,
   "id": "13566602",
   "metadata": {
    "pycharm": {
     "name": "#%%\n"
    }
   },
   "outputs": [],
   "source": [
    "discriminator_optim = torch.optim.Adam(discriminator.parameters(), lr=lr, weight_decay=wd)\n",
    "generator_optim = torch.optim.Adam(generator.parameters(), lr=lr, weight_decay=wd)"
   ]
  },
  {
   "cell_type": "markdown",
   "id": "4e978b34",
   "metadata": {},
   "source": [
    "# Train & Evaluate"
   ]
  },
  {
   "cell_type": "code",
   "execution_count": null,
   "id": "615f760e",
   "metadata": {},
   "outputs": [],
   "source": [
    "if dataset == \"kdd99\":\n",
    "    train_kdd99(seq_len, latent_dim, train_dl, test_dl, discriminator, generator, discriminator_optim, generator_optim, anomaly_threshold, loss_function, random_seed, num_epochs, DEVICE)\n",
    "else:\n",
    "    train_financial(seq_len, latent_dim, tscv_dl_list, discriminator, generator, discriminator_optim, generator_optim, anomaly_threshold, loss_function, random_seed, num_epochs, DEVICE)"
   ]
  }
 ],
 "metadata": {
  "kernelspec": {
   "display_name": "Python 3 (ipykernel)",
   "language": "python",
   "name": "python3"
  },
  "language_info": {
   "codemirror_mode": {
    "name": "ipython",
    "version": 3
   },
   "file_extension": ".py",
   "mimetype": "text/x-python",
   "name": "python",
   "nbconvert_exporter": "python",
   "pygments_lexer": "ipython3",
   "version": "3.8.13"
  }
 },
 "nbformat": 4,
 "nbformat_minor": 5
}
