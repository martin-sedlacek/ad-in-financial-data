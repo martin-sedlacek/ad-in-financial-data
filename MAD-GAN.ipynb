{
 "cells": [
  {
   "cell_type": "code",
   "execution_count": 1,
   "id": "d637f29d",
   "metadata": {
    "pycharm": {
     "name": "#%%\n"
    }
   },
   "outputs": [],
   "source": [
    "import torch\n",
    "from torch import nn\n",
    "import data_utils\n",
    "from training.MADGAN_train import MadGanTrainingPipeline\n",
    "from models.MADGAN import Generator, Discriminator, AnomalyDetector\n",
    "from utils import evaluation\n",
    "import numpy as np\n",
    "import pandas as pd\n",
    "import matplotlib.pyplot as plt"
   ]
  },
  {
   "cell_type": "markdown",
   "id": "122afece",
   "metadata": {},
   "source": [
    "# Hyperparameters"
   ]
  },
  {
   "cell_type": "code",
   "execution_count": 2,
   "id": "24e5c82d",
   "metadata": {
    "pycharm": {
     "name": "#%%\n"
    }
   },
   "outputs": [
    {
     "name": "stdout",
     "output_type": "stream",
     "text": [
      "cuda\n"
     ]
    }
   ],
   "source": [
    "DEVICE = torch.device(\"cuda\" if torch.cuda.is_available() else \"cpu\")\n",
    "print(DEVICE)"
   ]
  },
  {
   "cell_type": "code",
   "execution_count": 3,
   "id": "ab1fbed1",
   "metadata": {
    "pycharm": {
     "name": "#%%\n"
    }
   },
   "outputs": [
    {
     "data": {
      "text/plain": [
       "'num_generated_features = 121\\nseq_length = 30\\nseq_stride = 10\\ngen_seq_length = seq_length\\nbatch_size = 256\\nlatent_dim = 32\\nhidden_dim = 100\\nnum_epochs = 50'"
      ]
     },
     "execution_count": 3,
     "metadata": {},
     "output_type": "execute_result"
    }
   ],
   "source": [
    "model_type = \"MAD-GAN\"\n",
    "num_features = 6\n",
    "seq_len = 30\n",
    "seq_stride = 10\n",
    "gen_seq_len = seq_len\n",
    "\n",
    "random_seed = 0\n",
    "num_epochs = 100\n",
    "batch_size = 256\n",
    "lr = 1e-5\n",
    "wd = 5e-7\n",
    "latent_dim = 250\n",
    "hidden_dim = 500\n",
    "'''num_generated_features = 121\n",
    "seq_length = 30\n",
    "seq_stride = 10\n",
    "gen_seq_length = seq_length\n",
    "batch_size = 256\n",
    "latent_dim = 32\n",
    "hidden_dim = 100\n",
    "num_epochs = 50'''"
   ]
  },
  {
   "cell_type": "markdown",
   "id": "db595ed4",
   "metadata": {},
   "source": [
    "# Load data"
   ]
  },
  {
   "cell_type": "code",
   "execution_count": 4,
   "id": "30fd52f6",
   "metadata": {},
   "outputs": [],
   "source": [
    "dataset = \"kdd99_small\""
   ]
  },
  {
   "cell_type": "code",
   "execution_count": 5,
   "id": "bf394603",
   "metadata": {},
   "outputs": [],
   "source": [
    "if dataset == \"kdd99_small\":\n",
    "    train_dl, test_dl = data_utils.kdd99(seq_len, seq_stride, num_features, gen_seq_len, batch_size)\n",
    "elif dataset == \"kdd99_large\":\n",
    "    train_dl_normal = data_utils.large_kdd99('data/kdd99/X_train_normal.npy', seq_length, seq_stride, num_features, gen_seq_len,batch_size)\n",
    "    train_dl_anomaly = data_utils.large_kdd99('data/kdd99/X_train_anomaly.npy', seq_length, seq_stride, num_features, gen_seq_len,batch_size)\n",
    "    test_dl_normal = data_utils.large_kdd99('data/kdd99/X_test_normal.npy', seq_length, seq_stride, num_features, gen_seq_len,batch_size)\n",
    "    test_dl_anomaly = data_utils.large_kdd99('data/kdd99/X_test_anomaly.npy', seq_length, seq_stride, num_features, gen_seq_len,batch_size)\n",
    "elif dataset == \"apple\":\n",
    "    file_path = './data/Stocks/aapl.us.txt'\n",
    "    tscv_dl_list = data_utils.load_stock_as_crossvalidated_timeseries(file_path, seq_length, seq_stride, gen_seq_len, batch_size, normalise=True)"
   ]
  },
  {
   "cell_type": "markdown",
   "id": "6be19266",
   "metadata": {},
   "source": [
    "# Model"
   ]
  },
  {
   "cell_type": "code",
   "execution_count": 6,
   "id": "1791db61",
   "metadata": {
    "pycharm": {
     "name": "#%%\n"
    }
   },
   "outputs": [
    {
     "data": {
      "text/plain": [
       "Generator(\n",
       "  (lstm): LSTM(250, 500, num_layers=2, batch_first=True, dropout=0.1)\n",
       "  (linear): Linear(in_features=500, out_features=6, bias=True)\n",
       ")"
      ]
     },
     "execution_count": 6,
     "metadata": {},
     "output_type": "execute_result"
    }
   ],
   "source": [
    "generator = Generator(\n",
    "    latent_space_dim=latent_dim,\n",
    "    hidden_units=hidden_dim,\n",
    "    output_dim=num_features)\n",
    "generator.to(device=DEVICE)"
   ]
  },
  {
   "cell_type": "code",
   "execution_count": 7,
   "id": "dc5d61fc",
   "metadata": {
    "pycharm": {
     "name": "#%%\n"
    }
   },
   "outputs": [
    {
     "data": {
      "text/plain": [
       "Discriminator(\n",
       "  (lstm): LSTM(6, 500, num_layers=2, batch_first=True, dropout=0.1)\n",
       "  (linear): Linear(in_features=500, out_features=1, bias=True)\n",
       "  (activation): Sigmoid()\n",
       ")"
      ]
     },
     "execution_count": 7,
     "metadata": {},
     "output_type": "execute_result"
    }
   ],
   "source": [
    "discriminator = Discriminator(input_dim=num_features,\n",
    "    hidden_units=hidden_dim,\n",
    "    add_batch_mean=False)\n",
    "discriminator.to(device=DEVICE)"
   ]
  },
  {
   "cell_type": "markdown",
   "id": "79400ae4",
   "metadata": {},
   "source": [
    "# Loss and Optimizer"
   ]
  },
  {
   "cell_type": "code",
   "execution_count": 8,
   "id": "4184199c",
   "metadata": {
    "pycharm": {
     "name": "#%%\n"
    }
   },
   "outputs": [],
   "source": [
    "def loss_function(inputs, targets):\n",
    "    return nn.BCELoss()(inputs, targets)"
   ]
  },
  {
   "cell_type": "code",
   "execution_count": 9,
   "id": "13566602",
   "metadata": {
    "pycharm": {
     "name": "#%%\n"
    }
   },
   "outputs": [],
   "source": [
    "discriminator_optim = torch.optim.Adam(discriminator.parameters(), lr=lr, weight_decay=wd)\n",
    "generator_optim = torch.optim.Adam(generator.parameters(), lr=lr, weight_decay=wd)"
   ]
  },
  {
   "cell_type": "markdown",
   "id": "4e978b34",
   "metadata": {},
   "source": [
    "# Train"
   ]
  },
  {
   "cell_type": "code",
   "execution_count": 10,
   "id": "4b8e0254",
   "metadata": {},
   "outputs": [],
   "source": [
    "pipeline = MadGanTrainingPipeline()"
   ]
  },
  {
   "cell_type": "code",
   "execution_count": null,
   "id": "615f760e",
   "metadata": {},
   "outputs": [
    {
     "name": "stdout",
     "output_type": "stream",
     "text": [
      "Epoch 0 training:\n",
      "G_loss: 0.8755987904288552, D_loss_real: 0.6730850502171299, D_loss_fake: 0.642115441235629\n",
      "Epoch 1 training:\n",
      "G_loss: 0.7226960534399206, D_loss_real: 0.6414711528203704, D_loss_fake: 0.7275869418274272\n",
      "Epoch 2 training:\n",
      "G_loss: 0.7890111153775995, D_loss_real: 0.8685352173718539, D_loss_fake: 0.6837180996483022\n",
      "Epoch 3 training:\n",
      "G_loss: 0.7276195895942774, D_loss_real: 0.5772994385524229, D_loss_fake: 0.7857272851196202\n",
      "Epoch 4 training:\n",
      "G_loss: 0.8343150458552621, D_loss_real: 0.8043478930538351, D_loss_fake: 0.6124852528626269\n",
      "Epoch 5 training:\n",
      "G_loss: 0.6839621858163314, D_loss_real: 0.6324284875934775, D_loss_fake: 0.7519195212559266\n",
      "Epoch 6 training:\n",
      "G_loss: 0.7711682853373614, D_loss_real: 0.7660209235819904, D_loss_fake: 0.6532013196836818\n",
      "Epoch 7 training:\n",
      "G_loss: 0.7274317023429003, D_loss_real: 0.6635470749302343, D_loss_fake: 0.7017906961115924\n",
      "Epoch 8 training:\n",
      "G_loss: 0.7561856724999168, D_loss_real: 0.7215988039970398, D_loss_fake: 0.6707007857886228\n",
      "Epoch 9 training:\n",
      "G_loss: 0.7450899812308225, D_loss_real: 0.7154092964800921, D_loss_fake: 0.6774569476192648\n",
      "Epoch 10 training:\n",
      "G_loss: 0.7026771905747327, D_loss_real: 0.6790958786552602, D_loss_fake: 0.7169396928765557\n",
      "Epoch 11 training:\n",
      "G_loss: 0.7976522578434511, D_loss_real: 0.7819336021488363, D_loss_fake: 0.6325741045854308\n",
      "Epoch 12 training:\n",
      "G_loss: 0.6400952875614166, D_loss_real: 0.6069162001663988, D_loss_fake: 0.761159517548301\n",
      "Epoch 13 training:\n",
      "G_loss: 0.7853295353325931, D_loss_real: 0.7623669789596037, D_loss_fake: 0.633877412432974\n",
      "Epoch 14 training:\n",
      "G_loss: 0.6869842198762026, D_loss_real: 0.6678751636635173, D_loss_fake: 0.722113918445327\n",
      "Epoch 15 training:\n",
      "G_loss: 0.7580880823460492, D_loss_real: 0.7554618143222549, D_loss_fake: 0.662562637979334\n",
      "Epoch 16 training:\n",
      "G_loss: 0.7173702784559943, D_loss_real: 0.6819769385186109, D_loss_fake: 0.7034984442320737\n",
      "Epoch 17 training:\n",
      "G_loss: 0.7168212299997156, D_loss_real: 0.7056990874084559, D_loss_fake: 0.7039669982411645\n",
      "Epoch 18 training:\n",
      "G_loss: 0.7414843529462815, D_loss_real: 0.7145693718032403, D_loss_fake: 0.6810988596894524\n",
      "Epoch 19 training:\n",
      "G_loss: 0.6886807124723088, D_loss_real: 0.7194387262517755, D_loss_fake: 0.724211769212376\n",
      "Epoch 20 training:\n",
      "G_loss: 0.7468758729371158, D_loss_real: 0.7159129719842564, D_loss_fake: 0.6719003956426274\n",
      "Epoch 21 training:\n",
      "G_loss: 0.7035383806987242, D_loss_real: 0.6713537128134207, D_loss_fake: 0.6991465105251833\n",
      "Epoch 22 training:\n",
      "G_loss: 0.7477703416889364, D_loss_real: 0.7224919159304012, D_loss_fake: 0.659700626812198\n",
      "Epoch 23 training:\n",
      "G_loss: 0.6658325084231117, D_loss_real: 0.6708431100303477, D_loss_fake: 0.7376316590742631\n",
      "Epoch 24 training:\n",
      "G_loss: 0.7643705308437347, D_loss_real: 0.7441768109798431, D_loss_fake: 0.6488486544652419\n",
      "Epoch 25 training:\n",
      "G_loss: 0.6867472637783397, D_loss_real: 0.6589315788312392, D_loss_fake: 0.7217996112324975\n",
      "Epoch 26 training:\n",
      "G_loss: 0.7585385585373098, D_loss_real: 0.7451543442227624, D_loss_fake: 0.6623123584823175\n",
      "Epoch 27 training:\n",
      "G_loss: 0.7059123074466532, D_loss_real: 0.6560376320372928, D_loss_fake: 0.7100448909130963\n",
      "Epoch 28 training:\n",
      "G_loss: 0.7607496082782745, D_loss_real: 0.7669571738351475, D_loss_fake: 0.6636311200532046\n",
      "Epoch 29 training:\n",
      "G_loss: 0.6821621217510917, D_loss_real: 0.6534345881505446, D_loss_fake: 0.7281585698777979\n",
      "Epoch 30 training:\n",
      "G_loss: 0.7357486761429093, D_loss_real: 0.7520396461541002, D_loss_fake: 0.6850077010013841\n",
      "Epoch 31 training:\n",
      "G_loss: 0.7381568209691481, D_loss_real: 0.682590860534798, D_loss_fake: 0.6846469269557433\n",
      "Epoch 32 training:\n",
      "G_loss: 0.7321948528289794, D_loss_real: 0.7253829059275714, D_loss_fake: 0.6806265068325129\n",
      "Epoch 33 training:\n",
      "G_loss: 0.7143245083364573, D_loss_real: 0.6827890439466997, D_loss_fake: 0.7018987287174572\n",
      "Epoch 34 training:\n",
      "G_loss: 0.7579865379766985, D_loss_real: 0.7088654301383278, D_loss_fake: 0.6614910013296388\n",
      "Epoch 35 training:\n",
      "G_loss: 0.7164644674821333, D_loss_real: 0.6638697355985641, D_loss_fake: 0.689342826333913\n",
      "Epoch 36 training:\n",
      "G_loss: 0.7341924970800227, D_loss_real: 0.7469195864417336, D_loss_fake: 0.697510287436572\n",
      "Epoch 37 training:\n",
      "G_loss: 0.7021524388681758, D_loss_real: 0.6853862330317497, D_loss_fake: 0.7043722659349442\n",
      "Epoch 38 training:\n",
      "G_loss: 0.7355429736050693, D_loss_real: 0.727819235893813, D_loss_fake: 0.6848035010424527\n",
      "Epoch 39 training:\n",
      "G_loss: 0.7284594267606735, D_loss_real: 0.7024246986616741, D_loss_fake: 0.695564221793955\n",
      "Epoch 40 training:\n",
      "G_loss: 0.7310338409109549, D_loss_real: 0.7290683577006514, D_loss_fake: 0.6862868399782615\n",
      "Epoch 41 training:\n",
      "G_loss: 0.7418583150614392, D_loss_real: 0.7034107972275127, D_loss_fake: 0.6889574413949793\n",
      "Epoch 42 training:\n",
      "G_loss: 0.7189676714214411, D_loss_real: 0.6754625317725268, D_loss_fake: 0.7063262026418339\n",
      "Epoch 43 training:\n",
      "G_loss: 0.7594823628664017, D_loss_real: 0.7283290475606918, D_loss_fake: 0.6666460327126763\n",
      "Epoch 44 training:\n",
      "G_loss: 0.7480339202013883, D_loss_real: 0.6951740399003029, D_loss_fake: 0.6724513927643949\n",
      "Epoch 45 training:\n",
      "G_loss: 1.1646082558415152, D_loss_real: 0.7121190542524511, D_loss_fake: 0.6336122545329007\n",
      "Epoch 46 training:\n",
      "G_loss: 0.9134278292005712, D_loss_real: 0.6780232791196216, D_loss_fake: 0.6411537576805462\n",
      "Epoch 47 training:\n",
      "G_loss: 0.8900469983165914, D_loss_real: 0.6850753314115784, D_loss_fake: 0.6546304533427412\n",
      "Epoch 48 training:\n",
      "G_loss: 0.8057639075951143, D_loss_real: 0.690732541680336, D_loss_fake: 0.6635551468892531\n"
     ]
    }
   ],
   "source": [
    "pipeline.train_kdd99(seq_len, latent_dim, train_dl, test_dl, discriminator, generator, discriminator_optim, generator_optim, loss_function, random_seed, num_epochs, DEVICE)"
   ]
  },
  {
   "cell_type": "code",
   "execution_count": null,
   "id": "7fecb6b3",
   "metadata": {},
   "outputs": [],
   "source": [
    "from models.MADGAN import AnomalyDetector\n",
    "ad = AnomalyDetector(discriminator=discriminator, generator=generator, latent_space_dim=latent_dim, anomaly_threshold=0.5, DEVICE=DEVICE)"
   ]
  },
  {
   "cell_type": "code",
   "execution_count": null,
   "id": "a276db51",
   "metadata": {},
   "outputs": [],
   "source": [
    "from utils.evaluation import accuracy, precision, recall, metric_calc\n",
    "def evaluate(model, test_dl, label, DEVICE):\n",
    "    total_em = total_mv = total_acc = total_pre = total_rec = 0\n",
    "    for X, Y in test_dl:\n",
    "        prediction = model.predict(X.to(DEVICE))\n",
    "        true_positives, true_negatives, false_positives, false_negatives = metric_calc(prediction.squeeze(dim=2), Y.squeeze(dim=2), label)\n",
    "        total_acc += accuracy(true_positives, true_negatives, Y)\n",
    "        if (true_positives+false_positives) > 0:\n",
    "            total_pre += precision(true_positives, false_positives)\n",
    "        if (true_positives+false_negatives) > 0:\n",
    "            total_rec += recall(true_positives, false_negatives)\n",
    "        em, mv = pipeline.emmv(model, X.to(DEVICE), DEVICE=DEVICE)\n",
    "        total_mv += mv\n",
    "        total_em += em\n",
    "    print(\"Acc: {0}, Pre: {1}, Rec: {2}\".format(total_acc/len(test_dl), total_pre/len(test_dl), total_rec/len(test_dl)))\n",
    "    print(\"EM: {0}, MV: {1}\".format(total_em/len(test_dl), total_mv/len(test_dl)))"
   ]
  },
  {
   "cell_type": "code",
   "execution_count": null,
   "id": "36622afe",
   "metadata": {},
   "outputs": [],
   "source": [
    "evaluate(ad, test_dl, label=1, DEVICE=DEVICE)"
   ]
  }
 ],
 "metadata": {
  "kernelspec": {
   "display_name": "Python 3 (ipykernel)",
   "language": "python",
   "name": "python3"
  },
  "language_info": {
   "codemirror_mode": {
    "name": "ipython",
    "version": 3
   },
   "file_extension": ".py",
   "mimetype": "text/x-python",
   "name": "python",
   "nbconvert_exporter": "python",
   "pygments_lexer": "ipython3",
   "version": "3.8.13"
  }
 },
 "nbformat": 4,
 "nbformat_minor": 5
}
