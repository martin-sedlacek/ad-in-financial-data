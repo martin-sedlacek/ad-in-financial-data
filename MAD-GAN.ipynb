{
 "cells": [
  {
   "cell_type": "code",
   "execution_count": 1,
   "id": "d637f29d",
   "metadata": {
    "pycharm": {
     "name": "#%%\n"
    }
   },
   "outputs": [],
   "source": [
    "import torch\n",
    "from torch import nn\n",
    "import data_utils\n",
    "from training.MADGAN_train import MadGanTrainingPipeline\n",
    "from models.MADGAN import Generator, Discriminator, AnomalyDetector\n",
    "from utils import evaluation\n",
    "import numpy as np\n",
    "import pandas as pd\n",
    "import matplotlib.pyplot as plt"
   ]
  },
  {
   "cell_type": "markdown",
   "id": "122afece",
   "metadata": {},
   "source": [
    "# Hyperparameters"
   ]
  },
  {
   "cell_type": "code",
   "execution_count": 2,
   "id": "24e5c82d",
   "metadata": {
    "pycharm": {
     "name": "#%%\n"
    }
   },
   "outputs": [
    {
     "name": "stdout",
     "output_type": "stream",
     "text": [
      "cuda\n"
     ]
    }
   ],
   "source": [
    "DEVICE = torch.device(\"cuda\" if torch.cuda.is_available() else \"cpu\")\n",
    "print(DEVICE)"
   ]
  },
  {
   "cell_type": "code",
   "execution_count": 3,
   "id": "ab1fbed1",
   "metadata": {
    "pycharm": {
     "name": "#%%\n"
    }
   },
   "outputs": [],
   "source": [
    "model_type = \"MAD-GAN\"\n",
    "num_generated_features = 7\n",
    "seq_length = 30\n",
    "seq_stride = 10\n",
    "\n",
    "random_seed = 0\n",
    "num_epochs = 100\n",
    "batch_size = 8\n",
    "lr = 1e-5\n",
    "wd = 5e-7\n",
    "latent_dim = 500\n",
    "hidden_dim = 500"
   ]
  },
  {
   "cell_type": "markdown",
   "id": "db595ed4",
   "metadata": {},
   "source": [
    "# Load data"
   ]
  },
  {
   "cell_type": "code",
   "execution_count": 4,
   "id": "6d5a32eb",
   "metadata": {},
   "outputs": [],
   "source": [
    "#train_dl, test_dl = data_utils.kdd99(seq_length, seq_stride, num_generated_features,seq_length,batch_size)"
   ]
  },
  {
   "cell_type": "code",
   "execution_count": 5,
   "id": "cd1f7558",
   "metadata": {},
   "outputs": [],
   "source": [
    "file_path = './data/Stocks/aapl.us.txt'\n",
    "tscv_dl_list = data_utils.load_stock_as_crossvalidated_timeseries(file_path, seq_length, seq_stride, seq_length, batch_size)"
   ]
  },
  {
   "cell_type": "markdown",
   "id": "6be19266",
   "metadata": {},
   "source": [
    "# Model"
   ]
  },
  {
   "cell_type": "code",
   "execution_count": 7,
   "id": "4b8e0254",
   "metadata": {},
   "outputs": [],
   "source": [
    "pipeline = MadGanTrainingPipeline()"
   ]
  },
  {
   "cell_type": "code",
   "execution_count": 8,
   "id": "1791db61",
   "metadata": {
    "pycharm": {
     "name": "#%%\n"
    }
   },
   "outputs": [
    {
     "data": {
      "text/plain": [
       "Generator(\n",
       "  (lstm): LSTM(500, 500, num_layers=2, batch_first=True, dropout=0.1)\n",
       "  (linear): Linear(in_features=500, out_features=7, bias=True)\n",
       ")"
      ]
     },
     "execution_count": 8,
     "metadata": {},
     "output_type": "execute_result"
    }
   ],
   "source": [
    "generator = Generator(\n",
    "    latent_space_dim=latent_dim,\n",
    "    hidden_units=hidden_dim,\n",
    "    output_dim=num_generated_features)\n",
    "generator.to(device=DEVICE)"
   ]
  },
  {
   "cell_type": "code",
   "execution_count": 9,
   "id": "dc5d61fc",
   "metadata": {
    "pycharm": {
     "name": "#%%\n"
    }
   },
   "outputs": [
    {
     "data": {
      "text/plain": [
       "Discriminator(\n",
       "  (lstm): LSTM(7, 500, num_layers=2, batch_first=True, dropout=0.1)\n",
       "  (linear): Linear(in_features=500, out_features=1, bias=True)\n",
       "  (activation): Sigmoid()\n",
       ")"
      ]
     },
     "execution_count": 9,
     "metadata": {},
     "output_type": "execute_result"
    }
   ],
   "source": [
    "discriminator = Discriminator(input_dim=num_generated_features,\n",
    "    hidden_units=hidden_dim,\n",
    "    add_batch_mean=False)\n",
    "discriminator.to(device=DEVICE)"
   ]
  },
  {
   "cell_type": "markdown",
   "id": "79400ae4",
   "metadata": {},
   "source": [
    "# Loss and Optimizer"
   ]
  },
  {
   "cell_type": "code",
   "execution_count": 10,
   "id": "4184199c",
   "metadata": {
    "pycharm": {
     "name": "#%%\n"
    }
   },
   "outputs": [],
   "source": [
    "def loss_function(inputs, targets):\n",
    "    return nn.BCELoss()(inputs, targets)"
   ]
  },
  {
   "cell_type": "code",
   "execution_count": 11,
   "id": "13566602",
   "metadata": {
    "pycharm": {
     "name": "#%%\n"
    }
   },
   "outputs": [],
   "source": [
    "discriminator_optim = torch.optim.Adam(discriminator.parameters(), lr=lr, weight_decay=wd)\n",
    "generator_optim = torch.optim.Adam(generator.parameters(), lr=lr, weight_decay=wd)"
   ]
  },
  {
   "cell_type": "markdown",
   "id": "4e978b34",
   "metadata": {},
   "source": [
    "# Train"
   ]
  },
  {
   "cell_type": "code",
   "execution_count": 12,
   "id": "615f760e",
   "metadata": {},
   "outputs": [
    {
     "name": "stdout",
     "output_type": "stream",
     "text": [
      "Epoch 0 training:\n",
      "G_loss: 0.17595690488815308, D_loss_real: 0.17520183622837066, D_loss_fake: 1.8816189289093017\n",
      "Epoch 1 training:\n",
      "G_loss: 0.22949271500110627, D_loss_real: 0.1929372876882553, D_loss_fake: 1.6361552476882935\n",
      "Epoch 2 training:\n",
      "G_loss: 0.2953533411026001, D_loss_real: 0.21076650321483612, D_loss_fake: 1.4159012317657471\n",
      "Epoch 3 training:\n",
      "G_loss: 0.3774519443511963, D_loss_real: 0.22913762629032136, D_loss_fake: 1.2137305736541748\n",
      "Epoch 4 training:\n",
      "G_loss: 0.46087435483932493, D_loss_real: 0.248876091837883, D_loss_fake: 1.0498417854309081\n",
      "Evaluation metrics: {'D_loss': 1.2271162271499634, 'G_acc': 0.9854166954755783, 'D_acc': 0.5072916895151138}\n",
      "EMMV evaluation:\n",
      "0.0001 1044813.3782958984\n",
      "Epoch 0 training:\n",
      "G_loss: 0.5659577515390184, D_loss_real: 0.26947342024909127, D_loss_fake: 0.8938878509733412\n",
      "Epoch 1 training:\n",
      "G_loss: 0.7015186150868734, D_loss_real: 0.29899924993515015, D_loss_fake: 0.7411307560073005\n",
      "Epoch 2 training:\n",
      "G_loss: 0.7839267585012648, D_loss_real: 0.32430241505304974, D_loss_fake: 0.6647259195645651\n",
      "Epoch 3 training:\n",
      "G_loss: 0.7923646834161546, D_loss_real: 0.3448234134250217, D_loss_fake: 0.6546767552693685\n",
      "Epoch 4 training:\n",
      "G_loss: 0.7810300654835172, D_loss_real: 0.36587721440527177, D_loss_fake: 0.6717913217014737\n",
      "Evaluation metrics: {'D_loss': 1.0458978712558746, 'G_acc': 0.34930557012557983, 'D_acc': 0.8253472596406937}\n"
     ]
    },
    {
     "ename": "KeyboardInterrupt",
     "evalue": "",
     "output_type": "error",
     "traceback": [
      "\u001b[1;31m---------------------------------------------------------------------------\u001b[0m",
      "\u001b[1;31mKeyboardInterrupt\u001b[0m                         Traceback (most recent call last)",
      "Input \u001b[1;32mIn [12]\u001b[0m, in \u001b[0;36m<cell line: 1>\u001b[1;34m()\u001b[0m\n\u001b[1;32m----> 1\u001b[0m \u001b[43mpipeline\u001b[49m\u001b[38;5;241;43m.\u001b[39;49m\u001b[43mtrain\u001b[49m\u001b[43m(\u001b[49m\u001b[43mseq_length\u001b[49m\u001b[43m,\u001b[49m\u001b[43m \u001b[49m\u001b[43mlatent_dim\u001b[49m\u001b[43m,\u001b[49m\u001b[43m \u001b[49m\u001b[43mtscv_dl_list\u001b[49m\u001b[43m,\u001b[49m\u001b[43m \u001b[49m\u001b[43mdiscriminator\u001b[49m\u001b[43m,\u001b[49m\u001b[43m \u001b[49m\u001b[43mgenerator\u001b[49m\u001b[43m,\u001b[49m\u001b[43m \u001b[49m\u001b[43mdiscriminator_optim\u001b[49m\u001b[43m,\u001b[49m\u001b[43m \u001b[49m\u001b[43mgenerator_optim\u001b[49m\u001b[43m,\u001b[49m\u001b[43m \u001b[49m\u001b[43mloss_function\u001b[49m\u001b[43m,\u001b[49m\u001b[43m \u001b[49m\u001b[43mrandom_seed\u001b[49m\u001b[43m,\u001b[49m\u001b[43m \u001b[49m\u001b[43mnum_epochs\u001b[49m\u001b[43m,\u001b[49m\u001b[43m \u001b[49m\u001b[43mDEVICE\u001b[49m\u001b[43m)\u001b[49m\n",
      "File \u001b[1;32m~\\Documents\\GitHub\\ml-for-financial-data\\training\\MADGAN_train.py:91\u001b[0m, in \u001b[0;36mMadGanTrainingPipeline.train\u001b[1;34m(self, seq_length, latent_dim, tscv_dl_list, D, G, D_optim, G_optim, loss_fn, random_seed, num_epochs, DEVICE, model_dir)\u001b[0m\n\u001b[0;32m     89\u001b[0m total_em \u001b[38;5;241m=\u001b[39m total_mv \u001b[38;5;241m=\u001b[39m \u001b[38;5;241m0\u001b[39m\n\u001b[0;32m     90\u001b[0m \u001b[38;5;28;01mfor\u001b[39;00m X, Y \u001b[38;5;129;01min\u001b[39;00m test_dl:\n\u001b[1;32m---> 91\u001b[0m     scores \u001b[38;5;241m=\u001b[39m \u001b[38;5;28;43mself\u001b[39;49m\u001b[38;5;241;43m.\u001b[39;49m\u001b[43mMAD_GAN_EMMV\u001b[49m\u001b[43m(\u001b[49m\u001b[43mad\u001b[49m\u001b[43m,\u001b[49m\u001b[43m \u001b[49m\u001b[43mX\u001b[49m\u001b[38;5;241;43m.\u001b[39;49m\u001b[43mto\u001b[49m\u001b[43m(\u001b[49m\u001b[43mDEVICE\u001b[49m\u001b[43m)\u001b[49m\u001b[43m,\u001b[49m\u001b[43m \u001b[49m\u001b[43mDEVICE\u001b[49m\u001b[38;5;241;43m=\u001b[39;49m\u001b[43mDEVICE\u001b[49m\u001b[43m)\u001b[49m\n\u001b[0;32m     92\u001b[0m     total_em \u001b[38;5;241m+\u001b[39m\u001b[38;5;241m=\u001b[39m scores[\u001b[38;5;124m'\u001b[39m\u001b[38;5;124mem\u001b[39m\u001b[38;5;124m'\u001b[39m]\n\u001b[0;32m     93\u001b[0m     total_mv \u001b[38;5;241m+\u001b[39m\u001b[38;5;241m=\u001b[39m scores[\u001b[38;5;124m'\u001b[39m\u001b[38;5;124mmv\u001b[39m\u001b[38;5;124m'\u001b[39m]\n",
      "File \u001b[1;32m~\\Documents\\GitHub\\ml-for-financial-data\\training\\MADGAN_train.py:117\u001b[0m, in \u001b[0;36mMadGanTrainingPipeline.MAD_GAN_EMMV\u001b[1;34m(self, trained_model, x, n_generated, alpha_min, alpha_max, t_max, DEVICE)\u001b[0m\n\u001b[0;32m    115\u001b[0m s_unif_list \u001b[38;5;241m=\u001b[39m []\n\u001b[0;32m    116\u001b[0m \u001b[38;5;28;01mfor\u001b[39;00m i \u001b[38;5;129;01min\u001b[39;00m \u001b[38;5;28mrange\u001b[39m(reducer):\n\u001b[1;32m--> 117\u001b[0m     unif \u001b[38;5;241m=\u001b[39m \u001b[43mtorch\u001b[49m\u001b[38;5;241;43m.\u001b[39;49m\u001b[43mrand\u001b[49m\u001b[43m(\u001b[49m\u001b[43mreduced_n\u001b[49m\u001b[43m,\u001b[49m\u001b[43m \u001b[49m\u001b[43mx\u001b[49m\u001b[38;5;241;43m.\u001b[39;49m\u001b[43msize\u001b[49m\u001b[43m(\u001b[49m\u001b[38;5;241;43m1\u001b[39;49m\u001b[43m)\u001b[49m\u001b[43m,\u001b[49m\u001b[43m \u001b[49m\u001b[43mx\u001b[49m\u001b[38;5;241;43m.\u001b[39;49m\u001b[43msize\u001b[49m\u001b[43m(\u001b[49m\u001b[38;5;241;43m2\u001b[39;49m\u001b[43m)\u001b[49m\u001b[43m)\u001b[49m\u001b[38;5;241;43m.\u001b[39;49m\u001b[43mto\u001b[49m\u001b[43m(\u001b[49m\u001b[43mDEVICE\u001b[49m\u001b[43m)\u001b[49m\n\u001b[0;32m    118\u001b[0m     m \u001b[38;5;241m=\u001b[39m lim_sup \u001b[38;5;241m-\u001b[39m lim_inf\n\u001b[0;32m    119\u001b[0m     unif \u001b[38;5;241m=\u001b[39m unif \u001b[38;5;241m*\u001b[39m m\n",
      "\u001b[1;31mKeyboardInterrupt\u001b[0m: "
     ]
    }
   ],
   "source": [
    "pipeline.train(seq_length, latent_dim, tscv_dl_list, discriminator, generator, discriminator_optim, generator_optim, loss_function, random_seed, num_epochs, DEVICE)"
   ]
  }
 ],
 "metadata": {
  "kernelspec": {
   "display_name": "Python 3 (ipykernel)",
   "language": "python",
   "name": "python3"
  },
  "language_info": {
   "codemirror_mode": {
    "name": "ipython",
    "version": 3
   },
   "file_extension": ".py",
   "mimetype": "text/x-python",
   "name": "python",
   "nbconvert_exporter": "python",
   "pygments_lexer": "ipython3",
   "version": "3.8.13"
  }
 },
 "nbformat": 4,
 "nbformat_minor": 5
}
