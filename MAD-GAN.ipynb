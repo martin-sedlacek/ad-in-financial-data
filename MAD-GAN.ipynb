{
 "cells": [
  {
   "cell_type": "code",
   "execution_count": 1,
   "id": "d637f29d",
   "metadata": {
    "pycharm": {
     "name": "#%%\n"
    }
   },
   "outputs": [],
   "source": [
    "import torch\n",
    "from torch import nn\n",
    "import data_utils\n",
    "from training.MADGAN_train import MadGanTrainingPipeline\n",
    "from models.MADGAN import Generator, Discriminator, AnomalyDetector\n",
    "from utils import evaluation\n",
    "import numpy as np\n",
    "import pandas as pd\n",
    "import matplotlib.pyplot as plt"
   ]
  },
  {
   "cell_type": "code",
   "execution_count": 2,
   "id": "24e5c82d",
   "metadata": {
    "pycharm": {
     "name": "#%%\n"
    }
   },
   "outputs": [
    {
     "name": "stdout",
     "output_type": "stream",
     "text": [
      "cuda\n"
     ]
    }
   ],
   "source": [
    "DEVICE = torch.device(\"cuda\" if torch.cuda.is_available() else \"cpu\")\n",
    "print(DEVICE)"
   ]
  },
  {
   "cell_type": "markdown",
   "id": "122afece",
   "metadata": {},
   "source": [
    "# Hyperparameters"
   ]
  },
  {
   "cell_type": "code",
   "execution_count": 3,
   "id": "30fd52f6",
   "metadata": {},
   "outputs": [],
   "source": [
    "# choose dataset (kdd99, aapl, gm, axp)\n",
    "dataset = \"kdd99\""
   ]
  },
  {
   "cell_type": "code",
   "execution_count": 4,
   "id": "ab1fbed1",
   "metadata": {
    "pycharm": {
     "name": "#%%\n"
    }
   },
   "outputs": [],
   "source": [
    "model_type = \"MAD-GAN\"\n",
    "num_features = 6\n",
    "seq_len = 30\n",
    "seq_stride = 10\n",
    "gen_seq_len = seq_len\n",
    "\n",
    "random_seed = 0\n",
    "num_epochs = 100\n",
    "batch_size = 256\n",
    "lr = 1e-5\n",
    "wd = 5e-7\n",
    "\n",
    "latent_dim = 100\n",
    "hidden_dim = 250\n",
    "anomaly_threshold = 0.5"
   ]
  },
  {
   "cell_type": "markdown",
   "id": "db595ed4",
   "metadata": {},
   "source": [
    "# Load data"
   ]
  },
  {
   "cell_type": "code",
   "execution_count": 5,
   "id": "bf394603",
   "metadata": {},
   "outputs": [],
   "source": [
    "if dataset == \"kdd99\":\n",
    "    train_dl, test_dl = data_utils.kdd99(seq_len, seq_stride, num_features, gen_seq_len, batch_size)\n",
    "else:\n",
    "    file_path = 'data/financial_data/Stocks/'+dataset+'.us.txt'\n",
    "    tscv_dl_list = data_utils.load_stock_as_crossvalidated_timeseries(file_path, seq_len, seq_stride, gen_seq_len, batch_size, normalise=True)"
   ]
  },
  {
   "cell_type": "markdown",
   "id": "6be19266",
   "metadata": {},
   "source": [
    "# Model"
   ]
  },
  {
   "cell_type": "code",
   "execution_count": 6,
   "id": "1791db61",
   "metadata": {
    "pycharm": {
     "name": "#%%\n"
    }
   },
   "outputs": [],
   "source": [
    "generator = Generator(input_dim=latent_dim,hidden_size=hidden_dim,output_dim=num_features).to(device=DEVICE)"
   ]
  },
  {
   "cell_type": "code",
   "execution_count": 7,
   "id": "dc5d61fc",
   "metadata": {
    "pycharm": {
     "name": "#%%\n"
    }
   },
   "outputs": [],
   "source": [
    "discriminator = Discriminator(input_dim=num_features,hidden_size=hidden_dim).to(device=DEVICE)"
   ]
  },
  {
   "cell_type": "markdown",
   "id": "79400ae4",
   "metadata": {},
   "source": [
    "# Loss and Optimizer"
   ]
  },
  {
   "cell_type": "code",
   "execution_count": 8,
   "id": "4184199c",
   "metadata": {
    "pycharm": {
     "name": "#%%\n"
    }
   },
   "outputs": [],
   "source": [
    "def loss_function(inputs, targets):\n",
    "    return nn.BCELoss()(inputs, targets)"
   ]
  },
  {
   "cell_type": "code",
   "execution_count": 9,
   "id": "13566602",
   "metadata": {
    "pycharm": {
     "name": "#%%\n"
    }
   },
   "outputs": [],
   "source": [
    "discriminator_optim = torch.optim.Adam(discriminator.parameters(), lr=lr, weight_decay=wd)\n",
    "generator_optim = torch.optim.Adam(generator.parameters(), lr=lr, weight_decay=wd)"
   ]
  },
  {
   "cell_type": "markdown",
   "id": "4e978b34",
   "metadata": {},
   "source": [
    "# Train"
   ]
  },
  {
   "cell_type": "code",
   "execution_count": 10,
   "id": "4b8e0254",
   "metadata": {},
   "outputs": [],
   "source": [
    "pipeline = MadGanTrainingPipeline()"
   ]
  },
  {
   "cell_type": "code",
   "execution_count": null,
   "id": "615f760e",
   "metadata": {},
   "outputs": [
    {
     "name": "stdout",
     "output_type": "stream",
     "text": [
      "Epoch 0: G_loss: 1.0056039821017873, D_loss_real: 0.8997917329723185, D_loss_fake: 0.539320739290931\n",
      "Epoch 1: G_loss: 0.9012151143767617, D_loss_real: 0.8551822410388427, D_loss_fake: 0.5479047230698846\n",
      "Epoch 2: G_loss: 0.6457203054969961, D_loss_real: 0.7357653288678689, D_loss_fake: 0.7694859986955469\n",
      "Epoch 3: G_loss: 0.731800566478209, D_loss_real: 0.6718300944024866, D_loss_fake: 0.6722782866521315\n",
      "Epoch 4: G_loss: 0.7432030008597807, D_loss_real: 0.7361921372738751, D_loss_fake: 0.669095099514181\n",
      "Epoch 5: G_loss: 0.6770262368700721, D_loss_real: 0.7397203518585725, D_loss_fake: 0.7315865245732394\n",
      "Epoch 6: G_loss: 0.7483059587803754, D_loss_real: 0.7018042896281589, D_loss_fake: 0.66213627836921\n",
      "Epoch 7: G_loss: 0.7408932211724195, D_loss_real: 0.6840869690884244, D_loss_fake: 0.6636316443031485\n",
      "Epoch 8: G_loss: 0.6979421648112211, D_loss_real: 0.7617347385395657, D_loss_fake: 0.7161209385503422\n",
      "Epoch 9: G_loss: 0.7313909376209432, D_loss_real: 0.7129828341982581, D_loss_fake: 0.6726598891344937\n",
      "Epoch 10: G_loss: 0.6980009173805063, D_loss_real: 0.6571309540759434, D_loss_fake: 0.7057825074954467\n",
      "Epoch 11: G_loss: 0.7449781323021109, D_loss_real: 0.7937023613940586, D_loss_fake: 0.6714777494018728\n",
      "Epoch 12: G_loss: 0.7080304560336199, D_loss_real: 0.6599939798766916, D_loss_fake: 0.7101105096665296\n",
      "Epoch 13: G_loss: 0.7395688712596893, D_loss_real: 0.6881644140590321, D_loss_fake: 0.6719480043107813\n",
      "Epoch 14: G_loss: 0.7402505088936199, D_loss_real: 0.7612693645737388, D_loss_fake: 0.6617300288243727\n",
      "Epoch 15: G_loss: 0.6496186708862132, D_loss_real: 0.6683503816073592, D_loss_fake: 0.7554306983947754\n",
      "Epoch 16: G_loss: 0.7906760229305787, D_loss_real: 0.7685820796272972, D_loss_fake: 0.6200713816014203\n",
      "Epoch 17: G_loss: 0.6776315995238044, D_loss_real: 0.6746122640642253, D_loss_fake: 0.7256646115671505\n",
      "Epoch 18: G_loss: 0.7034008142623034, D_loss_real: 0.7186234256083315, D_loss_fake: 0.6997285100546751\n",
      "Epoch 19: G_loss: 0.7823690606789155, D_loss_real: 0.7746949128129266, D_loss_fake: 0.62961624129252\n",
      "Epoch 20: G_loss: 0.6690936131910844, D_loss_real: 0.6131043667143041, D_loss_fake: 0.7287109017372131\n",
      "Epoch 21: G_loss: 0.7416571386835792, D_loss_real: 0.7630060997876253, D_loss_fake: 0.6705907092853026\n",
      "Epoch 22: G_loss: 0.7201734269207174, D_loss_real: 0.7097564697265625, D_loss_fake: 0.6820707367225127\n",
      "Epoch 23: G_loss: 0.6673804158514196, D_loss_real: 0.6519418868151579, D_loss_fake: 0.7326943275603381\n",
      "Epoch 24: G_loss: 0.7903297632932663, D_loss_real: 0.7571454367854379, D_loss_fake: 0.6214139633558013\n",
      "Epoch 25: G_loss: 0.6619062840938568, D_loss_real: 0.6612194446000186, D_loss_fake: 0.7380243073810231\n",
      "Epoch 26: G_loss: 0.7358126504854723, D_loss_real: 0.731490619616075, D_loss_fake: 0.6667779919776049\n",
      "Epoch 27: G_loss: 0.7160450626503337, D_loss_real: 0.7113375730135224, D_loss_fake: 0.6910464408722791\n",
      "Epoch 28: G_loss: 0.6792405616153371, D_loss_real: 0.6735641258684072, D_loss_fake: 0.7354533650658347\n",
      "Epoch 29: G_loss: 0.7518814067948948, D_loss_real: 0.746006513048302, D_loss_fake: 0.6531441195444627\n",
      "Epoch 30: G_loss: 0.6774510077454827, D_loss_real: 0.6990354632789438, D_loss_fake: 0.7278221428394318\n",
      "Epoch 31: G_loss: 0.7402279106053439, D_loss_real: 0.7379357476126064, D_loss_fake: 0.6611706847494299\n",
      "Epoch 32: G_loss: 0.6838308651338924, D_loss_real: 0.6595808145674792, D_loss_fake: 0.7134454090486874\n",
      "Epoch 33: G_loss: 0.7430624688213522, D_loss_real: 0.7125931203365325, D_loss_fake: 0.6578464605591514\n",
      "Epoch 34: G_loss: 0.7088189179247076, D_loss_real: 0.7041451242837039, D_loss_fake: 0.691210905530236\n",
      "Epoch 35: G_loss: 0.6797994117845189, D_loss_real: 0.7008576626127416, D_loss_fake: 0.7169280566952445\n",
      "Epoch 36: G_loss: 0.7236204719001597, D_loss_real: 0.74069358300079, D_loss_fake: 0.6725702266801488\n",
      "Epoch 37: G_loss: 0.6827846126122908, D_loss_real: 0.6716923633759672, D_loss_fake: 0.7156666091897271\n",
      "Epoch 38: G_loss: 0.7517450920560144, D_loss_real: 0.7305097558281638, D_loss_fake: 0.6504180534319444\n",
      "Epoch 39: G_loss: 0.6992735556580804, D_loss_real: 0.6801749939268286, D_loss_fake: 0.6972726299004122\n",
      "Epoch 40: G_loss: 0.7169010907411575, D_loss_real: 0.7148681635206396, D_loss_fake: 0.6826829766685313\n",
      "Epoch 41: G_loss: 0.7086140727454966, D_loss_real: 0.714910000833598, D_loss_fake: 0.6931820276108656\n",
      "Epoch 42: G_loss: 0.6969235214320096, D_loss_real: 0.6894526882605119, D_loss_fake: 0.7005330129103227\n",
      "Epoch 43: G_loss: 0.7007391596382314, D_loss_real: 0.6806867258115248, D_loss_fake: 0.6964523578231985\n",
      "Epoch 44: G_loss: 0.7372610447081652, D_loss_real: 0.6997184845534238, D_loss_fake: 0.6648778446696021\n",
      "Epoch 45: G_loss: 0.7070939023386348, D_loss_real: 0.6992068446495316, D_loss_fake: 0.6948741696097634\n",
      "Epoch 46: G_loss: 0.7629489912228151, D_loss_real: 0.7215709121389823, D_loss_fake: 0.664482299306176\n",
      "Epoch 47: G_loss: 0.7359572879292748, D_loss_real: 0.717963089861653, D_loss_fake: 0.6704260686581786\n",
      "Epoch 48: G_loss: 0.745536363937638, D_loss_real: 0.6884170552546328, D_loss_fake: 0.6801046917384321\n",
      "Epoch 49: G_loss: 0.8678418920798735, D_loss_real: 0.6982630800117146, D_loss_fake: 0.5978360438888723\n",
      "Epoch 50: G_loss: 0.6181731169874017, D_loss_real: 0.6098155705766244, D_loss_fake: 0.7902035797184164\n",
      "Epoch 51: G_loss: 0.8077265715057199, D_loss_real: 0.7975950850681826, D_loss_fake: 0.6215263904495673\n",
      "Epoch 52: G_loss: 0.755112592198632, D_loss_real: 0.690711828253486, D_loss_fake: 0.6544397386637602\n",
      "Epoch 53: G_loss: 0.7007042128931392, D_loss_real: 0.6384915863925761, D_loss_fake: 0.7030381907116283\n",
      "Epoch 54: G_loss: 0.8070527055046776, D_loss_real: 0.7464115909554742, D_loss_fake: 0.6256946949796243\n",
      "Epoch 55: G_loss: 0.8417978991161693, D_loss_real: 0.7055658652023835, D_loss_fake: 0.6109091035344384\n",
      "Epoch 56: G_loss: 0.7743723145940087, D_loss_real: 0.6319703205065293, D_loss_fake: 0.6419145302339033\n",
      "Epoch 57: G_loss: 0.8782261981205507, D_loss_real: 0.7660755324431441, D_loss_fake: 0.5789944846521724\n",
      "Epoch 58: G_loss: 0.7128187436949123, D_loss_real: 0.4996540503068404, D_loss_fake: 0.6998876959085465\n",
      "Epoch 59: G_loss: 0.9810370643030514, D_loss_real: 0.689044048298489, D_loss_fake: 0.5602151947942647\n",
      "Epoch 60: G_loss: 1.0357518797571008, D_loss_real: 0.5490307813340968, D_loss_fake: 0.5431731727990237\n",
      "Epoch 61: G_loss: 1.2156289401379499, D_loss_real: 0.6512244904244487, D_loss_fake: 0.5121112328361381\n",
      "Epoch 62: G_loss: 0.9581086575984955, D_loss_real: 0.7097574718973854, D_loss_fake: 0.6117251373150132\n",
      "Epoch 63: G_loss: 0.914033211090348, D_loss_real: 0.734262470359152, D_loss_fake: 0.6325807246294889\n",
      "Epoch 64: G_loss: 0.906048074093732, D_loss_real: 0.7139608438719403, D_loss_fake: 0.6061591783030467\n",
      "Epoch 65: G_loss: 0.9471652461723847, D_loss_real: 0.6198912232436917, D_loss_fake: 0.6007709081877362\n",
      "Epoch 66: G_loss: 0.835337218913165, D_loss_real: 0.5602176785130393, D_loss_fake: 0.61188189427961\n",
      "Epoch 67: G_loss: 1.139890654520555, D_loss_real: 0.5409103245559064, D_loss_fake: 0.5128212038766254\n",
      "Epoch 68: G_loss: 1.0091427635062824, D_loss_real: 0.670495186068795, D_loss_fake: 0.5783417270942168\n",
      "Epoch 69: G_loss: 0.9951552344994111, D_loss_real: 0.6620031721889973, D_loss_fake: 0.5907916440205141\n",
      "Epoch 70: G_loss: 0.9407761736349626, D_loss_real: 0.6730876435610381, D_loss_fake: 0.6034398772499778\n",
      "Epoch 71: G_loss: 1.0217526582154361, D_loss_real: 0.6494357264854691, D_loss_fake: 0.5518280399116603\n",
      "Epoch 72: G_loss: 0.944847420128909, D_loss_real: 0.6553791186348958, D_loss_fake: 0.6454553445631808\n",
      "Epoch 73: G_loss: 0.7745233332568949, D_loss_real: 0.6740291263569486, D_loss_fake: 0.6790282149206508\n",
      "Epoch 74: G_loss: 1.0048168418082324, D_loss_real: 0.6460222619501027, D_loss_fake: 0.5630659981207414\n",
      "Epoch 75: G_loss: 0.7164393308487805, D_loss_real: 0.6382793845100836, D_loss_fake: 0.7226438560269096\n",
      "Epoch 76: G_loss: 0.7339176416397095, D_loss_real: 0.6523315771059557, D_loss_fake: 0.7063350202007728\n",
      "Epoch 77: G_loss: 0.7492725949395787, D_loss_real: 0.7003775476054712, D_loss_fake: 0.6869669976559553\n",
      "Epoch 78: G_loss: 0.7462636912410909, D_loss_real: 0.7355465991930528, D_loss_fake: 0.6830751983956858\n",
      "Epoch 79: G_loss: 0.7189480551264503, D_loss_real: 0.7244142510674216, D_loss_fake: 0.6990527069026774\n"
     ]
    },
    {
     "name": "stdout",
     "output_type": "stream",
     "text": [
      "Epoch 80: G_loss: 0.6164416878060861, D_loss_real: 0.42176526104184714, D_loss_fake: 1.038955408334732\n",
      "Epoch 81: G_loss: 1.05760613842444, D_loss_real: 0.7053654785860669, D_loss_fake: 0.5481032918800007\n",
      "Epoch 82: G_loss: 0.8009182783690366, D_loss_real: 0.7299985538829457, D_loss_fake: 0.6400485810908404\n",
      "Epoch 83: G_loss: 0.7411862419410186, D_loss_real: 0.7127690756862813, D_loss_fake: 0.7029784482988444\n",
      "Epoch 84: G_loss: 0.7394547243009914, D_loss_real: 0.732217704707926, D_loss_fake: 0.6866128154776313\n",
      "Epoch 85: G_loss: 0.7280404126102274, D_loss_real: 0.7491680884903128, D_loss_fake: 0.68779144463214\n",
      "Epoch 86: G_loss: 0.7310237808661028, D_loss_real: 0.7432824725454504, D_loss_fake: 0.6785609998486258\n",
      "Epoch 87: G_loss: 0.7446167447350241, D_loss_real: 0.7361321541396054, D_loss_fake: 0.6683426495302808\n",
      "Epoch 88: G_loss: 0.7285148750651966, D_loss_real: 0.7124298970807682, D_loss_fake: 0.6828074088150805\n",
      "Epoch 89: G_loss: 0.7677741072394632, D_loss_real: 0.7232976593754509, D_loss_fake: 0.6541921366344798\n",
      "Epoch 90: G_loss: 0.7554035216569901, D_loss_real: 0.6831695880402219, D_loss_fake: 0.6755726783113046\n",
      "Epoch 91: G_loss: 0.8475652773271908, D_loss_real: 0.7133070772344415, D_loss_fake: 0.6324130724776875\n",
      "Epoch 92: G_loss: 0.8227240131659941, D_loss_real: 0.592839720167897, D_loss_fake: 0.678643730960109\n",
      "Epoch 93: G_loss: 0.881913009556857, D_loss_real: 0.6228569991209291, D_loss_fake: 0.6364545964381911\n",
      "Epoch 94: G_loss: 0.9504826930436221, D_loss_real: 0.6064987169748003, D_loss_fake: 0.5940838091752746\n",
      "Epoch 95: G_loss: 0.9523641927675768, D_loss_real: 0.5161323713308031, D_loss_fake: 0.5883299976587295\n",
      "Epoch 96: G_loss: 1.1085885768586938, D_loss_real: 0.5844728745181452, D_loss_fake: 0.48622992594133724\n",
      "Epoch 97: G_loss: 1.0242051994258707, D_loss_real: 0.5558917106044563, D_loss_fake: 0.5247539317066019\n",
      "Epoch 98: G_loss: 1.1445258397947657, D_loss_real: 0.6385528913106431, D_loss_fake: 0.47844394228675147\n",
      "Epoch 99: G_loss: 1.0245197870514609, D_loss_real: 0.5922466816719283, D_loss_fake: 0.5081395486539061\n",
      "Training time: 3370.757271528244\n"
     ]
    }
   ],
   "source": [
    "if dataset == \"kdd99\":\n",
    "    pipeline.train_kdd99(seq_len, latent_dim, train_dl, test_dl, discriminator, generator, discriminator_optim, generator_optim, anomaly_threshold, loss_function, random_seed, num_epochs, DEVICE)\n",
    "else:\n",
    "    pipeline.train_financial(seq_len, latent_dim, tscv_dl_list, discriminator, generator, discriminator_optim, generator_optim, anomaly_threshold, loss_function, random_seed, num_epochs, DEVICE)"
   ]
  }
 ],
 "metadata": {
  "kernelspec": {
   "display_name": "Python 3 (ipykernel)",
   "language": "python",
   "name": "python3"
  },
  "language_info": {
   "codemirror_mode": {
    "name": "ipython",
    "version": 3
   },
   "file_extension": ".py",
   "mimetype": "text/x-python",
   "name": "python",
   "nbconvert_exporter": "python",
   "pygments_lexer": "ipython3",
   "version": "3.8.13"
  }
 },
 "nbformat": 4,
 "nbformat_minor": 5
}
