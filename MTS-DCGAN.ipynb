{
 "cells": [
  {
   "cell_type": "code",
   "execution_count": 8,
   "id": "e9c8494f",
   "metadata": {},
   "outputs": [
    {
     "ename": "ImportError",
     "evalue": "cannot import name 'Generator' from 'models.MTSDCGAN' (C:\\Users\\marti\\Documents\\GitHub\\ml-for-financial-data\\models\\MTSDCGAN.py)",
     "output_type": "error",
     "traceback": [
      "\u001b[1;31m---------------------------------------------------------------------------\u001b[0m",
      "\u001b[1;31mImportError\u001b[0m                               Traceback (most recent call last)",
      "Input \u001b[1;32mIn [8]\u001b[0m, in \u001b[0;36m<cell line: 3>\u001b[1;34m()\u001b[0m\n\u001b[0;32m      1\u001b[0m \u001b[38;5;28;01mimport\u001b[39;00m \u001b[38;5;21;01mtorch\u001b[39;00m\n\u001b[0;32m      2\u001b[0m \u001b[38;5;28;01mimport\u001b[39;00m \u001b[38;5;21;01mdata_utils\u001b[39;00m\n\u001b[1;32m----> 3\u001b[0m \u001b[38;5;28;01mfrom\u001b[39;00m \u001b[38;5;21;01mmodels\u001b[39;00m\u001b[38;5;21;01m.\u001b[39;00m\u001b[38;5;21;01mMTSDCGAN\u001b[39;00m \u001b[38;5;28;01mimport\u001b[39;00m Generator, Discriminator\n\u001b[0;32m      4\u001b[0m \u001b[38;5;28;01mfrom\u001b[39;00m \u001b[38;5;21;01mtraining\u001b[39;00m\u001b[38;5;21;01m.\u001b[39;00m\u001b[38;5;21;01mMTSDCGAN_train\u001b[39;00m \u001b[38;5;28;01mimport\u001b[39;00m MTSDCGANTrainingPipeline\n",
      "\u001b[1;31mImportError\u001b[0m: cannot import name 'Generator' from 'models.MTSDCGAN' (C:\\Users\\marti\\Documents\\GitHub\\ml-for-financial-data\\models\\MTSDCGAN.py)"
     ]
    }
   ],
   "source": [
    "import torch\n",
    "import data_utils\n",
    "from models.MTSDCGAN import Generator, Discriminator\n",
    "from training.MTSDCGAN_train import MTSDCGANTrainingPipeline"
   ]
  },
  {
   "cell_type": "markdown",
   "id": "6483f50b",
   "metadata": {},
   "source": [
    "# Hyperparameters"
   ]
  },
  {
   "cell_type": "code",
   "execution_count": 5,
   "id": "d6846004",
   "metadata": {},
   "outputs": [],
   "source": [
    "# Data\n",
    "num_features = 7\n",
    "seq_length = 30\n",
    "seq_stride = 10\n",
    "gen_seq_len = seq_length\n",
    "batch_size = 8"
   ]
  },
  {
   "cell_type": "markdown",
   "id": "fdb652ee",
   "metadata": {},
   "source": [
    "# Load data"
   ]
  },
  {
   "cell_type": "code",
   "execution_count": 6,
   "id": "b70ddda0",
   "metadata": {},
   "outputs": [],
   "source": [
    "train_dl, test_dl = data_utils.kdd99(seq_length, seq_stride, num_features, gen_seq_len, batch_size)"
   ]
  },
  {
   "cell_type": "code",
   "execution_count": 7,
   "id": "a03b85fd",
   "metadata": {},
   "outputs": [],
   "source": [
    "file_path = './data/Stocks/aapl.us.txt'\n",
    "tscv_dl_list = data_utils.load_stock_as_crossvalidated_timeseries(file_path, seq_length, seq_stride, gen_seq_len, batch_size)"
   ]
  },
  {
   "cell_type": "markdown",
   "id": "f7df62f7",
   "metadata": {},
   "source": [
    "# Model"
   ]
  },
  {
   "cell_type": "code",
   "execution_count": null,
   "id": "614be9fb",
   "metadata": {},
   "outputs": [],
   "source": []
  },
  {
   "cell_type": "markdown",
   "id": "c00b60ed",
   "metadata": {},
   "source": [
    "# Training"
   ]
  },
  {
   "cell_type": "code",
   "execution_count": null,
   "id": "a262c033",
   "metadata": {},
   "outputs": [],
   "source": []
  }
 ],
 "metadata": {
  "kernelspec": {
   "display_name": "Python 3 (ipykernel)",
   "language": "python",
   "name": "python3"
  },
  "language_info": {
   "codemirror_mode": {
    "name": "ipython",
    "version": 3
   },
   "file_extension": ".py",
   "mimetype": "text/x-python",
   "name": "python",
   "nbconvert_exporter": "python",
   "pygments_lexer": "ipython3",
   "version": "3.8.13"
  }
 },
 "nbformat": 4,
 "nbformat_minor": 5
}
