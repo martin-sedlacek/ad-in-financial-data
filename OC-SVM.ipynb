{
 "cells": [
  {
   "cell_type": "code",
   "execution_count": 4,
   "id": "8d1c6780",
   "metadata": {},
   "outputs": [],
   "source": [
    "from pyod.models.ocsvm import OCSVM\n",
    "from training.pyod_train import train_kdd99, train_financial\n",
    "import utils.data_utils as data_utils"
   ]
  },
  {
   "cell_type": "markdown",
   "id": "275b87be",
   "metadata": {},
   "source": [
    "# Load Data"
   ]
  },
  {
   "cell_type": "code",
   "execution_count": 5,
   "id": "fb358db8",
   "metadata": {},
   "outputs": [],
   "source": [
    "# choose dataset (kdd99, aapl, gm, axp)\n",
    "dataset = \"axp\"\n",
    "# Data parameters\n",
    "num_features = 7\n",
    "seq_length = 1\n",
    "seq_stride = 1\n",
    "gen_seq_len = 1"
   ]
  },
  {
   "cell_type": "code",
   "execution_count": 6,
   "id": "af2bd9d5",
   "metadata": {},
   "outputs": [],
   "source": [
    "if dataset == \"kdd99\":\n",
    "    full_train_ll = data_utils.load_kdd99('data/kdd99/kdd99_train.npy', seq_length, seq_stride, num_features, gen_seq_len)\n",
    "    full_test_ll = data_utils.load_kdd99('data/kdd99/kdd99_test.npy', seq_length, seq_stride, num_features, gen_seq_len)\n",
    "    train_x = full_train_ll[0].squeeze()\n",
    "    train_y = full_train_ll[1].squeeze()\n",
    "    test_x = full_test_ll[0].squeeze()\n",
    "    test_y = full_test_ll[1].squeeze()\n",
    "else:\n",
    "    file_path = 'data/financial_data/Stocks/' + dataset + '.us.txt'\n",
    "    tscv_list = data_utils.load_stock_as_crossvalidated_timeseries(file_path, seq_length, seq_stride, gen_seq_len, bs=None, normalise=True, load_as_dl=False)"
   ]
  },
  {
   "cell_type": "markdown",
   "id": "dd3c9ece",
   "metadata": {},
   "source": [
    "# Model"
   ]
  },
  {
   "cell_type": "code",
   "execution_count": 7,
   "id": "ddadaef8",
   "metadata": {},
   "outputs": [],
   "source": [
    "model = OCSVM()"
   ]
  },
  {
   "cell_type": "markdown",
   "id": "2b722735",
   "metadata": {},
   "source": [
    "# Training"
   ]
  },
  {
   "cell_type": "code",
   "execution_count": 8,
   "id": "e78cefca",
   "metadata": {},
   "outputs": [
    {
     "name": "stdout",
     "output_type": "stream",
     "text": [
      "0.0001006298201984083 46570.7734375\n",
      "0.00010007402079510703 37278.03125\n",
      "0.00010029802079510703 3213.66357421875\n",
      "0.00010041724159021406 22771.31640625\n",
      "0.0001087487489783132 146434.53125\n",
      "EM: 0.0001020335704714299, MV: 51253.66318359375\n"
     ]
    }
   ],
   "source": [
    "if dataset == \"kdd99\":\n",
    "    train_kdd99(model, train_x, train_y, test_x, test_y)\n",
    "else:\n",
    "    train_financial(model, tscv_list)"
   ]
  }
 ],
 "metadata": {
  "kernelspec": {
   "display_name": "Python 3 (ipykernel)",
   "language": "python",
   "name": "python3"
  },
  "language_info": {
   "codemirror_mode": {
    "name": "ipython",
    "version": 3
   },
   "file_extension": ".py",
   "mimetype": "text/x-python",
   "name": "python",
   "nbconvert_exporter": "python",
   "pygments_lexer": "ipython3",
   "version": "3.8.13"
  }
 },
 "nbformat": 4,
 "nbformat_minor": 5
}
