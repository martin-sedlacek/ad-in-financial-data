{
 "cells": [
  {
   "cell_type": "code",
   "execution_count": 1,
   "metadata": {},
   "outputs": [],
   "source": [
    "import torch\n",
    "import data_utils\n",
    "from models.RSRAE import RSRLayer, RSRAutoEncoder\n",
    "from training.RSRAE_train import train_kdd99, train_financial\n",
    "import matplotlib.pyplot as plt"
   ]
  },
  {
   "cell_type": "code",
   "execution_count": 2,
   "metadata": {},
   "outputs": [
    {
     "name": "stdout",
     "output_type": "stream",
     "text": [
      "cpu\n"
     ]
    }
   ],
   "source": [
    "DEVICE = \"cpu\"#torch.device(\"cuda\" if torch.cuda.is_available() else \"cpu\")\n",
    "print(DEVICE)"
   ]
  },
  {
   "cell_type": "markdown",
   "metadata": {},
   "source": [
    "# Hyperparameters"
   ]
  },
  {
   "cell_type": "code",
   "execution_count": 3,
   "metadata": {},
   "outputs": [],
   "source": [
    "# choose dataset (kdd99, aapl, gm, axp)\n",
    "dataset = \"aapl\""
   ]
  },
  {
   "cell_type": "code",
   "execution_count": 4,
   "metadata": {},
   "outputs": [],
   "source": [
    "# Data\n",
    "num_features = 7\n",
    "seq_len = 1\n",
    "seq_stride = 10\n",
    "gen_seq_len = seq_len\n",
    "# Training\n",
    "random_seed = 0\n",
    "num_epochs = 50\n",
    "batch_size = 8\n",
    "lr = 0.01 # Peak lr\n",
    "wd = 5e-7\n",
    "# Model\n",
    "d = 128\n",
    "D = 128*4\n",
    "lambda1=1.0\n",
    "lambda2=1.0\n",
    "threshold=0.8"
   ]
  },
  {
   "cell_type": "markdown",
   "metadata": {},
   "source": [
    "# Load Data "
   ]
  },
  {
   "cell_type": "code",
   "execution_count": 5,
   "metadata": {},
   "outputs": [],
   "source": [
    "import numpy as np\n",
    "import torch.utils.data as data\n",
    "if dataset == \"kdd99\":\n",
    "    train_dl, test_dl = data_utils.kdd99(seq_len, seq_stride, num_features, gen_seq_len, batch_size)\n",
    "    steps_per_epoch=len(train_dl)\n",
    "else:\n",
    "    file_path = 'data/financial_data/Stocks/'+dataset+'.us.txt'\n",
    "    tscv_dl_list = data_utils.load_stock_as_crossvalidated_timeseries(file_path, seq_len, seq_stride, gen_seq_len, batch_size, normalise=True)\n",
    "    steps_per_epoch=len(tscv_dl_list[0][1])"
   ]
  },
  {
   "cell_type": "markdown",
   "metadata": {},
   "source": [
    "# Model"
   ]
  },
  {
   "cell_type": "code",
   "execution_count": 6,
   "metadata": {},
   "outputs": [
    {
     "name": "stdout",
     "output_type": "stream",
     "text": [
      "RSRAutoEncoder(\n",
      "  (encoder): Sequential(\n",
      "    (0): Linear(in_features=7, out_features=32, bias=True)\n",
      "    (1): LeakyReLU(negative_slope=0.01)\n",
      "    (2): Linear(in_features=32, out_features=64, bias=True)\n",
      "    (3): LeakyReLU(negative_slope=0.01)\n",
      "    (4): Linear(in_features=64, out_features=128, bias=True)\n",
      "    (5): LeakyReLU(negative_slope=0.01)\n",
      "    (6): Linear(in_features=128, out_features=512, bias=True)\n",
      "  )\n",
      "  (rsr): RSRLayer()\n",
      "  (decoder): Sequential(\n",
      "    (0): Linear(in_features=128, out_features=64, bias=True)\n",
      "    (1): LeakyReLU(negative_slope=0.01)\n",
      "    (2): Linear(in_features=64, out_features=32, bias=True)\n",
      "    (3): LeakyReLU(negative_slope=0.01)\n",
      "    (4): Linear(in_features=32, out_features=7, bias=True)\n",
      "  )\n",
      ")\n"
     ]
    }
   ],
   "source": [
    "model = RSRAutoEncoder(num_features*seq_len, d, D).to(DEVICE)\n",
    "print(model)"
   ]
  },
  {
   "cell_type": "markdown",
   "metadata": {},
   "source": [
    "# Loss and Optimizer"
   ]
  },
  {
   "cell_type": "code",
   "execution_count": 7,
   "metadata": {},
   "outputs": [],
   "source": [
    "optimizer = torch.optim.AdamW(model.parameters(), lr=lr)\n",
    "scheduler = torch.optim.lr_scheduler.OneCycleLR(optimizer, max_lr=lr, epochs=num_epochs, steps_per_epoch=steps_per_epoch)"
   ]
  },
  {
   "cell_type": "code",
   "execution_count": 8,
   "metadata": {},
   "outputs": [],
   "source": [
    "def RSRLoss(z,A,lambda1=lambda1, lambda2=lambda2, d=d, D=D):\n",
    "    Id = torch.eye(d) # identity matrix\n",
    "    z_hat = A @ z.view(z.size(0), D, 1)\n",
    "    AtAz = (A.T @ z_hat).squeeze(2)\n",
    "    \n",
    "    term1 = torch.sum(torch.norm(z - AtAz, p=2))\n",
    "    term2 = torch.norm(A @ A.T - Id, p=2) ** 2\n",
    "\n",
    "    return lambda1 * term1 + lambda2 * term2"
   ]
  },
  {
   "cell_type": "code",
   "execution_count": 9,
   "metadata": {},
   "outputs": [],
   "source": [
    "def L2p_loss(y_hat, y, p=1.0):\n",
    "    return torch.sum(torch.pow(torch.norm(y - y_hat, p=2), p))"
   ]
  },
  {
   "cell_type": "markdown",
   "metadata": {},
   "source": [
    "# Train & Evaluate"
   ]
  },
  {
   "cell_type": "code",
   "execution_count": 10,
   "metadata": {},
   "outputs": [
    {
     "name": "stdout",
     "output_type": "stream",
     "text": [
      "Epoch 0 loss: 13.272458934783936\n",
      "Epoch 1 loss: 11.637846755981446\n",
      "Epoch 2 loss: 10.653204488754273\n",
      "Epoch 3 loss: 10.249801397323608\n",
      "Epoch 4 loss: 10.093657445907592\n",
      "Epoch 5 loss: 9.925625228881836\n",
      "Epoch 6 loss: 9.75029788017273\n",
      "Epoch 7 loss: 9.613242959976196\n",
      "Epoch 8 loss: 9.510754203796386\n",
      "Epoch 9 loss: 9.436403894424439\n",
      "Epoch 10 loss: 9.378304147720337\n",
      "Epoch 11 loss: 9.317265796661378\n",
      "Epoch 12 loss: 9.253662204742431\n",
      "Epoch 13 loss: 9.197364807128906\n",
      "Epoch 14 loss: 9.14647421836853\n",
      "Epoch 15 loss: 9.095189714431763\n",
      "Epoch 16 loss: 9.042245674133301\n",
      "Epoch 17 loss: 8.987722635269165\n",
      "Epoch 18 loss: 8.934026908874511\n",
      "Epoch 19 loss: 8.87970199584961\n",
      "Epoch 20 loss: 8.822661399841309\n",
      "Epoch 21 loss: 8.764950942993163\n",
      "Epoch 22 loss: 8.706610774993896\n",
      "Epoch 23 loss: 8.648844575881958\n",
      "Epoch 24 loss: 8.592875051498414\n",
      "Epoch 25 loss: 8.540070199966431\n",
      "Epoch 26 loss: 8.491299390792847\n",
      "Epoch 27 loss: 8.448064231872559\n",
      "Epoch 28 loss: 8.410270500183106\n",
      "Epoch 29 loss: 8.37824034690857\n",
      "Epoch 30 loss: 8.351245450973511\n",
      "Epoch 31 loss: 8.327929878234864\n",
      "Epoch 32 loss: 8.307446146011353\n",
      "Epoch 33 loss: 8.288551521301269\n",
      "Epoch 34 loss: 8.269887733459473\n",
      "Epoch 35 loss: 8.250322246551514\n",
      "Epoch 36 loss: 8.229439306259156\n",
      "Epoch 37 loss: 8.205631637573243\n",
      "Epoch 38 loss: 8.177679300308228\n",
      "Epoch 39 loss: 8.146828508377075\n",
      "Epoch 40 loss: 8.111812162399293\n",
      "Epoch 41 loss: 8.073257398605346\n",
      "Epoch 42 loss: 8.03410782814026\n",
      "Epoch 43 loss: 7.99477596282959\n",
      "Epoch 44 loss: 7.958817958831787\n",
      "Epoch 45 loss: 7.924602127075195\n",
      "Epoch 46 loss: 7.88806939125061\n",
      "Epoch 47 loss: 7.856001520156861\n",
      "Epoch 48 loss: 7.815449285507202\n",
      "Epoch 49 loss: 7.777919912338257\n",
      "EM: 0.001789734203479652, MV: 3362.831008597374\n",
      "Epoch 0 loss: 7.738303714328342\n",
      "Epoch 1 loss: 7.702509509192573\n",
      "Epoch 2 loss: 7.586136606004503\n",
      "Epoch 3 loss: 7.558517509036594\n",
      "Epoch 4 loss: 7.506901158226861\n",
      "Epoch 5 loss: 7.495959334903294\n",
      "Epoch 6 loss: 7.467672401004368\n",
      "Epoch 7 loss: 7.43499739964803\n",
      "Epoch 8 loss: 7.38856840133667\n",
      "Epoch 9 loss: 7.36635078324212\n",
      "Epoch 10 loss: 7.352806117799547\n",
      "Epoch 11 loss: 7.347178591622247\n",
      "Epoch 12 loss: 7.343359655804104\n",
      "Epoch 13 loss: 7.3312488132052955\n",
      "Epoch 14 loss: 7.322130547629462\n",
      "Epoch 15 loss: 7.310371451907688\n",
      "Epoch 16 loss: 7.3071893321143255\n",
      "Epoch 17 loss: 7.302241325378418\n",
      "Epoch 18 loss: 7.295586559507582\n",
      "Epoch 19 loss: 7.287644068400065\n",
      "Epoch 20 loss: 7.285706122716268\n",
      "Epoch 21 loss: 7.276889297697279\n",
      "Epoch 22 loss: 7.274966319402059\n",
      "Epoch 23 loss: 7.267179992463854\n",
      "Epoch 24 loss: 7.261964029735989\n",
      "Epoch 25 loss: 7.259171962738037\n",
      "Epoch 26 loss: 7.25601855913798\n",
      "Epoch 27 loss: 7.2530478901333275\n",
      "Epoch 28 loss: 7.248871909247504\n",
      "Epoch 29 loss: 7.243573771582709\n",
      "Epoch 30 loss: 7.244070000118679\n",
      "Epoch 31 loss: 7.2363155417972145\n",
      "Epoch 32 loss: 7.2357297208574085\n",
      "Epoch 33 loss: 7.2336752149793835\n",
      "Epoch 34 loss: 7.227867656283909\n",
      "Epoch 35 loss: 7.225645674599542\n",
      "Epoch 36 loss: 7.223397970199585\n",
      "Epoch 37 loss: 7.221872965494792\n",
      "Epoch 38 loss: 7.216566509670681\n",
      "Epoch 39 loss: 7.215787198808458\n",
      "Epoch 40 loss: 7.208089590072632\n",
      "Epoch 41 loss: 7.20953647295634\n",
      "Epoch 42 loss: 7.207552565468682\n",
      "Epoch 43 loss: 7.203052176369561\n",
      "Epoch 44 loss: 7.199583954281277\n",
      "Epoch 45 loss: 7.194267166985406\n",
      "Epoch 46 loss: 7.193744712405735\n",
      "Epoch 47 loss: 7.190346161524455\n",
      "Epoch 48 loss: 7.183924277623494\n",
      "Epoch 49 loss: 7.183774603737725\n",
      "EM: 0.0024296948857142854, MV: 129.86194081907274\n",
      "Epoch 0 loss: 6.861283485706036\n",
      "Epoch 1 loss: 6.873566407423753\n",
      "Epoch 2 loss: 6.882736756251409\n",
      "Epoch 3 loss: 6.888855163867657\n",
      "Epoch 4 loss: 6.879881051870493\n",
      "Epoch 5 loss: 6.854893207550049\n",
      "Epoch 6 loss: 6.836371843631451\n",
      "Epoch 7 loss: 6.844490418067346\n",
      "Epoch 8 loss: 6.853996331875141\n",
      "Epoch 9 loss: 6.8373284706702595\n",
      "Epoch 10 loss: 6.819881879366362\n",
      "Epoch 11 loss: 6.815099000930786\n",
      "Epoch 12 loss: 6.805999334041889\n",
      "Epoch 13 loss: 6.802300673264724\n",
      "Epoch 14 loss: 6.793075543183547\n",
      "Epoch 15 loss: 6.771731560046856\n",
      "Epoch 16 loss: 6.7636745526240425\n",
      "Epoch 17 loss: 6.762224784264197\n",
      "Epoch 18 loss: 6.7534179504101095\n",
      "Epoch 19 loss: 6.742285159917978\n",
      "Epoch 20 loss: 6.737162755085872\n",
      "Epoch 21 loss: 6.729339838027954\n",
      "Epoch 22 loss: 6.726609413440411\n",
      "Epoch 23 loss: 6.723384802158062\n",
      "Epoch 24 loss: 6.7176896792191725\n",
      "Epoch 25 loss: 6.711206179398757\n",
      "Epoch 26 loss: 6.708596578011146\n",
      "Epoch 27 loss: 6.706085901993972\n",
      "Epoch 28 loss: 6.70600672868582\n",
      "Epoch 29 loss: 6.698385825523963\n",
      "Epoch 30 loss: 6.696552661749033\n",
      "Epoch 31 loss: 6.692267344548152\n",
      "Epoch 32 loss: 6.689534022257878\n",
      "Epoch 33 loss: 6.685546673261202\n",
      "Epoch 34 loss: 6.681843665929941\n",
      "Epoch 35 loss: 6.672597628373366\n",
      "Epoch 36 loss: 6.673049651659452\n",
      "Epoch 37 loss: 6.6703901290893555\n",
      "Epoch 38 loss: 6.665356305929331\n",
      "Epoch 39 loss: 6.6670460884387674\n",
      "Epoch 40 loss: 6.663514357346755\n",
      "Epoch 41 loss: 6.654443337367131\n",
      "Epoch 42 loss: 6.658324571756216\n",
      "Epoch 43 loss: 6.661283144584069\n",
      "Epoch 44 loss: 6.652439025732187\n",
      "Epoch 45 loss: 6.653633392774141\n",
      "Epoch 46 loss: 6.651141240046575\n",
      "Epoch 47 loss: 6.643080234527588\n",
      "Epoch 48 loss: 6.6463545469137335\n",
      "Epoch 49 loss: 6.645858911367563\n",
      "EM: 0.003675699667857143, MV: 370.9389772415161\n",
      "Epoch 0 loss: 6.181031816145953\n",
      "Epoch 1 loss: 6.172560818055096\n",
      "Epoch 2 loss: 6.1577220524058625\n",
      "Epoch 3 loss: 6.149722702362958\n",
      "Epoch 4 loss: 6.139015772763421\n",
      "Epoch 5 loss: 6.132112587199492\n",
      "Epoch 6 loss: 6.1263980024001174\n",
      "Epoch 7 loss: 6.120398984235876\n",
      "Epoch 8 loss: 6.116193399709814\n",
      "Epoch 9 loss: 6.113624832209418\n",
      "Epoch 10 loss: 6.109794918228598\n",
      "Epoch 11 loss: 6.107760864145615\n",
      "Epoch 12 loss: 6.105445258757648\n",
      "Epoch 13 loss: 6.1031675408868225\n",
      "Epoch 14 loss: 6.104125717106988\n",
      "Epoch 15 loss: 6.103268377921161\n",
      "Epoch 16 loss: 6.103188178118537\n",
      "Epoch 17 loss: 6.104024445309358\n",
      "Epoch 18 loss: 6.0995937866323136\n",
      "Epoch 19 loss: 6.101886833415312\n",
      "Epoch 20 loss: 6.096617481287788\n",
      "Epoch 21 loss: 6.094758763032801\n",
      "Epoch 22 loss: 6.087796491735122\n",
      "Epoch 23 loss: 6.089017222909367\n",
      "Epoch 24 loss: 6.082730966455796\n",
      "Epoch 25 loss: 6.0790842911776375\n",
      "Epoch 26 loss: 6.073344083393321\n",
      "Epoch 27 loss: 6.072668952100417\n",
      "Epoch 28 loss: 6.071350967182832\n",
      "Epoch 29 loss: 6.069635187878328\n",
      "Epoch 30 loss: 6.069255134638618\n",
      "Epoch 31 loss: 6.068846337935504\n",
      "Epoch 32 loss: 6.067485648043015\n",
      "Epoch 33 loss: 6.064469512771158\n",
      "Epoch 34 loss: 6.062223476522109\n",
      "Epoch 35 loss: 6.059446685454425\n",
      "Epoch 36 loss: 6.060029492658727\n",
      "Epoch 37 loss: 6.057197122012868\n",
      "Epoch 38 loss: 6.058142612962162\n",
      "Epoch 39 loss: 6.055353802793166\n",
      "Epoch 40 loss: 6.0578170173308425\n",
      "Epoch 41 loss: 6.054890471346238\n",
      "Epoch 42 loss: 6.055086100802702\n",
      "Epoch 43 loss: 6.052263484281652\n",
      "Epoch 44 loss: 6.053112072103164\n",
      "Epoch 45 loss: 6.053745059406056\n",
      "Epoch 46 loss: 6.054075675852158\n",
      "Epoch 47 loss: 6.053378119188197\n",
      "Epoch 48 loss: 6.0527833910549385\n",
      "Epoch 49 loss: 6.052251303897185\n",
      "EM: 0.002753578225, MV: 155.4254388809204\n",
      "Epoch 0 loss: 5.711714472089495\n",
      "Epoch 1 loss: 5.714712006705148\n",
      "Epoch 2 loss: 5.709988446462722\n",
      "Epoch 3 loss: 5.702457848049345\n",
      "Epoch 4 loss: 5.7203447705223445\n",
      "Epoch 5 loss: 5.701000610987346\n",
      "Epoch 6 loss: 5.699611516225906\n",
      "Epoch 7 loss: 5.705831539063227\n",
      "Epoch 8 loss: 5.705151830400739\n",
      "Epoch 9 loss: 5.709733849480038\n",
      "Epoch 10 loss: 5.715604850224087\n",
      "Epoch 11 loss: 5.697596822466169\n",
      "Epoch 12 loss: 5.701108330772037\n",
      "Epoch 13 loss: 5.684141102291289\n",
      "Epoch 14 loss: 5.687588827950614\n",
      "Epoch 15 loss: 5.680710792541504\n",
      "Epoch 16 loss: 5.678597223191034\n",
      "Epoch 17 loss: 5.677906694866362\n",
      "Epoch 18 loss: 5.679003829047794\n",
      "Epoch 19 loss: 5.67691877910069\n",
      "Epoch 20 loss: 5.67769489969526\n",
      "Epoch 21 loss: 5.672343265442621\n",
      "Epoch 22 loss: 5.674662147249494\n",
      "Epoch 23 loss: 5.668221802938552\n",
      "Epoch 24 loss: 5.670477526528495\n",
      "Epoch 25 loss: 5.667717490877424\n",
      "Epoch 26 loss: 5.669904288791475\n",
      "Epoch 27 loss: 5.668222915558588\n",
      "Epoch 28 loss: 5.667883191789899\n",
      "Epoch 29 loss: 5.662299519493466\n",
      "Epoch 30 loss: 5.663255805060977\n",
      "Epoch 31 loss: 5.66209906623477\n",
      "Epoch 32 loss: 5.664947214580717\n",
      "Epoch 33 loss: 5.662693398339408\n",
      "Epoch 34 loss: 5.667094117119198\n",
      "Epoch 35 loss: 5.669111092885335\n",
      "Epoch 36 loss: 5.6708230177561445\n",
      "Epoch 37 loss: 5.669951858974638\n",
      "Epoch 38 loss: 5.667266629991078\n",
      "Epoch 39 loss: 5.664852062861125\n",
      "Epoch 40 loss: 5.665117343266805\n",
      "Epoch 41 loss: 5.670158692768642\n",
      "Epoch 42 loss: 5.666418348039899\n",
      "Epoch 43 loss: 5.667469751267206\n"
     ]
    },
    {
     "name": "stdout",
     "output_type": "stream",
     "text": [
      "Epoch 44 loss: 5.665998118264334\n",
      "Epoch 45 loss: 5.659272579919724\n",
      "Epoch 46 loss: 5.652724981307983\n",
      "Epoch 47 loss: 5.655150651931763\n",
      "Epoch 48 loss: 5.6535611266181585\n",
      "Epoch 49 loss: 5.656589803241548\n",
      "EM: 0.0015176722056544345, MV: 88.99037034096719\n",
      "Final results - EM: 0.002433275837541103 MV: 821.6095471759702\n"
     ]
    }
   ],
   "source": [
    "if dataset == \"kdd99\":\n",
    "    train_kdd99(model, train_dl, test_dl, num_epochs, L2p_loss, RSRLoss, optimizer, scheduler, threshold, DEVICE)\n",
    "else:\n",
    "    train_financial(model, tscv_dl_list, num_epochs, L2p_loss, RSRLoss, optimizer, scheduler, threshold, DEVICE)"
   ]
  },
  {
   "cell_type": "markdown",
   "metadata": {},
   "source": [
    "# Generate Samples"
   ]
  },
  {
   "cell_type": "code",
   "execution_count": 26,
   "metadata": {},
   "outputs": [],
   "source": [
    "if dataset == \"kdd99\":\n",
    "    print(\"TBA\")\n",
    "else:\n",
    "    batch = next(iter(tscv_dl_list[4][1]))\n",
    "    x = batch[0].squeeze()\n",
    "    y = batch[1].squeeze()\n",
    "    enc, z, latent, A = model(x.to(DEVICE))\n",
    "    z = z.cpu().detach()"
   ]
  },
  {
   "cell_type": "code",
   "execution_count": 28,
   "metadata": {},
   "outputs": [
    {
     "data": {
      "text/plain": [
       "[<matplotlib.lines.Line2D at 0x2269ac2b640>,\n",
       " <matplotlib.lines.Line2D at 0x2269ac2b6a0>,\n",
       " <matplotlib.lines.Line2D at 0x2269ac2b7c0>,\n",
       " <matplotlib.lines.Line2D at 0x2269ac2b8e0>,\n",
       " <matplotlib.lines.Line2D at 0x2269ac2ba00>,\n",
       " <matplotlib.lines.Line2D at 0x2269ac2bb20>,\n",
       " <matplotlib.lines.Line2D at 0x2269ac2bc40>]"
      ]
     },
     "execution_count": 28,
     "metadata": {},
     "output_type": "execute_result"
    },
    {
     "data": {
      "image/png": "[encoded data removed]",
      "text/plain": [
       "<Figure size 432x288 with 1 Axes>"
      ]
     },
     "metadata": {
      "needs_background": "light"
     },
     "output_type": "display_data"
    }
   ],
   "source": [
    "plt.plot(z)"
   ]
  },
  {
   "cell_type": "code",
   "execution_count": 25,
   "metadata": {},
   "outputs": [
    {
     "data": {
      "text/plain": [
       "[<matplotlib.lines.Line2D at 0x22699bdd790>,\n",
       " <matplotlib.lines.Line2D at 0x22699bdd7f0>,\n",
       " <matplotlib.lines.Line2D at 0x22699bdd940>,\n",
       " <matplotlib.lines.Line2D at 0x22699bdda60>,\n",
       " <matplotlib.lines.Line2D at 0x22699bddb80>,\n",
       " <matplotlib.lines.Line2D at 0x22699bddca0>,\n",
       " <matplotlib.lines.Line2D at 0x22699bdddc0>]"
      ]
     },
     "execution_count": 25,
     "metadata": {},
     "output_type": "execute_result"
    },
    {
     "data": {
      "image/png": "[encoded data removed]",
      "text/plain": [
       "<Figure size 432x288 with 1 Axes>"
      ]
     },
     "metadata": {
      "needs_background": "light"
     },
     "output_type": "display_data"
    }
   ],
   "source": [
    "plt.plot(x)"
   ]
  }
 ],
 "metadata": {
  "kernelspec": {
   "display_name": "Python 3 (ipykernel)",
   "language": "python",
   "name": "python3"
  },
  "language_info": {
   "codemirror_mode": {
    "name": "ipython",
    "version": 3
   },
   "file_extension": ".py",
   "mimetype": "text/x-python",
   "name": "python",
   "nbconvert_exporter": "python",
   "pygments_lexer": "ipython3",
   "version": "3.8.13"
  }
 },
 "nbformat": 4,
 "nbformat_minor": 1
}
