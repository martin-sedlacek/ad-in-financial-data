{
 "cells": [
  {
   "cell_type": "code",
   "execution_count": null,
   "metadata": {},
   "outputs": [],
   "source": [
    "import torch\n",
    "import utils.data_utils as data_utils\n",
    "from models.RSRAE import RSRLayer, RSRAutoEncoder\n",
    "from training.RSRAE_train import train_kdd99, train_financial\n",
    "import matplotlib.pyplot as plt"
   ]
  },
  {
   "cell_type": "code",
   "execution_count": null,
   "metadata": {},
   "outputs": [],
   "source": [
    "DEVICE = \"cpu\"#torch.device(\"cuda\" if torch.cuda.is_available() else \"cpu\")\n",
    "print(DEVICE)"
   ]
  },
  {
   "cell_type": "markdown",
   "metadata": {},
   "source": [
    "# Hyperparameters"
   ]
  },
  {
   "cell_type": "code",
   "execution_count": null,
   "metadata": {},
   "outputs": [],
   "source": [
    "# choose dataset (kdd99, aapl, gm, axp)\n",
    "dataset = \"kdd99\""
   ]
  },
  {
   "cell_type": "code",
   "execution_count": null,
   "metadata": {},
   "outputs": [],
   "source": [
    "# Data\n",
    "num_features = 7\n",
    "seq_len = 1\n",
    "seq_stride = 10\n",
    "gen_seq_len = seq_len\n",
    "# Training\n",
    "random_seed = 0\n",
    "num_epochs = 50\n",
    "batch_size = 8\n",
    "lr = 0.01 # Peak lr\n",
    "wd = 5e-7\n",
    "# Model\n",
    "d = 128\n",
    "D = 128*4\n",
    "lambda1=1.0\n",
    "lambda2=1.0\n",
    "threshold=0.8"
   ]
  },
  {
   "cell_type": "markdown",
   "metadata": {},
   "source": [
    "# Load Data "
   ]
  },
  {
   "cell_type": "code",
   "execution_count": null,
   "metadata": {},
   "outputs": [],
   "source": [
    "import numpy as np\n",
    "import torch.utils.data as data\n",
    "if dataset == \"kdd99\":\n",
    "    train_dl, test_dl = data_utils.kdd99(seq_len, seq_stride, num_features, gen_seq_len, batch_size)\n",
    "    steps_per_epoch=len(train_dl)\n",
    "else:\n",
    "    file_path = 'data/financial_data/Stocks/'+dataset+'.us.txt'\n",
    "    tscv_dl_list = data_utils.load_stock_as_crossvalidated_timeseries(file_path, seq_len, seq_stride, gen_seq_len, batch_size, normalise=True)\n",
    "    steps_per_epoch=len(tscv_dl_list[0][1])"
   ]
  },
  {
   "cell_type": "markdown",
   "metadata": {},
   "source": [
    "# Model"
   ]
  },
  {
   "cell_type": "code",
   "execution_count": null,
   "metadata": {},
   "outputs": [],
   "source": [
    "model = RSRAutoEncoder(num_features*seq_len, d, D).to(DEVICE)\n",
    "print(model)"
   ]
  },
  {
   "cell_type": "markdown",
   "metadata": {},
   "source": [
    "# Loss and Optimizer"
   ]
  },
  {
   "cell_type": "code",
   "execution_count": null,
   "metadata": {},
   "outputs": [],
   "source": [
    "optimizer = torch.optim.AdamW(model.parameters(), lr=lr)\n",
    "scheduler = torch.optim.lr_scheduler.OneCycleLR(optimizer, max_lr=lr, epochs=num_epochs, steps_per_epoch=steps_per_epoch)"
   ]
  },
  {
   "cell_type": "code",
   "execution_count": null,
   "metadata": {},
   "outputs": [],
   "source": [
    "def RSRLoss(z,A,lambda1=lambda1, lambda2=lambda2, d=d, D=D):\n",
    "    Id = torch.eye(d) # identity matrix\n",
    "    z_hat = A @ z.view(z.size(0), D, 1)\n",
    "    AtAz = (A.T @ z_hat).squeeze(2)\n",
    "    \n",
    "    term1 = torch.sum(torch.norm(z - AtAz, p=2))\n",
    "    term2 = torch.norm(A @ A.T - Id, p=2) ** 2\n",
    "\n",
    "    return lambda1 * term1 + lambda2 * term2"
   ]
  },
  {
   "cell_type": "code",
   "execution_count": null,
   "metadata": {},
   "outputs": [],
   "source": [
    "def L2p_loss(y_hat, y, p=1.0):\n",
    "    return torch.sum(torch.pow(torch.norm(y - y_hat, p=2), p))"
   ]
  },
  {
   "cell_type": "markdown",
   "metadata": {},
   "source": [
    "# Train & Evaluate"
   ]
  },
  {
   "cell_type": "code",
   "execution_count": null,
   "metadata": {},
   "outputs": [],
   "source": [
    "if dataset == \"kdd99\":\n",
    "    train_kdd99(model, train_dl, test_dl, num_epochs, L2p_loss, RSRLoss, optimizer, scheduler, threshold, DEVICE)\n",
    "else:\n",
    "    train_financial(model, tscv_dl_list, num_epochs, L2p_loss, RSRLoss, optimizer, scheduler, threshold, DEVICE)"
   ]
  },
  {
   "cell_type": "markdown",
   "metadata": {},
   "source": [
    "# Generate Samples"
   ]
  },
  {
   "cell_type": "code",
   "execution_count": null,
   "metadata": {},
   "outputs": [],
   "source": [
    "if dataset == \"kdd99\":\n",
    "    batch = next(iter(test_dl))\n",
    "else:\n",
    "    batch = next(iter(tscv_dl_list[4][1]))\n",
    "x = batch[0].squeeze()\n",
    "y = batch[1].squeeze()\n",
    "enc, z, latent, A = model(x.to(DEVICE))\n",
    "z = z.cpu().detach()"
   ]
  },
  {
   "cell_type": "code",
   "execution_count": null,
   "metadata": {},
   "outputs": [],
   "source": [
    "plt.plot(z)"
   ]
  },
  {
   "cell_type": "code",
   "execution_count": null,
   "metadata": {},
   "outputs": [],
   "source": [
    "plt.plot(x)"
   ]
  }
 ],
 "metadata": {
  "kernelspec": {
   "display_name": "Python 3 (ipykernel)",
   "language": "python",
   "name": "python3"
  },
  "language_info": {
   "codemirror_mode": {
    "name": "ipython",
    "version": 3
   },
   "file_extension": ".py",
   "mimetype": "text/x-python",
   "name": "python",
   "nbconvert_exporter": "python",
   "pygments_lexer": "ipython3",
   "version": "3.8.13"
  }
 },
 "nbformat": 4,
 "nbformat_minor": 1
}
