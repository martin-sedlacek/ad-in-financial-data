{
 "cells": [
  {
   "cell_type": "markdown",
   "metadata": {},
   "source": [
    "# Initial setup"
   ]
  },
  {
   "cell_type": "code",
   "execution_count": null,
   "metadata": {
    "executionInfo": {
     "elapsed": 375,
     "status": "ok",
     "timestamp": 1646079030153,
     "user": {
      "displayName": "Martin Sedlacek",
      "photoUrl": "https://lh3.googleusercontent.com/a-/AOh14Gju19TlDpXtCMx8eR63MmP-uY5vmiu9noZCmgzY=s64",
      "userId": "01394071077629115142"
     },
     "user_tz": -60
    },
    "id": "KBW-jkcl7T9U"
   },
   "outputs": [],
   "source": [
    "import sys\n",
    "sys.path.append(\"../\")\n",
    "# import libraries\n",
    "from os import path, listdir\n",
    "import numpy as np\n",
    "import pandas as pd\n",
    "import seaborn\n",
    "import utils.data_utils as data_utils\n",
    "import matplotlib.pyplot as plt"
   ]
  },
  {
   "cell_type": "code",
   "execution_count": null,
   "metadata": {
    "executionInfo": {
     "elapsed": 3,
     "status": "ok",
     "timestamp": 1646079040494,
     "user": {
      "displayName": "Martin Sedlacek",
      "photoUrl": "https://lh3.googleusercontent.com/a-/AOh14Gju19TlDpXtCMx8eR63MmP-uY5vmiu9noZCmgzY=s64",
      "userId": "01394071077629115142"
     },
     "user_tz": -60
    },
    "id": "MTMcu0d9OKhg"
   },
   "outputs": [],
   "source": [
    "# display all columns in command outputs (e.g. head())\n",
    "pd.set_option('display.max_columns', None)"
   ]
  },
  {
   "cell_type": "markdown",
   "metadata": {
    "id": "8w1ylQ7JNnVi"
   },
   "source": [
    "# EDA\n"
   ]
  },
  {
   "cell_type": "code",
   "execution_count": null,
   "metadata": {},
   "outputs": [],
   "source": [
    "result = data_utils.load_financial(encode_ticker=True, raw=False)"
   ]
  },
  {
   "cell_type": "code",
   "execution_count": null,
   "metadata": {},
   "outputs": [],
   "source": [
    "print(result.describe())"
   ]
  },
  {
   "cell_type": "code",
   "execution_count": null,
   "metadata": {},
   "outputs": [],
   "source": [
    "print(result.head()) "
   ]
  },
  {
   "cell_type": "code",
   "execution_count": null,
   "metadata": {},
   "outputs": [],
   "source": [
    "print(result.shape)"
   ]
  },
  {
   "cell_type": "code",
   "execution_count": null,
   "metadata": {},
   "outputs": [],
   "source": [
    "print(result.info())"
   ]
  },
  {
   "cell_type": "code",
   "execution_count": null,
   "metadata": {},
   "outputs": [],
   "source": [
    "# This block prints the correlation table and heatmap for result df\n",
    "print(result.corr())\n",
    "\n",
    "seaborn.heatmap(result.corr());"
   ]
  },
  {
   "cell_type": "code",
   "execution_count": null,
   "metadata": {},
   "outputs": [],
   "source": [
    "plt.figure(figsize=(7,7)) \n",
    "plt.style.use('seaborn-whitegrid')\n",
    "plt.hist(result['SPX_Close'], bins=100, facecolor = '#2ab0ff', edgecolor='#169acf', linewidth=0.5, range=(-2,2))\n",
    "plt.title('SPX_Close') \n",
    "plt.xlabel('Bins') \n",
    "plt.ylabel('Values') \n",
    "plt.show()"
   ]
  },
  {
   "cell_type": "code",
   "execution_count": null,
   "metadata": {},
   "outputs": [],
   "source": [
    "plt.figure(figsize=(7,7)) \n",
    "plt.style.use('seaborn-whitegrid') \n",
    "plt.hist(result['Close'], bins=100, facecolor = '#33ff99', edgecolor='#169acf', linewidth=0.5, range=(-5e-04,-3e-04))\n",
    "plt.title('Close') \n",
    "plt.xlabel('Bins') \n",
    "plt.ylabel('Values') \n",
    "plt.show()"
   ]
  },
  {
   "cell_type": "code",
   "execution_count": null,
   "metadata": {},
   "outputs": [],
   "source": [
    "plt.figure(figsize=(7,7)) \n",
    "plt.style.use('seaborn-whitegrid') \n",
    "plt.hist(result['Volume'], bins=100, facecolor = '#ff8000', edgecolor='#169acf', linewidth=0.5, range=(-0.002,0.002))\n",
    "plt.title('Volume') \n",
    "plt.xlabel('Bins') \n",
    "plt.ylabel('Values') \n",
    "plt.show()"
   ]
  },
  {
   "cell_type": "code",
   "execution_count": null,
   "metadata": {},
   "outputs": [],
   "source": [
    "# Save file in csv format\n",
    "#normalised_result.to_csv('data/normalised_result.csv')"
   ]
  }
 ],
 "metadata": {
  "colab": {
   "authorship_tag": "ABX9TyMOCoUx0lhdt5AUHUTJcCJ6",
   "collapsed_sections": [],
   "mount_file_id": "1TttrXeq5PRIcvgddvR0NYDyPmn7rV3ae",
   "name": "EDA_1.ipynb",
   "provenance": []
  },
  "kernelspec": {
   "display_name": "Python 3 (ipykernel)",
   "language": "python",
   "name": "python3"
  },
  "language_info": {
   "codemirror_mode": {
    "name": "ipython",
    "version": 3
   },
   "file_extension": ".py",
   "mimetype": "text/x-python",
   "name": "python",
   "nbconvert_exporter": "python",
   "pygments_lexer": "ipython3",
   "version": "3.8.13"
  }
 },
 "nbformat": 4,
 "nbformat_minor": 1
}
