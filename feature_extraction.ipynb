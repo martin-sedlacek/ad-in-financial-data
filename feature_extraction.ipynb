{
 "cells": [
  {
   "cell_type": "markdown",
   "metadata": {
    "id": "RQSRcvjCOi0N"
   },
   "source": [
    "This notebook is dedicated to explortory data anlysis on the normalised dataset after feature extraction.\n",
    "\n",
    "It covers the following:\n",
    "*   Loading raw data into a single aggregated dataframe \n",
    "*   Apply feature extraction and normalisation\n",
    "*   Performing various EDA tasks on the resulting dataframe"
   ]
  },
  {
   "cell_type": "code",
   "execution_count": 1,
   "metadata": {
    "executionInfo": {
     "elapsed": 814,
     "status": "ok",
     "timestamp": 1646816759758,
     "user": {
      "displayName": "Martin Sedlacek",
      "photoUrl": "https://lh3.googleusercontent.com/a-/AOh14Gju19TlDpXtCMx8eR63MmP-uY5vmiu9noZCmgzY=s64",
      "userId": "01394071077629115142"
     },
     "user_tz": -60
    },
    "id": "VW8eOOEh9VvY"
   },
   "outputs": [],
   "source": [
    "# import libraries\n",
    "from os import path, listdir\n",
    "import numpy as np\n",
    "import pandas as pd\n",
    "import seaborn \n",
    "import matplotlib"
   ]
  },
  {
   "cell_type": "code",
   "execution_count": 15,
   "metadata": {
    "executionInfo": {
     "elapsed": 318292,
     "status": "ok",
     "timestamp": 1646817080833,
     "user": {
      "displayName": "Martin Sedlacek",
      "photoUrl": "https://lh3.googleusercontent.com/a-/AOh14Gju19TlDpXtCMx8eR63MmP-uY5vmiu9noZCmgzY=s64",
      "userId": "01394071077629115142"
     },
     "user_tz": -60
    },
    "id": "R7t3-y9T7GhL"
   },
   "outputs": [],
   "source": [
    "# This script loads the source datasets and produces a single joint pandas dataframe\n",
    "# it also applies feature extraction and normalisation to the data\n",
    "\n",
    "# display all columns in the dataset when printing (e.g. head())\n",
    "pd.set_option('display.max_columns', None)\n",
    "\n",
    "def load_sentiment_data():\n",
    "    data = pd.read_csv(\"./data/Combined_News_DJIA.csv\",usecols=['Date','Label'])\n",
    "    \n",
    "    # Set Date as index\n",
    "    data['Date'] = pd.to_datetime(data['Date'])\n",
    "    data.set_index('Date', inplace=True)\n",
    "    \n",
    "    # Rename column\n",
    "    data.columns = ['Sentiment']\n",
    "    return data\n",
    "\n",
    "\n",
    "def load_spx_data():\n",
    "    data = pd.read_csv(\"./data/spx.csv\")\n",
    "    \n",
    "    # Set Date as index\n",
    "    data['Date'] = pd.to_datetime(data['Date'])\n",
    "    data.set_index('Date', inplace=True)\n",
    "    \n",
    "    # Rename column\n",
    "    data.columns = ['SPX_Close']\n",
    "\n",
    "    # Relative change features\n",
    "    data[\"SPX_Close\"] = data[\"SPX_Close\"].pct_change()\n",
    "\n",
    "    return data\n",
    "\n",
    "\n",
    "# General method for loading Stock/ETF data from many .txt sources in a directory\n",
    "def load_txts(dir_path, ctr):\n",
    "    # Load the data for multiple .txt files\n",
    "    data = []\n",
    "    csv_paths = [dir_path+x for x in listdir(dir_path) if x.endswith('.txt') and path.getsize(dir_path+x) > 0]\n",
    "    for file_path in csv_paths:\n",
    "        df = pd.read_csv(file_path, usecols=['Date','Open','High','Low','Close','Volume'])\n",
    "        # Add 'Ticker' for the Stock/ETF as feature\n",
    "        #df['Ticker'] = file_path.replace(dir_path,'').replace('.txt', '')\n",
    "        df['Ticker'] = ctr\n",
    "        ctr += 1\n",
    "        data.append(df)\n",
    "    data = pd.concat(data, ignore_index=True)\n",
    "    data.reset_index(inplace=True, drop=True)\n",
    "    \n",
    "    # Set Date as index\n",
    "    data['Date'] = pd.to_datetime(data['Date'])\n",
    "    data.set_index('Date', inplace=True)\n",
    "    \n",
    "    # Relative change features\n",
    "    data[\"Open\"] = data[\"Open\"].pct_change()\n",
    "    data[\"Close\"] = data[\"Close\"].pct_change()\n",
    "    data[\"High\"] = data[\"High\"].pct_change()\n",
    "    data[\"Low\"] = data[\"Low\"].pct_change()\n",
    "    data[\"Volume\"] = data[\"Volume\"].pct_change()\n",
    "    return (ctr, data)\n",
    "\n",
    "\n",
    "# Filter rows that are no in the time range from a time series dataframe\n",
    "def filter_by_time(df):\n",
    "    return df.sort_index().loc['2008-09-01':'2016-07-01']\n",
    "\n",
    "\n",
    "# Load initial data\n",
    "sentiment = load_sentiment_data()\n",
    "spx = load_spx_data()\n",
    "c, stocks = load_txts('./data/Stocks/', 0)\n",
    "c, etfs = load_txts('./data/ETFs/', c)\n",
    "\n",
    "# Filter sentiment adn spx dataframes by time\n",
    "sentiment = filter_by_time(sentiment)\n",
    "spx = filter_by_time(spx)\n",
    "\n",
    "# Join the datasets into a single dataframe \"result\"\n",
    "stock_etf_df = pd.concat([etfs, stocks])\n",
    "stock_etf_df = filter_by_time(stock_etf_df)\n",
    "sentiment_labeled_df = stock_etf_df.join(sentiment, how=\"outer\")\n",
    "result = sentiment_labeled_df.join(spx, how=\"outer\")"
   ]
  },
  {
   "cell_type": "code",
   "execution_count": 16,
   "metadata": {
    "executionInfo": {
     "elapsed": 5916,
     "status": "ok",
     "timestamp": 1646817092039,
     "user": {
      "displayName": "Martin Sedlacek",
      "photoUrl": "https://lh3.googleusercontent.com/a-/AOh14Gju19TlDpXtCMx8eR63MmP-uY5vmiu9noZCmgzY=s64",
      "userId": "01394071077629115142"
     },
     "user_tz": -60
    },
    "id": "3A24UuN8DqGa"
   },
   "outputs": [],
   "source": [
    "# drop non-numerical values\n",
    "result = result.replace([np.inf, -np.inf], np.nan).dropna()"
   ]
  },
  {
   "cell_type": "code",
   "execution_count": 17,
   "metadata": {
    "executionInfo": {
     "elapsed": 1773,
     "status": "ok",
     "timestamp": 1646817224345,
     "user": {
      "displayName": "Martin Sedlacek",
      "photoUrl": "https://lh3.googleusercontent.com/a-/AOh14Gju19TlDpXtCMx8eR63MmP-uY5vmiu9noZCmgzY=s64",
      "userId": "01394071077629115142"
     },
     "user_tz": -60
    },
    "id": "dr6UhqaH2Vwu"
   },
   "outputs": [],
   "source": [
    "# apply Z-normalisation\n",
    "normalised_result = result.copy()\n",
    "\n",
    "columns = ['Open','Close','High','Low','Close','Volume','Sentiment','SPX_Close']\n",
    "for c in columns:\n",
    "  normalised_result[c] = (normalised_result[c]-normalised_result[c].mean())/normalised_result[c].std()"
   ]
  },
  {
   "cell_type": "code",
   "execution_count": 18,
   "metadata": {
    "colab": {
     "base_uri": "https://localhost:8080/"
    },
    "executionInfo": {
     "elapsed": 2458,
     "status": "ok",
     "timestamp": 1646817234939,
     "user": {
      "displayName": "Martin Sedlacek",
      "photoUrl": "https://lh3.googleusercontent.com/a-/AOh14Gju19TlDpXtCMx8eR63MmP-uY5vmiu9noZCmgzY=s64",
      "userId": "01394071077629115142"
     },
     "user_tz": -60
    },
    "id": "qr0JYNvmAD62",
    "outputId": "68468d78-e814-4841-a63b-92c38a95e11f"
   },
   "outputs": [
    {
     "name": "stdout",
     "output_type": "stream",
     "text": [
      "               Open          High           Low         Close        Volume  \\\n",
      "count  1.022181e+07  1.022181e+07  1.022181e+07  1.022181e+07  1.022181e+07   \n",
      "mean   9.529900e-16  1.654237e-15 -8.568433e-16  1.473696e-16  6.782016e-17   \n",
      "std    1.000000e+00  1.000000e+00  1.000000e+00  1.000000e+00  1.000000e+00   \n",
      "min   -2.634815e-03 -2.465120e-03 -2.663523e-03 -2.565992e-03 -2.276643e-03   \n",
      "25%   -4.757033e-04 -4.631358e-04 -4.555661e-04 -4.519282e-04 -1.674400e-03   \n",
      "50%   -4.533493e-04 -4.454356e-04 -4.357042e-04 -4.311271e-04 -1.385771e-03   \n",
      "75%   -4.304992e-04 -4.287613e-04 -4.153315e-04 -4.097930e-04 -9.427570e-04   \n",
      "max    3.032715e+03  3.056634e+03  3.062554e+03  3.071663e+03  3.160052e+03   \n",
      "\n",
      "             Ticker     Sentiment     SPX_Close  \n",
      "count  1.022181e+07  1.022181e+07  1.022181e+07  \n",
      "mean   4.332930e+03 -1.228065e-12  6.607008e-13  \n",
      "std    2.507437e+03  1.000000e+00  1.000000e+00  \n",
      "min    0.000000e+00 -1.071726e+00 -7.055598e+00  \n",
      "25%    2.113000e+03 -1.071726e+00 -3.708494e-01  \n",
      "50%    4.376000e+03  9.330738e-01  1.902200e-02  \n",
      "75%    6.539000e+03  9.330738e-01  4.234247e-01  \n",
      "max    8.506000e+03  9.330738e-01  8.978452e+00  \n"
     ]
    }
   ],
   "source": [
    "print(normalised_result.describe())"
   ]
  },
  {
   "cell_type": "code",
   "execution_count": 19,
   "metadata": {
    "colab": {
     "base_uri": "https://localhost:8080/"
    },
    "executionInfo": {
     "elapsed": 2437,
     "status": "ok",
     "timestamp": 1646077322648,
     "user": {
      "displayName": "Martin Sedlacek",
      "photoUrl": "https://lh3.googleusercontent.com/a-/AOh14Gju19TlDpXtCMx8eR63MmP-uY5vmiu9noZCmgzY=s64",
      "userId": "01394071077629115142"
     },
     "user_tz": -60
    },
    "id": "_cHPNWc21sUl",
    "outputId": "212945f1-f503-4310-e15c-b7dbbd6c7dc6"
   },
   "outputs": [
    {
     "name": "stdout",
     "output_type": "stream",
     "text": [
      "                Open      High       Low     Close    Volume  Ticker  \\\n",
      "Date                                                                   \n",
      "2008-09-02  0.002406 -0.027174 -0.005615 -0.005615 -0.540947     474   \n",
      "2008-09-02  0.022886  0.045758  0.027203  0.036847  0.925269    6936   \n",
      "2008-09-02  0.005627  0.026327  0.037480  0.027506  0.830504    2533   \n",
      "2008-09-02 -0.020137 -0.016573 -0.025445 -0.024176  0.266096    3777   \n",
      "2008-09-02 -0.012893  0.005794  0.000726  0.007873  0.374273    6525   \n",
      "\n",
      "            Sentiment  SPX_Close  \n",
      "Date                              \n",
      "2008-09-02        0.0  -0.004093  \n",
      "2008-09-02        0.0  -0.004093  \n",
      "2008-09-02        0.0  -0.004093  \n",
      "2008-09-02        0.0  -0.004093  \n",
      "2008-09-02        0.0  -0.004093  \n",
      "(10221814, 8)\n",
      "<class 'pandas.core.frame.DataFrame'>\n",
      "DatetimeIndex: 10221814 entries, 2008-09-02 to 2016-07-01\n",
      "Data columns (total 8 columns):\n",
      " #   Column     Dtype  \n",
      "---  ------     -----  \n",
      " 0   Open       float64\n",
      " 1   High       float64\n",
      " 2   Low        float64\n",
      " 3   Close      float64\n",
      " 4   Volume     float64\n",
      " 5   Ticker     int64  \n",
      " 6   Sentiment  float64\n",
      " 7   SPX_Close  float64\n",
      "dtypes: float64(7), int64(1)\n",
      "memory usage: 701.9 MB\n",
      "None\n",
      "               Open          High           Low         Close        Volume  \\\n",
      "count  1.022181e+07  1.022181e+07  1.022181e+07  1.022181e+07  1.022181e+07   \n",
      "mean   2.078186e-01  2.205321e-01  1.961473e-01  2.019206e-01  1.520797e+00   \n",
      "std    4.584073e+02  4.950932e+02  4.490846e+02  4.683552e+02  1.107243e+03   \n",
      "min   -1.000000e+00 -9.999318e-01 -1.000000e+00 -9.998750e-01 -1.000000e+00   \n",
      "25%   -1.024721e-02 -8.763227e-03 -8.440458e-03 -9.742300e-03 -3.331702e-01   \n",
      "50%    0.000000e+00  0.000000e+00  4.791950e-04  0.000000e+00 -1.358775e-02   \n",
      "75%    1.047465e-02  8.255366e-03  9.628261e-03  9.991946e-03  4.769361e-01   \n",
      "max    1.390219e+06  1.513319e+06  1.375346e+06  1.438630e+06  3.498946e+06   \n",
      "\n",
      "             Ticker     Sentiment     SPX_Close  \n",
      "count  1.022181e+07  1.022181e+07  1.022181e+07  \n",
      "mean   4.332930e+03  5.345802e-01  3.641897e-04  \n",
      "std    2.507437e+03  4.988028e-01  1.285702e-02  \n",
      "min    0.000000e+00  0.000000e+00 -9.034980e-02  \n",
      "25%    2.113000e+03  0.000000e+00 -4.403830e-03  \n",
      "50%    4.376000e+03  1.000000e+00  6.087560e-04  \n",
      "75%    6.539000e+03  1.000000e+00  5.808171e-03  \n",
      "max    8.506000e+03  1.000000e+00  1.158004e-01  \n"
     ]
    }
   ],
   "source": [
    "# Basic EDA on the result df\n",
    "print(result.head()) \n",
    "print(result.shape)\n",
    "print(result.info())\n",
    "print(result.describe())"
   ]
  },
  {
   "cell_type": "code",
   "execution_count": 14,
   "metadata": {
    "colab": {
     "base_uri": "https://localhost:8080/",
     "height": 606
    },
    "executionInfo": {
     "elapsed": 4218,
     "status": "ok",
     "timestamp": 1646817264276,
     "user": {
      "displayName": "Martin Sedlacek",
      "photoUrl": "https://lh3.googleusercontent.com/a-/AOh14Gju19TlDpXtCMx8eR63MmP-uY5vmiu9noZCmgzY=s64",
      "userId": "01394071077629115142"
     },
     "user_tz": -60
    },
    "id": "Z2vwhldNDDpH",
    "outputId": "1d8315e5-6b0c-4c81-9ca4-7ab0f0aa05d1"
   },
   "outputs": [
    {
     "name": "stdout",
     "output_type": "stream",
     "text": [
      "                   Open      High           Low     Close        Volume  \\\n",
      "Open       1.000000e+00  0.999680  9.993682e-01  0.999013  5.620245e-07   \n",
      "High       9.996796e-01  1.000000  9.998348e-01  0.999730  1.276292e-06   \n",
      "Low        9.993682e-01  0.999835  1.000000e+00  0.999946  4.169018e-07   \n",
      "Close      9.990127e-01  0.999730  9.999457e-01  1.000000  1.204353e-06   \n",
      "Volume     5.620245e-07  0.000001  4.169018e-07  0.000001  1.000000e+00   \n",
      "Sentiment -2.495887e-04 -0.000257 -2.592330e-04 -0.000257  2.985378e-04   \n",
      "SPX_Close -1.869198e-04 -0.000186 -1.760787e-04 -0.000171  1.968185e-04   \n",
      "\n",
      "           Sentiment  SPX_Close  \n",
      "Open       -0.000250  -0.000187  \n",
      "High       -0.000257  -0.000186  \n",
      "Low        -0.000259  -0.000176  \n",
      "Close      -0.000257  -0.000171  \n",
      "Volume      0.000299   0.000197  \n",
      "Sentiment   1.000000   0.622678  \n",
      "SPX_Close   0.622678   1.000000  \n"
     ]
    },
    {
     "data": {
      "image/png": "[encoded data removed]",
      "text/plain": [
       "<Figure size 432x288 with 2 Axes>"
      ]
     },
     "metadata": {
      "needs_background": "light"
     },
     "output_type": "display_data"
    }
   ],
   "source": [
    "# This block prints the correlation table and heatmap for result df\n",
    "print(result.corr())\n",
    "\n",
    "seaborn.heatmap(result.corr());"
   ]
  },
  {
   "cell_type": "code",
   "execution_count": 15,
   "metadata": {
    "colab": {
     "base_uri": "https://localhost:8080/",
     "height": 294
    },
    "executionInfo": {
     "elapsed": 1016,
     "status": "ok",
     "timestamp": 1646050231803,
     "user": {
      "displayName": "Martin Sedlacek",
      "photoUrl": "https://lh3.googleusercontent.com/a-/AOh14Gju19TlDpXtCMx8eR63MmP-uY5vmiu9noZCmgzY=s64",
      "userId": "01394071077629115142"
     },
     "user_tz": -60
    },
    "id": "obENg8f8DD9U",
    "outputId": "82f1a7cb-b02b-4993-a61c-f4cc1769b990"
   },
   "outputs": [
    {
     "data": {
      "text/plain": [
       "<AxesSubplot:>"
      ]
     },
     "execution_count": 15,
     "metadata": {},
     "output_type": "execute_result"
    },
    {
     "data": {
      "image/png": "[encoded data removed]",
      "text/plain": [
       "<Figure size 432x288 with 1 Axes>"
      ]
     },
     "metadata": {
      "needs_background": "light"
     },
     "output_type": "display_data"
    }
   ],
   "source": [
    "result.SPX_Close.hist(bins=50)"
   ]
  },
  {
   "cell_type": "code",
   "execution_count": 16,
   "metadata": {
    "colab": {
     "base_uri": "https://localhost:8080/",
     "height": 294
    },
    "executionInfo": {
     "elapsed": 1192,
     "status": "ok",
     "timestamp": 1646048104035,
     "user": {
      "displayName": "Martin Sedlacek",
      "photoUrl": "https://lh3.googleusercontent.com/a-/AOh14Gju19TlDpXtCMx8eR63MmP-uY5vmiu9noZCmgzY=s64",
      "userId": "01394071077629115142"
     },
     "user_tz": -60
    },
    "id": "Qmloz0CtGONN",
    "outputId": "e8cef351-4dc5-40d4-df6f-bbb41742ee1a"
   },
   "outputs": [
    {
     "data": {
      "text/plain": [
       "<AxesSubplot:>"
      ]
     },
     "execution_count": 16,
     "metadata": {},
     "output_type": "execute_result"
    },
    {
     "data": {
      "image/png": "[encoded data removed]",
      "text/plain": [
       "<Figure size 432x288 with 1 Axes>"
      ]
     },
     "metadata": {
      "needs_background": "light"
     },
     "output_type": "display_data"
    }
   ],
   "source": [
    "result.Volume.hist(bins=50,range=(-5,5))"
   ]
  },
  {
   "cell_type": "code",
   "execution_count": 17,
   "metadata": {
    "id": "dzNePI0EGQ91"
   },
   "outputs": [
    {
     "data": {
      "text/plain": [
       "<AxesSubplot:>"
      ]
     },
     "execution_count": 17,
     "metadata": {},
     "output_type": "execute_result"
    },
    {
     "data": {
      "image/png": "[encoded data removed]",
      "text/plain": [
       "<Figure size 432x288 with 1 Axes>"
      ]
     },
     "metadata": {
      "needs_background": "light"
     },
     "output_type": "display_data"
    }
   ],
   "source": [
    "result.Close.hist(bins=50,range=(-0.2,0.2))"
   ]
  },
  {
   "cell_type": "code",
   "execution_count": 18,
   "metadata": {
    "colab": {
     "base_uri": "https://localhost:8080/",
     "height": 294
    },
    "executionInfo": {
     "elapsed": 1002,
     "status": "ok",
     "timestamp": 1646080638370,
     "user": {
      "displayName": "Martin Sedlacek",
      "photoUrl": "https://lh3.googleusercontent.com/a-/AOh14Gju19TlDpXtCMx8eR63MmP-uY5vmiu9noZCmgzY=s64",
      "userId": "01394071077629115142"
     },
     "user_tz": -60
    },
    "id": "EeROOh7nC7Ei",
    "outputId": "2692d2eb-ca1b-46a6-cf91-fbfb4dc35fc0"
   },
   "outputs": [
    {
     "data": {
      "text/plain": [
       "<AxesSubplot:>"
      ]
     },
     "execution_count": 18,
     "metadata": {},
     "output_type": "execute_result"
    },
    {
     "data": {
      "image/png": "[encoded data removed]",
      "text/plain": [
       "<Figure size 432x288 with 1 Axes>"
      ]
     },
     "metadata": {
      "needs_background": "light"
     },
     "output_type": "display_data"
    }
   ],
   "source": [
    "normalised_result.Volume.hist(bins=50,range=(-0.01,0.01))"
   ]
  },
  {
   "cell_type": "code",
   "execution_count": 20,
   "metadata": {
    "executionInfo": {
     "elapsed": 190079,
     "status": "ok",
     "timestamp": 1646817566561,
     "user": {
      "displayName": "Martin Sedlacek",
      "photoUrl": "https://lh3.googleusercontent.com/a-/AOh14Gju19TlDpXtCMx8eR63MmP-uY5vmiu9noZCmgzY=s64",
      "userId": "01394071077629115142"
     },
     "user_tz": -60
    },
    "id": "FvhSpcmM9Vsm"
   },
   "outputs": [],
   "source": [
    "normalised_result.to_csv('./data/normalised_result.csv')"
   ]
  }
 ],
 "metadata": {
  "colab": {
   "authorship_tag": "ABX9TyMWg0rA1DHj48aTT5SPBDin",
   "mount_file_id": "1EYv1QlQLJmHCR1_pI2q4-gbaguzF9j9i",
   "name": "EDA_2.ipynb",
   "provenance": []
  },
  "kernelspec": {
   "display_name": "Python 3 (ipykernel)",
   "language": "python",
   "name": "python3"
  },
  "language_info": {
   "codemirror_mode": {
    "name": "ipython",
    "version": 3
   },
   "file_extension": ".py",
   "mimetype": "text/x-python",
   "name": "python",
   "nbconvert_exporter": "python",
   "pygments_lexer": "ipython3",
   "version": "3.9.7"
  }
 },
 "nbformat": 4,
 "nbformat_minor": 1
}
