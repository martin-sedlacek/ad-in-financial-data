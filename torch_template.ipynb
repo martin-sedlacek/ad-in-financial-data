{
 "cells": [
  {
   "cell_type": "code",
   "execution_count": 1,
   "id": "a880c0bf",
   "metadata": {},
   "outputs": [
    {
     "ename": "ModuleNotFoundError",
     "evalue": "No module named 'eval'",
     "output_type": "error",
     "traceback": [
      "\u001b[1;31m---------------------------------------------------------------------------\u001b[0m",
      "\u001b[1;31mModuleNotFoundError\u001b[0m                       Traceback (most recent call last)",
      "Input \u001b[1;32mIn [1]\u001b[0m, in \u001b[0;36m<cell line: 4>\u001b[1;34m()\u001b[0m\n\u001b[0;32m      2\u001b[0m \u001b[38;5;28;01mfrom\u001b[39;00m \u001b[38;5;21;01mtorch\u001b[39;00m \u001b[38;5;28;01mimport\u001b[39;00m nn\n\u001b[0;32m      3\u001b[0m \u001b[38;5;28;01mimport\u001b[39;00m \u001b[38;5;21;01mdata_utils\u001b[39;00m\n\u001b[1;32m----> 4\u001b[0m \u001b[38;5;28;01mimport\u001b[39;00m \u001b[38;5;21;01meval\u001b[39;00m\n\u001b[0;32m      5\u001b[0m \u001b[38;5;28;01mimport\u001b[39;00m \u001b[38;5;21;01mauxiliary\u001b[39;00m\n\u001b[0;32m      6\u001b[0m \u001b[38;5;28;01mfrom\u001b[39;00m \u001b[38;5;21;01mauxiliary\u001b[39;00m \u001b[38;5;28;01mimport\u001b[39;00m Accumulator\n",
      "\u001b[1;31mModuleNotFoundError\u001b[0m: No module named 'eval'"
     ]
    }
   ],
   "source": [
    "import torch\n",
    "from torch import nn\n",
    "import data_utils\n",
    "import eval\n",
    "import auxiliary\n",
    "from auxiliary import Accumulator"
   ]
  },
  {
   "cell_type": "markdown",
   "id": "42418d0b",
   "metadata": {},
   "source": [
    "# Load data"
   ]
  },
  {
   "cell_type": "code",
   "execution_count": null,
   "id": "b71e1ad2",
   "metadata": {},
   "outputs": [],
   "source": [
    "#Initialize data loaders\n",
    "batch_size = 256\n",
    "data_loaders = data_utils.load_financial(batch_size)"
   ]
  },
  {
   "cell_type": "markdown",
   "id": "08167e99",
   "metadata": {},
   "source": [
    "# Model"
   ]
  },
  {
   "cell_type": "code",
   "execution_count": null,
   "id": "8f23e187",
   "metadata": {},
   "outputs": [],
   "source": [
    "# Hyperparameters\n",
    "wd = 0.0005\n",
    "lr = 0.1"
   ]
  },
  {
   "cell_type": "code",
   "execution_count": null,
   "id": "1b5b7c4f",
   "metadata": {},
   "outputs": [],
   "source": [
    "class Net(torch.nn.Module):\n",
    "    def __init__(self):\n",
    "        super(Net, self).__init__()\n",
    "\n",
    "    def forward(self,x):\n",
    "        return x"
   ]
  },
  {
   "cell_type": "markdown",
   "id": "ea1e12e4",
   "metadata": {},
   "source": [
    "# Intialization"
   ]
  },
  {
   "cell_type": "code",
   "execution_count": null,
   "id": "fc310de8",
   "metadata": {},
   "outputs": [],
   "source": [
    "model = Net()"
   ]
  },
  {
   "cell_type": "code",
   "execution_count": null,
   "id": "b1e9640c",
   "metadata": {},
   "outputs": [],
   "source": [
    "def init_weights(m):\n",
    "    if type(m) == nn.Linear: # by checking thr type we can init different layers in different ways\n",
    "        torch.nn.init.xavier_uniform_(m.weight)    \n",
    "\n",
    "model.apply(init_weights);"
   ]
  },
  {
   "cell_type": "markdown",
   "id": "530954ca",
   "metadata": {},
   "source": [
    "# Loss and optimizer\n"
   ]
  },
  {
   "cell_type": "code",
   "execution_count": null,
   "id": "f95f0044",
   "metadata": {},
   "outputs": [],
   "source": [
    "loss = nn.CrossEntropyLoss()\n",
    "optimizer = torch.optim.SGD(model.parameters(), weight_decay=wd, lr=lr)"
   ]
  },
  {
   "cell_type": "markdown",
   "id": "10701bfc",
   "metadata": {},
   "source": [
    "# Training"
   ]
  },
  {
   "cell_type": "code",
   "execution_count": null,
   "id": "778fafb8",
   "metadata": {},
   "outputs": [],
   "source": [
    "def train_epoch(net, data, optimizer, batch_size=256, num_outputs=10):  \n",
    "    \"\"\"The training function for one epoch.\"\"\"\n",
    "    # Set the model to training mode\n",
    "    if isinstance(net, torch.nn.Module):\n",
    "        net.train()\n",
    "\n",
    "    # Metrics\n",
    "    train_metric = Accumulator(3)\n",
    "    test_metric = Accumulator(2)\n",
    "        \n",
    "    # Go over each fold\n",
    "    for fold in data:\n",
    "        train_iter = fold[0]  \n",
    "        test_iter = fold[1]\n",
    "        #Train\n",
    "        for X in train_iter:\n",
    "            y_hat = net(X)\n",
    "            y = None # no ground truth / label\n",
    "            l = loss(y_hat, y)\n",
    "            optimizer.zero_grad()\n",
    "            l.backward()\n",
    "            optimizer.step()\n",
    "            train_metric.add(float(l) * len(y), eval.accuracy(y_hat, y), y.size().numel())\n",
    "        #Evaluate\n",
    "        for X in test_iter:\n",
    "            for _, (X, y) in enumerate(test_iter):\n",
    "                test_metric.add(eval.accuracy(net(X), y), y.numel())\n",
    "    \n",
    "    # Return training loss, training accuracy, and test accuracy\n",
    "    return train_metric[0] / train_metric[2], train_metric[1] / train_metric[2], test_metric[0] / test_metric[1]"
   ]
  },
  {
   "cell_type": "code",
   "execution_count": null,
   "id": "75389bed",
   "metadata": {},
   "outputs": [],
   "source": [
    "def train(net, data, loss, num_epochs, updater): \n",
    "    animator = auxiliary.Animator(xlabel='epoch', xlim=[1, num_epochs], ylim=[0.0, 1.0],legend=['train loss', 'train acc', 'test acc'])\n",
    "    for epoch in range(num_epochs):\n",
    "        metrics = train_epoch(net, data, loss, updater)\n",
    "        animator.add(epoch + 1, metrics)\n",
    "    train_loss, train_acc, test_acc = metrics\n",
    "    print(train_loss, train_acc, test_acc)\n",
    "    assert train_loss < 0.5, train_loss\n",
    "    assert train_acc <= 1 and train_acc > 0.7, train_acc\n",
    "    assert test_acc <= 1 and test_acc > 0.7, test_acc"
   ]
  },
  {
   "cell_type": "markdown",
   "id": "5749699b",
   "metadata": {},
   "source": [
    "# Execution"
   ]
  },
  {
   "cell_type": "code",
   "execution_count": null,
   "id": "0fb58cc5",
   "metadata": {},
   "outputs": [],
   "source": [
    "num_epochs = 30\n",
    "train(model, data_loaders, loss, num_epochs, optimizer)"
   ]
  }
 ],
 "metadata": {
  "kernelspec": {
   "display_name": "Python 3 (ipykernel)",
   "language": "python",
   "name": "python3"
  },
  "language_info": {
   "codemirror_mode": {
    "name": "ipython",
    "version": 3
   },
   "file_extension": ".py",
   "mimetype": "text/x-python",
   "name": "python",
   "nbconvert_exporter": "python",
   "pygments_lexer": "ipython3",
   "version": "3.8.13"
  }
 },
 "nbformat": 4,
 "nbformat_minor": 5
}
